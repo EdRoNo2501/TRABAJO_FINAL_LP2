{
 "cells": [
  {
   "cell_type": "markdown",
   "id": "5d24e975",
   "metadata": {},
   "source": [
    "# <center>Plataforma financiera BRCP </center>"
   ]
  },
  {
   "cell_type": "code",
   "execution_count": 8,
   "id": "6e9d2bd5",
   "metadata": {},
   "outputs": [],
   "source": [
    "#pip install mplcyberpunk\n",
    "# conda install mplcyberpunk\n",
    "\n",
    "import numpy as np\n",
    "import pandas as pd\n",
    "import matplotlib.pyplot as plt # gráficos\n",
    "\n",
    "# Se usan para realizar el web scraping\n",
    "import requests \n",
    "from io import StringIO\n",
    "\n",
    "import warnings\n",
    "warnings.filterwarnings('ignore')\n",
    "\n",
    "# Una mejor vizualización de los datos\n",
    "#import mplcyberpunk\n",
    "#plt.style.use(\"cyberpunk\")\n",
    "# Pauqetes necesarios\n"
   ]
  },
  {
   "cell_type": "code",
   "execution_count": 13,
   "id": "0d225c4d",
   "metadata": {},
   "outputs": [],
   "source": [
    "\n",
    "# Define la URL base de la API y tu clave de API\n",
    "\n",
    "#url =\"https://estadisticas.bcrp.gob.pe/estadisticas/series/mensuales/resultados/PN01234PM/csv/2000-1/2023-5\"\n",
    "#content = requests.get(url,verify=False).text.replace(\"<br>\",\"\\n\").strip()\n",
    "#csv =  StringIO(content)\n",
    "#r = pd.read_csv(csv)\n",
    "#r.head()\n",
    "\n",
    "# Realiza la solicitud HTTP GET\n",
    "#response = requests.get(url,verify=False).text.replace(\"<br>\",\"\\n\").strip()\n",
    "\n",
    "#csv =  StringIO(response)\n",
    "#r = pd.read_csv(csv)\n",
    "#r.head()\n",
    "#En este caso al solo colocar el api key nos dara información solo del dia de hoy al hacer la solicitud\n",
    "\n",
    "# Verifica si la solicitud fue exitosa\n",
    "#if response.status_code == 200:\n",
    "    # La solicitud fue exitosa, extrae los datos\n",
    "#    data = response.json() # tiene forma de diccionario\n",
    "#    json_str = json.dumps(data, indent=4) # lo convierte en una cadena json\n",
    " #   print(json_str)# imprime mostrando los datos en formato JSON con sangría para una mejor legibilidad\n",
    "#else:\n",
    "    # La solicitud falló, maneja el error apropiadamente\n",
    "  #  print(\"Error al hacer la solicitud:\", response.status_code)\n"
   ]
  }
 ],
 "metadata": {
  "kernelspec": {
   "display_name": "Python 3 (ipykernel)",
   "language": "python",
   "name": "python3"
  },
  "language_info": {
   "codemirror_mode": {
    "name": "ipython",
    "version": 3
   },
   "file_extension": ".py",
   "mimetype": "text/x-python",
   "name": "python",
   "nbconvert_exporter": "python",
   "pygments_lexer": "ipython3",
   "version": "3.10.9"
  }
 },
 "nbformat": 4,
 "nbformat_minor": 5
}
