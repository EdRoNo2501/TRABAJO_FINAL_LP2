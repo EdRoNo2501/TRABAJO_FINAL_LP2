{
 "cells": [
  {
   "cell_type": "markdown",
   "id": "8390b76b",
   "metadata": {},
   "source": [
    "# Análisis de la Compra de Viviendas"
   ]
  },
  {
   "cell_type": "markdown",
   "id": "aa4a3259",
   "metadata": {},
   "source": [
    "## Propósito"
   ]
  },
  {
   "cell_type": "code",
   "execution_count": null,
   "id": "d0d0f418",
   "metadata": {},
   "outputs": [],
   "source": []
  },
  {
   "cell_type": "markdown",
   "id": "9fea353f",
   "metadata": {},
   "source": [
    "## Objetivos"
   ]
  },
  {
   "cell_type": "code",
   "execution_count": null,
   "id": "613068f5",
   "metadata": {},
   "outputs": [],
   "source": []
  },
  {
   "cell_type": "markdown",
   "id": "6e22c845",
   "metadata": {},
   "source": [
    "## Webs o APIS"
   ]
  },
  {
   "cell_type": "code",
   "execution_count": null,
   "id": "842e69e3",
   "metadata": {},
   "outputs": [],
   "source": []
  },
  {
   "cell_type": "markdown",
   "id": "d40bc096",
   "metadata": {},
   "source": [
    "## Estrategias "
   ]
  },
  {
   "cell_type": "code",
   "execution_count": null,
   "id": "ed1783f9",
   "metadata": {},
   "outputs": [],
   "source": []
  },
  {
   "cell_type": "markdown",
   "id": "008c5627",
   "metadata": {},
   "source": [
    "## Estructuración o formato de la información a descargar"
   ]
  },
  {
   "cell_type": "code",
   "execution_count": null,
   "id": "2188ed7e",
   "metadata": {},
   "outputs": [],
   "source": []
  }
 ],
 "metadata": {
  "kernelspec": {
   "display_name": "Python 3 (ipykernel)",
   "language": "python",
   "name": "python3"
  },
  "language_info": {
   "codemirror_mode": {
    "name": "ipython",
    "version": 3
   },
   "file_extension": ".py",
   "mimetype": "text/x-python",
   "name": "python",
   "nbconvert_exporter": "python",
   "pygments_lexer": "ipython3",
   "version": "3.10.9"
  }
 },
 "nbformat": 4,
 "nbformat_minor": 5
}
