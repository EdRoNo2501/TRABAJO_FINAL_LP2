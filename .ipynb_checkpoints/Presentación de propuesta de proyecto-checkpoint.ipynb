{
 "cells": [
  {
   "cell_type": "markdown",
   "id": "8390b76b",
   "metadata": {},
   "source": [
    "# Análisis de la Compra de Viviendas"
   ]
  },
  {
   "cell_type": "markdown",
   "id": "aa4a3259",
   "metadata": {},
   "source": [
    "## Propósito"
   ]
  },
  {
   "cell_type": "code",
   "execution_count": null,
   "id": "d0d0f418",
   "metadata": {},
   "outputs": [],
   "source": []
  },
  {
   "cell_type": "markdown",
   "id": "9fea353f",
   "metadata": {},
   "source": [
    "## Objetivos"
   ]
  },
  {
   "cell_type": "code",
   "execution_count": null,
   "id": "613068f5",
   "metadata": {},
   "outputs": [],
   "source": []
  },
  {
   "cell_type": "markdown",
   "id": "6e22c845",
   "metadata": {},
   "source": [
    "## Webs o APIS"
   ]
  },
  {
   "cell_type": "code",
   "execution_count": null,
   "id": "842e69e3",
   "metadata": {},
   "outputs": [],
   "source": []
  },
  {
   "cell_type": "markdown",
   "id": "d40bc096",
   "metadata": {},
   "source": [
    "## Estrategias "
   ]
  },
  {
   "cell_type": "markdown",
   "id": "7235d350",
   "metadata": {},
   "source": [
    "Para realizar este proyecto se nesecita análisar sitios web de inmobiliarias, para obtener información sobre el precio de las casas en dólares y en moneda local; plataformas financieras, que ofrecen servicios de cambio de divisas en Perú, algunas de ellas podrían proporcionar información sobre el tipo de cambio actualizado. Y sitios web de noticias económicas, para mantenerse al tantode las noticias económicas y financieras en Perú, prestando especial atención a los informes sobre el tipo de cambio del dólar.\n",
    "\n",
    "Utilizaremos técnicas de web scraping, para extraer datos y realizar un analisis de las páginas:\n",
    "- Banco central de recerva del Perú: Proporciona api donde podemos encontrar el tipo de cambio nominal y la inflación que utilizaremos para el análisis. En el cual podremos ver como varia el valor del dolar en comparación de la monada del Perú(sol) en grafica y la inflasión en el pais en una tabla.\n",
    "- \n",
    "- \n",
    "\n",
    "\n"
   ]
  },
  {
   "cell_type": "markdown",
   "id": "008c5627",
   "metadata": {},
   "source": [
    "## Estructuración o formato de la información a descargar"
   ]
  },
  {
   "cell_type": "markdown",
   "id": "60b5dc30",
   "metadata": {},
   "source": [
    "El formato de la informacion de la descarga para cada pagina en el cual extraemos la información son:\n",
    "- BCRP: tuiene un formato de csv o html\n",
    "- \n",
    "- \n"
   ]
  },
  {
   "cell_type": "code",
   "execution_count": null,
   "id": "157975f6",
   "metadata": {},
   "outputs": [],
   "source": []
  }
 ],
 "metadata": {
  "kernelspec": {
   "display_name": "Python 3 (ipykernel)",
   "language": "python",
   "name": "python3"
  },
  "language_info": {
   "codemirror_mode": {
    "name": "ipython",
    "version": 3
   },
   "file_extension": ".py",
   "mimetype": "text/x-python",
   "name": "python",
   "nbconvert_exporter": "python",
   "pygments_lexer": "ipython3",
   "version": "3.10.9"
  }
 },
 "nbformat": 4,
 "nbformat_minor": 5
}
