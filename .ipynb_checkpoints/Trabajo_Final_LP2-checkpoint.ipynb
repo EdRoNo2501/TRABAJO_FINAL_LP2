{
 "cells": [
  {
   "cell_type": "markdown",
   "id": "93397c46",
   "metadata": {},
   "source": [
    "# Tutorial Trabajo Final\n",
    "\n",
    "## 1. Sitios web de inmobiliarias\n",
    "\n",
    "Visita los sitios web de inmobiliarias en Perú para obtener información sobre el precio de las casas en dólares y en moneda local. Algunas inmobiliarias conocidas en Perú incluyen Adondevivir, Urbania, Properati, entre otras. Puedes usar técnicas de web scraping para extraer los datos relevantes de estas páginas.\n",
    "\n",
    "- Paginas:\n",
    "\n",
    "    - [Urbania](https://urbania.pe/)\n",
    "    - [Properati](https://www.properati.com.pe/)\n",
    "    - [Adonde Vivir](https://www.adondevivir.com/)\n"
   ]
  },
  {
   "cell_type": "code",
   "execution_count": 1,
   "id": "e2ea047e",
   "metadata": {},
   "outputs": [
    {
     "name": "stdout",
     "output_type": "stream",
     "text": [
      "Defaulting to user installation because normal site-packages is not writeable\n",
      "Requirement already satisfied: requests in c:\\programdata\\anaconda3\\lib\\site-packages (2.28.1)\n",
      "Requirement already satisfied: beautifulsoup4 in c:\\programdata\\anaconda3\\lib\\site-packages (4.11.1)\n",
      "Requirement already satisfied: idna<4,>=2.5 in c:\\programdata\\anaconda3\\lib\\site-packages (from requests) (3.4)\n",
      "Requirement already satisfied: urllib3<1.27,>=1.21.1 in c:\\programdata\\anaconda3\\lib\\site-packages (from requests) (1.26.14)\n",
      "Requirement already satisfied: certifi>=2017.4.17 in c:\\programdata\\anaconda3\\lib\\site-packages (from requests) (2022.12.7)\n",
      "Requirement already satisfied: charset-normalizer<3,>=2 in c:\\programdata\\anaconda3\\lib\\site-packages (from requests) (2.0.4)\n",
      "Requirement already satisfied: soupsieve>1.2 in c:\\programdata\\anaconda3\\lib\\site-packages (from beautifulsoup4) (2.3.2.post1)\n"
     ]
    }
   ],
   "source": [
    "!pip install requests beautifulsoup4"
   ]
  },
  {
   "cell_type": "code",
   "execution_count": 4,
   "id": "e1c6fade",
   "metadata": {},
   "outputs": [],
   "source": [
    "import requests\n",
    "from bs4 import BeautifulSoup\n"
   ]
  },
  {
   "cell_type": "code",
   "execution_count": 5,
   "id": "282ff059",
   "metadata": {},
   "outputs": [],
   "source": [
    "url = 'https://www.urbania.pe/'\n",
    "response = requests.get(url)\n",
    "html = response.text"
   ]
  },
  {
   "cell_type": "code",
   "execution_count": 6,
   "id": "b82304bc",
   "metadata": {},
   "outputs": [],
   "source": [
    "soup = BeautifulSoup(html, 'html.parser')"
   ]
  },
  {
   "cell_type": "code",
   "execution_count": 9,
   "id": "52e5a7aa",
   "metadata": {},
   "outputs": [],
   "source": [
    "precios = soup.find_all('span', class_='sc-12dh9kl-4 hbUMaO')\n"
   ]
  },
  {
   "cell_type": "code",
   "execution_count": 10,
   "id": "a3597a5e",
   "metadata": {},
   "outputs": [],
   "source": [
    "precios_casas = []\n",
    "for precio in precios:\n",
    "    valor = precio.text\n",
    "    precios_casas.append(valor)\n"
   ]
  },
  {
   "cell_type": "code",
   "execution_count": 11,
   "id": "b1f461ed",
   "metadata": {},
   "outputs": [],
   "source": [
    "import csv\n",
    "\n",
    "ddwith open('precios_casas.csv', 'w', newline='') as archivo_csv:\n",
    "    writer = csv.writer(archivo_csv)\n",
    "    writer.writerow(['Precio'])\n",
    "    writer.writerows(precios_casas)\n"
   ]
  },
  {
   "cell_type": "code",
   "execution_count": null,
   "id": "60bdc6cf",
   "metadata": {},
   "outputs": [],
   "source": [
    "precio_element = soup.find('div', {'data-qa': 'POSTING_CARD_PRICE'})\n",
    "precio = precio_element.text.strip()\n"
   ]
  },
  {
   "cell_type": "code",
   "execution_count": 18,
   "id": "71365daf",
   "metadata": {},
   "outputs": [],
   "source": [
    "precios = soup.find_all('div', {'data-qa': 'POSTING_CARD_PRICE'})\n",
    "\n",
    "lista_precios = []\n",
    "\n",
    "for precio in precios:\n",
    "    valor = precio.text.strip()\n",
    "    lista_precios.append(valor)\n",
    "\n",
    "# Opcional: Guardar en un archivo CSV\n",
    "nombre_archivo = 'precios_casas.csv'\n",
    "\n",
    "with open(nombre_archivo, 'w', newline='') as archivo_csv:\n",
    "    writer = csv.writer(archivo_csv)\n",
    "    writer.writerow(['Precio'])\n",
    "    writer.writerows(lista_precios)\n"
   ]
  },
  {
   "cell_type": "code",
   "execution_count": null,
   "id": "a27b8e62",
   "metadata": {},
   "outputs": [],
   "source": []
  }
 ],
 "metadata": {
  "kernelspec": {
   "display_name": "Python 3 (ipykernel)",
   "language": "python",
   "name": "python3"
  },
  "language_info": {
   "codemirror_mode": {
    "name": "ipython",
    "version": 3
   },
   "file_extension": ".py",
   "mimetype": "text/x-python",
   "name": "python",
   "nbconvert_exporter": "python",
   "pygments_lexer": "ipython3",
   "version": "3.10.9"
  }
 },
 "nbformat": 4,
 "nbformat_minor": 5
}
