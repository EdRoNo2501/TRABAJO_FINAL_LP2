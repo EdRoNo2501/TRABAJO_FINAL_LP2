{
 "cells": [
  {
   "cell_type": "markdown",
   "id": "5d24e975",
   "metadata": {},
   "source": [
    "# <center>Plataforma financiera BRCP </center>"
   ]
  },
  {
   "cell_type": "markdown",
   "id": "c578c139",
   "metadata": {},
   "source": [
    "análisis del tipo de cambio y el mercado inmobiliario puede requerir considerar otros factores como la inflación, tasas de interés, perspectivas económicas y legales, entre otros."
   ]
  },
  {
   "cell_type": "markdown",
   "id": "5dab7c13",
   "metadata": {},
   "source": [
    "Inflacion\n",
    "((IPC año de estudio - IPC del año anterior )/ ipc delmaño anterior )*100"
   ]
  },
  {
   "cell_type": "code",
   "execution_count": 1,
   "id": "9d280600",
   "metadata": {},
   "outputs": [
    {
     "name": "stdout",
     "output_type": "stream",
     "text": [
      "https://estadisticas.bcrp.gob.pe/estadisticas/series/api/PN38705PM/json\n"
     ]
    }
   ],
   "source": [
    "\n",
    "#https://estadisticas.bcrp.gob.pe/estadisticas/series/mensuales/resultados/PN38705PM/html\n",
    "#PN38705PM: Índice de precios Lima Metropolitana (índice Dic.2021 = 100) \n",
    "#PN01255PM: Tipo de cambio nominal (S/ por canasta) - Promedio (var% mensual)\n",
    "\n",
    "url_base=\"https://estadisticas.bcrp.gob.pe/estadisticas/series/api/\"\n",
    "cod_ser=\"PN38705PM\"\n",
    "formato=\"/json\"\n",
    "url=url_base+cod_ser+formato\n",
    "print(url)\n",
    "\n",
    "#per=\"/2005-1/2019-12\"\n",
    "#url=url_base+cod_ser+formato+per"
   ]
  },
  {
   "cell_type": "code",
   "execution_count": 2,
   "id": "238a1c30",
   "metadata": {},
   "outputs": [
    {
     "name": "stdout",
     "output_type": "stream",
     "text": [
      "{\n",
      "    \"config\": {\n",
      "        \"title\": \"\\u00cdndice de precios Lima Metropolitana (\\u00edndice Dic.2021 = 100)\",\n",
      "        \"series\": [\n",
      "            {\n",
      "                \"name\": \"\\u00cdndice de precios Lima Metropolitana (\\u00edndice Dic.2021 = 100) - \\u00cdndice de Precios al Consumidor (IPC)\",\n",
      "                \"dec\": \"2\"\n",
      "            }\n",
      "        ]\n",
      "    },\n",
      "    \"periods\": [\n",
      "        {\n",
      "            \"name\": \"Jun.2021\",\n",
      "            \"values\": [\n",
      "                \"95.9814390796482\"\n",
      "            ]\n",
      "        },\n",
      "        {\n",
      "            \"name\": \"Jul.2021\",\n",
      "            \"values\": [\n",
      "                \"96.948489573628\"\n",
      "            ]\n",
      "        },\n",
      "        {\n",
      "            \"name\": \"Ago.2021\",\n",
      "            \"values\": [\n",
      "                \"97.9033694822447\"\n",
      "            ]\n",
      "        },\n",
      "        {\n",
      "            \"name\": \"Sep.2021\",\n",
      "            \"values\": [\n",
      "                \"98.2953966184284\"\n",
      "            ]\n",
      "        },\n",
      "        {\n",
      "            \"name\": \"Oct.2021\",\n",
      "            \"values\": [\n",
      "                \"98.8691125131803\"\n",
      "            ]\n",
      "        },\n",
      "        {\n",
      "            \"name\": \"Nov.2021\",\n",
      "            \"values\": [\n",
      "                \"99.2232454403164\"\n",
      "            ]\n",
      "        },\n",
      "        {\n",
      "            \"name\": \"Dic.2021\",\n",
      "            \"values\": [\n",
      "                \"100\"\n",
      "            ]\n",
      "        },\n",
      "        {\n",
      "            \"name\": \"Ene.2022\",\n",
      "            \"values\": [\n",
      "                \"100.037268\"\n",
      "            ]\n",
      "        },\n",
      "        {\n",
      "            \"name\": \"Feb.2022\",\n",
      "            \"values\": [\n",
      "                \"100.34884\"\n",
      "            ]\n",
      "        },\n",
      "        {\n",
      "            \"name\": \"Mar.2022\",\n",
      "            \"values\": [\n",
      "                \"101.836672\"\n",
      "            ]\n",
      "        },\n",
      "        {\n",
      "            \"name\": \"Abr.2022\",\n",
      "            \"values\": [\n",
      "                \"102.816232\"\n",
      "            ]\n",
      "        },\n",
      "        {\n",
      "            \"name\": \"May.2022\",\n",
      "            \"values\": [\n",
      "                \"103.211072\"\n",
      "            ]\n",
      "        },\n",
      "        {\n",
      "            \"name\": \"Jun.2022\",\n",
      "            \"values\": [\n",
      "                \"104.439931\"\n",
      "            ]\n",
      "        },\n",
      "        {\n",
      "            \"name\": \"Jul.2022\",\n",
      "            \"values\": [\n",
      "                \"105.422597\"\n",
      "            ]\n",
      "        },\n",
      "        {\n",
      "            \"name\": \"Ago.2022\",\n",
      "            \"values\": [\n",
      "                \"106.125283\"\n",
      "            ]\n",
      "        },\n",
      "        {\n",
      "            \"name\": \"Sep.2022\",\n",
      "            \"values\": [\n",
      "                \"106.679849\"\n",
      "            ]\n",
      "        },\n",
      "        {\n",
      "            \"name\": \"Oct.2022\",\n",
      "            \"values\": [\n",
      "                \"107.050724\"\n",
      "            ]\n",
      "        },\n",
      "        {\n",
      "            \"name\": \"Nov.2022\",\n",
      "            \"values\": [\n",
      "                \"107.604861\"\n",
      "            ]\n",
      "        },\n",
      "        {\n",
      "            \"name\": \"Dic.2022\",\n",
      "            \"values\": [\n",
      "                \"108.459162\"\n",
      "            ]\n",
      "        },\n",
      "        {\n",
      "            \"name\": \"Ene.2023\",\n",
      "            \"values\": [\n",
      "                \"108.704764\"\n",
      "            ]\n",
      "        },\n",
      "        {\n",
      "            \"name\": \"Feb.2023\",\n",
      "            \"values\": [\n",
      "                \"109.024924\"\n",
      "            ]\n",
      "        },\n",
      "        {\n",
      "            \"name\": \"Mar.2023\",\n",
      "            \"values\": [\n",
      "                \"110.391537\"\n",
      "            ]\n",
      "        },\n",
      "        {\n",
      "            \"name\": \"Abr.2023\",\n",
      "            \"values\": [\n",
      "                \"111.005592\"\n",
      "            ]\n",
      "        },\n",
      "        {\n",
      "            \"name\": \"May.2023\",\n",
      "            \"values\": [\n",
      "                \"111.358436\"\n",
      "            ]\n",
      "        }\n",
      "    ]\n",
      "}\n"
     ]
    }
   ],
   "source": [
    "import requests\n",
    "import json\n",
    "response=requests.get(url)\n",
    "data=response.json()\n",
    "json_str = json.dumps(data, indent=4)\n",
    "print(json_str)"
   ]
  },
  {
   "cell_type": "code",
   "execution_count": 3,
   "id": "fb8d12a3",
   "metadata": {},
   "outputs": [
    {
     "name": "stdout",
     "output_type": "stream",
     "text": [
      "{'config': {'title': 'Índice de precios Lima Metropolitana (índice Dic.2021 = 100)', 'series': [{'name': 'Índice de precios Lima Metropolitana (índice Dic.2021 = 100) - Índice de Precios al Consumidor (IPC)', 'dec': '2'}]}, 'periods': [{'name': 'Jun.2021', 'values': ['95.9814390796482']}, {'name': 'Jul.2021', 'values': ['96.948489573628']}, {'name': 'Ago.2021', 'values': ['97.9033694822447']}, {'name': 'Sep.2021', 'values': ['98.2953966184284']}, {'name': 'Oct.2021', 'values': ['98.8691125131803']}, {'name': 'Nov.2021', 'values': ['99.2232454403164']}, {'name': 'Dic.2021', 'values': ['100']}, {'name': 'Ene.2022', 'values': ['100.037268']}, {'name': 'Feb.2022', 'values': ['100.34884']}, {'name': 'Mar.2022', 'values': ['101.836672']}, {'name': 'Abr.2022', 'values': ['102.816232']}, {'name': 'May.2022', 'values': ['103.211072']}, {'name': 'Jun.2022', 'values': ['104.439931']}, {'name': 'Jul.2022', 'values': ['105.422597']}, {'name': 'Ago.2022', 'values': ['106.125283']}, {'name': 'Sep.2022', 'values': ['106.679849']}, {'name': 'Oct.2022', 'values': ['107.050724']}, {'name': 'Nov.2022', 'values': ['107.604861']}, {'name': 'Dic.2022', 'values': ['108.459162']}, {'name': 'Ene.2023', 'values': ['108.704764']}, {'name': 'Feb.2023', 'values': ['109.024924']}, {'name': 'Mar.2023', 'values': ['110.391537']}, {'name': 'Abr.2023', 'values': ['111.005592']}, {'name': 'May.2023', 'values': ['111.358436']}]}\n"
     ]
    }
   ],
   "source": [
    "response_json=response.json()\n",
    "print(response_json) \n"
   ]
  },
  {
   "cell_type": "code",
   "execution_count": 4,
   "id": "39de0431",
   "metadata": {},
   "outputs": [
    {
     "name": "stdout",
     "output_type": "stream",
     "text": [
      "config\n",
      "periods\n"
     ]
    }
   ],
   "source": [
    "for key in response_json.keys():\n",
    "    print(key)"
   ]
  },
  {
   "cell_type": "code",
   "execution_count": 5,
   "id": "a4c2d02d",
   "metadata": {},
   "outputs": [
    {
     "name": "stdout",
     "output_type": "stream",
     "text": [
      "{'title': 'Índice de precios Lima Metropolitana (índice Dic.2021 = 100)', 'series': [{'name': 'Índice de precios Lima Metropolitana (índice Dic.2021 = 100) - Índice de Precios al Consumidor (IPC)', 'dec': '2'}]}\n"
     ]
    }
   ],
   "source": [
    "print(response_json['config'])"
   ]
  },
  {
   "cell_type": "code",
   "execution_count": 6,
   "id": "772c0257",
   "metadata": {},
   "outputs": [
    {
     "name": "stdout",
     "output_type": "stream",
     "text": [
      "[{'name': 'Jun.2021', 'values': ['95.9814390796482']}, {'name': 'Jul.2021', 'values': ['96.948489573628']}, {'name': 'Ago.2021', 'values': ['97.9033694822447']}, {'name': 'Sep.2021', 'values': ['98.2953966184284']}, {'name': 'Oct.2021', 'values': ['98.8691125131803']}, {'name': 'Nov.2021', 'values': ['99.2232454403164']}, {'name': 'Dic.2021', 'values': ['100']}, {'name': 'Ene.2022', 'values': ['100.037268']}, {'name': 'Feb.2022', 'values': ['100.34884']}, {'name': 'Mar.2022', 'values': ['101.836672']}, {'name': 'Abr.2022', 'values': ['102.816232']}, {'name': 'May.2022', 'values': ['103.211072']}, {'name': 'Jun.2022', 'values': ['104.439931']}, {'name': 'Jul.2022', 'values': ['105.422597']}, {'name': 'Ago.2022', 'values': ['106.125283']}, {'name': 'Sep.2022', 'values': ['106.679849']}, {'name': 'Oct.2022', 'values': ['107.050724']}, {'name': 'Nov.2022', 'values': ['107.604861']}, {'name': 'Dic.2022', 'values': ['108.459162']}, {'name': 'Ene.2023', 'values': ['108.704764']}, {'name': 'Feb.2023', 'values': ['109.024924']}, {'name': 'Mar.2023', 'values': ['110.391537']}, {'name': 'Abr.2023', 'values': ['111.005592']}, {'name': 'May.2023', 'values': ['111.358436']}]\n"
     ]
    }
   ],
   "source": [
    "print(response_json['periods'])"
   ]
  },
  {
   "cell_type": "code",
   "execution_count": 7,
   "id": "6e302b23",
   "metadata": {},
   "outputs": [
    {
     "name": "stdout",
     "output_type": "stream",
     "text": [
      "{'name': 'Jun.2021', 'values': ['95.9814390796482']}\n"
     ]
    }
   ],
   "source": [
    "print(response_json['periods'][0])"
   ]
  },
  {
   "cell_type": "code",
   "execution_count": 8,
   "id": "c7c7e431",
   "metadata": {},
   "outputs": [
    {
     "name": "stdout",
     "output_type": "stream",
     "text": [
      "['95.9814390796482']\n"
     ]
    }
   ],
   "source": [
    "print(response_json['periods'][0][\"values\"])"
   ]
  },
  {
   "cell_type": "code",
   "execution_count": 9,
   "id": "7062916d",
   "metadata": {},
   "outputs": [
    {
     "name": "stdout",
     "output_type": "stream",
     "text": [
      "[95.9814390796482, 96.948489573628, 97.9033694822447, 98.2953966184284, 98.8691125131803, 99.2232454403164, 100.0, 100.037268, 100.34884, 101.836672, 102.816232, 103.211072, 104.439931, 105.422597, 106.125283, 106.679849, 107.050724, 107.604861, 108.459162, 108.704764, 109.024924, 110.391537, 111.005592, 111.358436]\n"
     ]
    }
   ],
   "source": [
    "#print(response_json.get(\"periods\"))  #el método get me da un resultado parecido a response_json['periods']\n",
    "periodos=response_json.get(\"periods\")\n",
    "price_index=[]\n",
    "for i in periodos:\n",
    "    valores_list=i['values']\n",
    "    for w in valores_list:\n",
    "        w=float(w)\n",
    "        price_index.append(w)\n",
    "    \n",
    "#print(type(price_index[0]))\n",
    "print(price_index)"
   ]
  },
  {
   "cell_type": "code",
   "execution_count": 10,
   "id": "18813cfd",
   "metadata": {},
   "outputs": [
    {
     "name": "stdout",
     "output_type": "stream",
     "text": [
      "['Jun.2021', 'Jul.2021', 'Ago.2021', 'Sep.2021', 'Oct.2021', 'Nov.2021', 'Dic.2021', 'Ene.2022', 'Feb.2022', 'Mar.2022', 'Abr.2022', 'May.2022', 'Jun.2022', 'Jul.2022', 'Ago.2022', 'Sep.2022', 'Oct.2022', 'Nov.2022', 'Dic.2022', 'Ene.2023', 'Feb.2023', 'Mar.2023', 'Abr.2023', 'May.2023']\n"
     ]
    }
   ],
   "source": [
    "fechas=[]\n",
    "for i in periodos:\n",
    "    nombres=i['name']\n",
    "    fechas.append(nombres)\n",
    "    \n",
    "print(fechas)"
   ]
  },
  {
   "cell_type": "code",
   "execution_count": null,
   "id": "ad17a602",
   "metadata": {},
   "outputs": [],
   "source": []
  },
  {
   "cell_type": "code",
   "execution_count": 11,
   "id": "0a8764b8",
   "metadata": {},
   "outputs": [],
   "source": [
    "import pandas as pd"
   ]
  },
  {
   "cell_type": "code",
   "execution_count": 12,
   "id": "4ccd1049",
   "metadata": {},
   "outputs": [
    {
     "name": "stdout",
     "output_type": "stream",
     "text": [
      "{'Fechas': ['Jun.2021', 'Jul.2021', 'Ago.2021', 'Sep.2021', 'Oct.2021', 'Nov.2021', 'Dic.2021', 'Ene.2022', 'Feb.2022', 'Mar.2022', 'Abr.2022', 'May.2022', 'Jun.2022', 'Jul.2022', 'Ago.2022', 'Sep.2022', 'Oct.2022', 'Nov.2022', 'Dic.2022', 'Ene.2023', 'Feb.2023', 'Mar.2023', 'Abr.2023', 'May.2023'], 'Valores': [95.9814390796482, 96.948489573628, 97.9033694822447, 98.2953966184284, 98.8691125131803, 99.2232454403164, 100.0, 100.037268, 100.34884, 101.836672, 102.816232, 103.211072, 104.439931, 105.422597, 106.125283, 106.679849, 107.050724, 107.604861, 108.459162, 108.704764, 109.024924, 110.391537, 111.005592, 111.358436]}\n"
     ]
    }
   ],
   "source": [
    "diccionario= {\"Fechas\":fechas, \"Valores\":price_index}\n",
    "print(diccionario)"
   ]
  },
  {
   "cell_type": "code",
   "execution_count": 13,
   "id": "62d3deb9",
   "metadata": {},
   "outputs": [
    {
     "data": {
      "text/html": [
       "<div>\n",
       "<style scoped>\n",
       "    .dataframe tbody tr th:only-of-type {\n",
       "        vertical-align: middle;\n",
       "    }\n",
       "\n",
       "    .dataframe tbody tr th {\n",
       "        vertical-align: top;\n",
       "    }\n",
       "\n",
       "    .dataframe thead th {\n",
       "        text-align: right;\n",
       "    }\n",
       "</style>\n",
       "<table border=\"1\" class=\"dataframe\">\n",
       "  <thead>\n",
       "    <tr style=\"text-align: right;\">\n",
       "      <th></th>\n",
       "      <th>Fechas</th>\n",
       "      <th>Valores</th>\n",
       "    </tr>\n",
       "  </thead>\n",
       "  <tbody>\n",
       "    <tr>\n",
       "      <th>0</th>\n",
       "      <td>Jun.2021</td>\n",
       "      <td>95.981439</td>\n",
       "    </tr>\n",
       "    <tr>\n",
       "      <th>1</th>\n",
       "      <td>Jul.2021</td>\n",
       "      <td>96.948490</td>\n",
       "    </tr>\n",
       "    <tr>\n",
       "      <th>2</th>\n",
       "      <td>Ago.2021</td>\n",
       "      <td>97.903369</td>\n",
       "    </tr>\n",
       "    <tr>\n",
       "      <th>3</th>\n",
       "      <td>Sep.2021</td>\n",
       "      <td>98.295397</td>\n",
       "    </tr>\n",
       "    <tr>\n",
       "      <th>4</th>\n",
       "      <td>Oct.2021</td>\n",
       "      <td>98.869113</td>\n",
       "    </tr>\n",
       "    <tr>\n",
       "      <th>5</th>\n",
       "      <td>Nov.2021</td>\n",
       "      <td>99.223245</td>\n",
       "    </tr>\n",
       "    <tr>\n",
       "      <th>6</th>\n",
       "      <td>Dic.2021</td>\n",
       "      <td>100.000000</td>\n",
       "    </tr>\n",
       "    <tr>\n",
       "      <th>7</th>\n",
       "      <td>Ene.2022</td>\n",
       "      <td>100.037268</td>\n",
       "    </tr>\n",
       "    <tr>\n",
       "      <th>8</th>\n",
       "      <td>Feb.2022</td>\n",
       "      <td>100.348840</td>\n",
       "    </tr>\n",
       "    <tr>\n",
       "      <th>9</th>\n",
       "      <td>Mar.2022</td>\n",
       "      <td>101.836672</td>\n",
       "    </tr>\n",
       "    <tr>\n",
       "      <th>10</th>\n",
       "      <td>Abr.2022</td>\n",
       "      <td>102.816232</td>\n",
       "    </tr>\n",
       "    <tr>\n",
       "      <th>11</th>\n",
       "      <td>May.2022</td>\n",
       "      <td>103.211072</td>\n",
       "    </tr>\n",
       "    <tr>\n",
       "      <th>12</th>\n",
       "      <td>Jun.2022</td>\n",
       "      <td>104.439931</td>\n",
       "    </tr>\n",
       "    <tr>\n",
       "      <th>13</th>\n",
       "      <td>Jul.2022</td>\n",
       "      <td>105.422597</td>\n",
       "    </tr>\n",
       "    <tr>\n",
       "      <th>14</th>\n",
       "      <td>Ago.2022</td>\n",
       "      <td>106.125283</td>\n",
       "    </tr>\n",
       "    <tr>\n",
       "      <th>15</th>\n",
       "      <td>Sep.2022</td>\n",
       "      <td>106.679849</td>\n",
       "    </tr>\n",
       "    <tr>\n",
       "      <th>16</th>\n",
       "      <td>Oct.2022</td>\n",
       "      <td>107.050724</td>\n",
       "    </tr>\n",
       "    <tr>\n",
       "      <th>17</th>\n",
       "      <td>Nov.2022</td>\n",
       "      <td>107.604861</td>\n",
       "    </tr>\n",
       "    <tr>\n",
       "      <th>18</th>\n",
       "      <td>Dic.2022</td>\n",
       "      <td>108.459162</td>\n",
       "    </tr>\n",
       "    <tr>\n",
       "      <th>19</th>\n",
       "      <td>Ene.2023</td>\n",
       "      <td>108.704764</td>\n",
       "    </tr>\n",
       "    <tr>\n",
       "      <th>20</th>\n",
       "      <td>Feb.2023</td>\n",
       "      <td>109.024924</td>\n",
       "    </tr>\n",
       "    <tr>\n",
       "      <th>21</th>\n",
       "      <td>Mar.2023</td>\n",
       "      <td>110.391537</td>\n",
       "    </tr>\n",
       "    <tr>\n",
       "      <th>22</th>\n",
       "      <td>Abr.2023</td>\n",
       "      <td>111.005592</td>\n",
       "    </tr>\n",
       "    <tr>\n",
       "      <th>23</th>\n",
       "      <td>May.2023</td>\n",
       "      <td>111.358436</td>\n",
       "    </tr>\n",
       "  </tbody>\n",
       "</table>\n",
       "</div>"
      ],
      "text/plain": [
       "      Fechas     Valores\n",
       "0   Jun.2021   95.981439\n",
       "1   Jul.2021   96.948490\n",
       "2   Ago.2021   97.903369\n",
       "3   Sep.2021   98.295397\n",
       "4   Oct.2021   98.869113\n",
       "5   Nov.2021   99.223245\n",
       "6   Dic.2021  100.000000\n",
       "7   Ene.2022  100.037268\n",
       "8   Feb.2022  100.348840\n",
       "9   Mar.2022  101.836672\n",
       "10  Abr.2022  102.816232\n",
       "11  May.2022  103.211072\n",
       "12  Jun.2022  104.439931\n",
       "13  Jul.2022  105.422597\n",
       "14  Ago.2022  106.125283\n",
       "15  Sep.2022  106.679849\n",
       "16  Oct.2022  107.050724\n",
       "17  Nov.2022  107.604861\n",
       "18  Dic.2022  108.459162\n",
       "19  Ene.2023  108.704764\n",
       "20  Feb.2023  109.024924\n",
       "21  Mar.2023  110.391537\n",
       "22  Abr.2023  111.005592\n",
       "23  May.2023  111.358436"
      ]
     },
     "execution_count": 13,
     "metadata": {},
     "output_type": "execute_result"
    }
   ],
   "source": [
    "df = pd.DataFrame(diccionario)\n",
    "df"
   ]
  },
  {
   "cell_type": "code",
   "execution_count": 14,
   "id": "66940ac1",
   "metadata": {},
   "outputs": [],
   "source": [
    "import matplotlib.pyplot as plt\n",
    "import seaborn as sns"
   ]
  },
  {
   "cell_type": "code",
   "execution_count": 15,
   "id": "45ec1ea1",
   "metadata": {},
   "outputs": [
    {
     "name": "stderr",
     "output_type": "stream",
     "text": [
      "C:\\Users\\Hamnah Miranda\\AppData\\Local\\Temp\\ipykernel_12628\\163257914.py:1: UserWarning: \n",
      "\n",
      "`distplot` is a deprecated function and will be removed in seaborn v0.14.0.\n",
      "\n",
      "Please adapt your code to use either `displot` (a figure-level function with\n",
      "similar flexibility) or `histplot` (an axes-level function for histograms).\n",
      "\n",
      "For a guide to updating your code to use the new functions, please see\n",
      "https://gist.github.com/mwaskom/de44147ed2974457ad6372750bbe5751\n",
      "\n",
      "  sns.distplot(df['Valores'])\n"
     ]
    },
    {
     "data": {
      "text/plain": [
       "Text(0.5, 1.0, 'Distribución deL IPC')"
      ]
     },
     "execution_count": 15,
     "metadata": {},
     "output_type": "execute_result"
    },
    {
     "data": {
      "image/png": "[encoded data removed]",
      "text/plain": [
       "<Figure size 640x480 with 1 Axes>"
      ]
     },
     "metadata": {},
     "output_type": "display_data"
    }
   ],
   "source": [
    "sns.distplot(df['Valores'])\n",
    "plt.title('Distribución deL IPC')"
   ]
  },
  {
   "cell_type": "code",
   "execution_count": 16,
   "id": "3c10e050",
   "metadata": {},
   "outputs": [
    {
     "data": {
      "image/png": "[encoded data removed]",
      "text/plain": [
       "<Figure size 1500x500 with 1 Axes>"
      ]
     },
     "metadata": {},
     "output_type": "display_data"
    }
   ],
   "source": [
    "df.plot(x ='Fechas', y='Valores', figsize=(15, 5), kind = 'line')\n",
    "plt.xlabel(\"Fechas\")\n",
    "plt.ylabel(\"IPC\")\n",
    "plt.show()"
   ]
  }
 ],
 "metadata": {
  "kernelspec": {
   "display_name": "Python 3 (ipykernel)",
   "language": "python",
   "name": "python3"
  },
  "language_info": {
   "codemirror_mode": {
    "name": "ipython",
    "version": 3
   },
   "file_extension": ".py",
   "mimetype": "text/x-python",
   "name": "python",
   "nbconvert_exporter": "python",
   "pygments_lexer": "ipython3",
   "version": "3.10.9"
  }
 },
 "nbformat": 4,
 "nbformat_minor": 5
}
