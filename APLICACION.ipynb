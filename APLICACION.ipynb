{
 "cells": [
  {
   "cell_type": "code",
   "execution_count": 39,
   "id": "c25df91d",
   "metadata": {},
   "outputs": [],
   "source": [
    "#!pip install dash"
   ]
  },
  {
   "cell_type": "code",
   "execution_count": 6,
   "id": "dda97a0e",
   "metadata": {},
   "outputs": [
    {
     "name": "stderr",
     "output_type": "stream",
     "text": [
      "C:\\Users\\Lenovo\\AppData\\Local\\Temp\\ipykernel_4340\\894407931.py:4: UserWarning:\n",
      "\n",
      "\n",
      "The dash_table package is deprecated. Please replace\n",
      "`import dash_table` with `from dash import dash_table`\n",
      "\n",
      "Also, if you're using any of the table format helpers (e.g. Group), replace \n",
      "`from dash_table.Format import Group` with \n",
      "`from dash.dash_table.Format import Group`\n",
      "\n"
     ]
    }
   ],
   "source": [
    "#Librerias a utilizar\n",
    "import dash\n",
    "import dash_core_components as dcc\n",
    "import dash_html_components as html\n",
    "import dash_table\n",
    "import pandas as pd\n"
   ]
  },
  {
   "cell_type": "code",
   "execution_count": 38,
   "id": "73b977fe",
   "metadata": {},
   "outputs": [
    {
     "data": {
      "text/html": [
       "\n",
       "        <iframe\n",
       "            width=\"100%\"\n",
       "            height=\"650\"\n",
       "            src=\"http://127.0.0.1:8050/\"\n",
       "            frameborder=\"0\"\n",
       "            allowfullscreen\n",
       "            \n",
       "        ></iframe>\n",
       "        "
      ],
      "text/plain": [
       "<IPython.lib.display.IFrame at 0x20b5c2fb310>"
      ]
     },
     "metadata": {},
     "output_type": "display_data"
    }
   ],
   "source": [
    "import dash\n",
    "import dash_core_components as dcc\n",
    "import dash_html_components as html\n",
    "import pandas as pd\n",
    "from flask import Flask\n",
    "\n",
    "# Cargar los datos\n",
    "bueno = pd.read_csv(\"dolar_bueno.csv\")\n",
    "malo = pd.read_csv(\"dolar_malo.csv\")\n",
    "\n",
    "# Crear la aplicación de Dash\n",
    "app = dash.Dash(__name__)\n",
    "\n",
    "# Definir el diseño de la aplicación\n",
    "app.layout = html.Div([\n",
    "    dcc.Tabs(id=\"tabs\", value='tab-descripcion', children=[\n",
    "        dcc.Tab(label='Descripción del proyecto', value='tab-descripcion'),\n",
    "        dcc.Tab(label='Clasificacion de noticias sobre el dolar', value='tab-noticias'),\n",
    "        dcc.Tab(label='Indicadores economicos', value='tab-indicadores'),\n",
    "        dcc.Tab(label='Distritos-Precios', value='tab-prueba') ]),\n",
    "    html.Div(id='content')])\n",
    "\n",
    "# Función para mostrar el contenido correspondiente a cada pestaña\n",
    "@app.callback(\n",
    "    dash.dependencies.Output('content', 'children'),\n",
    "    [dash.dependencies.Input('tabs', 'value')]\n",
    ")\n",
    "def render_content(tab):\n",
    "    if tab == 'tab-descripcion':\n",
    "        return html.Div([\n",
    "            html.H2('Descripción del proyecto')\n",
    "        ])\n",
    "    \n",
    "    elif tab == 'tab-noticias':\n",
    "        return html.Div([\n",
    "            html.H2('Noticias'),\n",
    "            dcc.Graph(\n",
    "                figure=go.Figure(data=[go.Table(\n",
    "                    header=dict(values=list(bueno.columns),\n",
    "                                fill_color='paleturquoise',\n",
    "                                align='left'),\n",
    "                    cells=dict(values=[bueno['TITULO'], bueno['FECHA'], bueno['URL']],\n",
    "                               fill_color='lavender',\n",
    "                               align='left'))\n",
    "                ])\n",
    "            ),\n",
    "            dcc.Graph(\n",
    "                figure=go.Figure(data=[go.Table(\n",
    "                    header=dict(values=list(malo.columns),\n",
    "                                fill_color='paleturquoise',\n",
    "                                align='left'),\n",
    "                    cells=dict(values=[malo['TITULO'], malo['FECHA'], malo['URL']],\n",
    "                               fill_color='lavender',\n",
    "                               align='left'))\n",
    "                ])\n",
    "            )\n",
    "        ])\n",
    "    elif tab == 'tab-indicadores':\n",
    "        return html.Div([\n",
    "            html.H2('Indicadores'),\n",
    "            html.H3('Inflacion'),\n",
    "            html.H3('Soles VS Dolares'),\n",
    "        ])\n",
    "    elif tab == 'tab-prueba':\n",
    "        return html.Div([\n",
    "            html.H2('Distritos'),\n",
    "            html.H3('Promedios'),\n",
    "            html.H3('Maximo'),\n",
    "            html.H3('Minimo'),\n",
    "        ])\n",
    "    \n",
    "    \n",
    "if __name__ == '__main__':\n",
    "    app.run_server(debug=False, port=8050)\n",
    "    \n",
    "\n",
    "\n"
   ]
  }
 ],
 "metadata": {
  "kernelspec": {
   "display_name": "Python 3 (ipykernel)",
   "language": "python",
   "name": "python3"
  },
  "language_info": {
   "codemirror_mode": {
    "name": "ipython",
    "version": 3
   },
   "file_extension": ".py",
   "mimetype": "text/x-python",
   "name": "python",
   "nbconvert_exporter": "python",
   "pygments_lexer": "ipython3",
   "version": "3.10.9"
  }
 },
 "nbformat": 4,
 "nbformat_minor": 5
}
