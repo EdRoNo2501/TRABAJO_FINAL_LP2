{
 "cells": [
  {
   "cell_type": "code",
   "execution_count": 39,
   "id": "edf6939a",
   "metadata": {},
   "outputs": [],
   "source": [
    "#!pip install dash"
   ]
  },
  {
   "cell_type": "code",
   "execution_count": 22,
   "id": "bd23e4f8",
   "metadata": {},
   "outputs": [],
   "source": [
    "#!pip install dash-bootstrap-components"
   ]
  },
  {
   "cell_type": "code",
   "execution_count": 23,
   "id": "c32b926b",
   "metadata": {},
   "outputs": [],
   "source": [
    "#Librerias a utilizar\n",
    "import dash\n",
    "import dash_core_components as dcc\n",
    "import dash_html_components as html\n",
    "import dash_table\n",
    "import pandas as pd\n",
    "from flask import Flask\n",
    "import plotly.graph_objects as go\n",
    "import dash_bootstrap_components as dbc\n"
   ]
  },
  {
   "cell_type": "code",
   "execution_count": 30,
   "id": "deac5384",
   "metadata": {},
   "outputs": [
    {
     "data": {
      "text/html": [
       "\n",
       "        <iframe\n",
       "            width=\"100%\"\n",
       "            height=\"650\"\n",
       "            src=\"http://127.0.0.1:8060/\"\n",
       "            frameborder=\"0\"\n",
       "            allowfullscreen\n",
       "            \n",
       "        ></iframe>\n",
       "        "
      ],
      "text/plain": [
       "<IPython.lib.display.IFrame at 0x1a164c58be0>"
      ]
     },
     "metadata": {},
     "output_type": "display_data"
    }
   ],
   "source": [
    "# Cargar los datos\n",
    "bueno = pd.read_csv(\"dolar_bueno.csv\")\n",
    "malo = pd.read_csv(\"dolar_malo.csv\")\n",
    "df=pd.read_csv(\"df.csv\")\n",
    "Df=pd.read_csv(\"Df_grafic1.csv\")\n",
    "\n",
    "# Crear la aplicación de Dash\n",
    "app = dash.Dash(__name__, external_stylesheets=[dbc.themes.MINTY])\n",
    "\n",
    "# Definir el diseño de la aplicación\n",
    "app.layout = html.Div([\n",
    "    dcc.Tabs(id=\"tabs\", value='tab-descripcion', children=[\n",
    "        dcc.Tab(label='Descripción del proyecto', value='tab-descripcion'),\n",
    "        dcc.Tab(label='Clasificacion de noticias sobre el dolar', value='tab-noticias'),\n",
    "        dcc.Tab(label='Indicadores economicos', value='tab-indicadores'),\n",
    "        dcc.Tab(label='Distritos-Precios', value='tab-prueba') ]),\n",
    "    html.Div(id='content')])\n",
    "\n",
    "# Función para mostrar el contenido correspondiente a cada pestaña\n",
    "@app.callback(\n",
    "    dash.dependencies.Output('content', 'children'),\n",
    "    [dash.dependencies.Input('tabs', 'value')]\n",
    ")\n",
    "def render_content(tab):\n",
    "    if tab == 'tab-descripcion':\n",
    "        return html.Div([\n",
    "            html.H2('Descripción del proyecto' ,style={'text-align': 'center'})\n",
    "        ])\n",
    "    \n",
    "    elif tab == 'tab-noticias':\n",
    "        return html.Div([\n",
    "            html.H2('Noticias' ,style={'text-align': 'center'}),\n",
    "            html.H3('Noticias positivas para el sol' ,style={'text-align': 'center'}),\n",
    "            \n",
    "            dcc.Graph(\n",
    "                figure=go.Figure(data=[go.Table(\n",
    "                    header=dict(values=list(bueno.columns),\n",
    "                                fill_color='paleturquoise',\n",
    "                                align='left'),\n",
    "                    cells=dict(values=[bueno['TITULO'], bueno['FECHA'], bueno['URL']],\n",
    "                               fill_color='lavender',\n",
    "                               align='left'))\n",
    "                ])\n",
    "            ),\n",
    "            html.H3('Noticias negativas para el sol' ,style={'text-align': 'center'}),            \n",
    "            dcc.Graph(\n",
    "                figure=go.Figure(data=[go.Table(\n",
    "                    header=dict(values=list(malo.columns),\n",
    "                                fill_color='paleturquoise',\n",
    "                                align='left'),\n",
    "                    cells=dict(values=[malo['TITULO'], malo['FECHA'], malo['URL']],\n",
    "                               fill_color='lavender',\n",
    "                               align='left'))\n",
    "                ])\n",
    "            )\n",
    "        ])\n",
    "    elif tab == 'tab-indicadores':\n",
    "        return html.Div([\n",
    "            html.H2('Indicadores Economicos' ,style={'text-align': 'center'}),\n",
    "            html.H3('Inflacion' ,style={'text-align': 'center'}),\n",
    "            dcc.Graph(\n",
    "                figure=go.Figure(\n",
    "                    data=[go.Scatter(x=Df['Fechas'], y=Df['Valores'], mode='lines', marker=dict(color='red'))],\n",
    "                    layout=go.Layout(\n",
    "                        xaxis=dict(title='Fechas'),\n",
    "                        yaxis=dict(title='Precio'),\n",
    "                    )\n",
    "                )\n",
    "            ),\n",
    "            html.H3('Soles VS Dolares' ,style={'text-align': 'center'}),\n",
    "            dcc.Graph(\n",
    "                figure=go.Figure(\n",
    "                    data=[go.Scatter(x=df['Fechas'], y=df['Valores'], mode='lines', marker=dict(color='green'))],\n",
    "                    layout=go.Layout(\n",
    "                        xaxis=dict(title='Fechas'),\n",
    "                        yaxis=dict(title='Precio'),\n",
    "                    )))\n",
    "        ])\n",
    "    \n",
    "    elif tab == 'tab-prueba':\n",
    "        return html.Div([\n",
    "            html.H2('Distritos' ,style={'text-align': 'center'}),\n",
    "            html.H3('Promedios' ,style={'text-align': 'center'}),\n",
    "            html.H3('Maximo' ,style={'text-align': 'center'}),\n",
    "            html.H3('Minimo' ,style={'text-align': 'center'}),\n",
    "        ])\n",
    "    \n",
    "\n",
    "\n",
    "if __name__ == '__main__':\n",
    "    app.run_server(debug=False, port=8060) "
   ]
  }
 ],
 "metadata": {
  "kernelspec": {
   "display_name": "Python 3 (ipykernel)",
   "language": "python",
   "name": "python3"
  },
  "language_info": {
   "codemirror_mode": {
    "name": "ipython",
    "version": 3
   },
   "file_extension": ".py",
   "mimetype": "text/x-python",
   "name": "python",
   "nbconvert_exporter": "python",
   "pygments_lexer": "ipython3",
   "version": "3.10.9"
  }
 },
 "nbformat": 4,
 "nbformat_minor": 5
}
