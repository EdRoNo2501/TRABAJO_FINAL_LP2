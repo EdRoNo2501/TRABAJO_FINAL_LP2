{
 "cells": [
  {
   "cell_type": "code",
   "execution_count": 3,
   "id": "780151a7",
   "metadata": {},
   "outputs": [
    {
     "name": "stdout",
     "output_type": "stream",
     "text": [
      "Collecting dash\n",
      "  Using cached dash-2.11.1-py3-none-any.whl (10.4 MB)\n",
      "Collecting dash-core-components==2.0.0\n",
      "  Using cached dash_core_components-2.0.0-py3-none-any.whl (3.8 kB)\n",
      "Requirement already satisfied: nest-asyncio in c:\\users\\lenovo\\anaconda3\\lib\\site-packages (from dash) (1.5.6)\n",
      "Requirement already satisfied: plotly>=5.0.0 in c:\\users\\lenovo\\anaconda3\\lib\\site-packages (from dash) (5.9.0)\n",
      "Requirement already satisfied: requests in c:\\users\\lenovo\\anaconda3\\lib\\site-packages (from dash) (2.28.1)\n",
      "Collecting dash-html-components==2.0.0\n",
      "  Using cached dash_html_components-2.0.0-py3-none-any.whl (4.1 kB)\n",
      "Collecting retrying\n",
      "  Using cached retrying-1.3.4-py3-none-any.whl (11 kB)\n",
      "Collecting ansi2html\n",
      "  Using cached ansi2html-1.8.0-py3-none-any.whl (16 kB)\n",
      "Requirement already satisfied: Werkzeug<2.3.0 in c:\\users\\lenovo\\anaconda3\\lib\\site-packages (from dash) (2.2.2)\n",
      "Collecting dash-table==5.0.0\n",
      "  Using cached dash_table-5.0.0-py3-none-any.whl (3.9 kB)\n",
      "Requirement already satisfied: typing-extensions>=4.1.1 in c:\\users\\lenovo\\anaconda3\\lib\\site-packages (from dash) (4.7.0)\n",
      "Requirement already satisfied: Flask<2.3.0,>=1.0.4 in c:\\users\\lenovo\\anaconda3\\lib\\site-packages (from dash) (2.2.2)\n",
      "Requirement already satisfied: itsdangerous>=2.0 in c:\\users\\lenovo\\anaconda3\\lib\\site-packages (from Flask<2.3.0,>=1.0.4->dash) (2.0.1)\n",
      "Requirement already satisfied: Jinja2>=3.0 in c:\\users\\lenovo\\anaconda3\\lib\\site-packages (from Flask<2.3.0,>=1.0.4->dash) (3.1.2)\n",
      "Requirement already satisfied: click>=8.0 in c:\\users\\lenovo\\anaconda3\\lib\\site-packages (from Flask<2.3.0,>=1.0.4->dash) (8.0.4)\n",
      "Requirement already satisfied: tenacity>=6.2.0 in c:\\users\\lenovo\\anaconda3\\lib\\site-packages (from plotly>=5.0.0->dash) (8.0.1)\n",
      "Requirement already satisfied: MarkupSafe>=2.1.1 in c:\\users\\lenovo\\anaconda3\\lib\\site-packages (from Werkzeug<2.3.0->dash) (2.1.1)\n",
      "Requirement already satisfied: charset-normalizer<3,>=2 in c:\\users\\lenovo\\anaconda3\\lib\\site-packages (from requests->dash) (2.0.4)\n",
      "Requirement already satisfied: certifi>=2017.4.17 in c:\\users\\lenovo\\anaconda3\\lib\\site-packages (from requests->dash) (2022.12.7)\n",
      "Requirement already satisfied: idna<4,>=2.5 in c:\\users\\lenovo\\anaconda3\\lib\\site-packages (from requests->dash) (2.10)\n",
      "Requirement already satisfied: urllib3<1.27,>=1.21.1 in c:\\users\\lenovo\\anaconda3\\lib\\site-packages (from requests->dash) (1.26.14)\n",
      "Requirement already satisfied: six>=1.7.0 in c:\\users\\lenovo\\anaconda3\\lib\\site-packages (from retrying->dash) (1.16.0)\n",
      "Requirement already satisfied: colorama in c:\\users\\lenovo\\anaconda3\\lib\\site-packages (from click>=8.0->Flask<2.3.0,>=1.0.4->dash) (0.4.6)\n",
      "Installing collected packages: dash-table, dash-html-components, dash-core-components, retrying, ansi2html, dash\n",
      "Successfully installed ansi2html-1.8.0 dash-2.11.1 dash-core-components-2.0.0 dash-html-components-2.0.0 dash-table-5.0.0 retrying-1.3.4\n"
     ]
    }
   ],
   "source": [
    "!pip install dash"
   ]
  },
  {
   "cell_type": "code",
   "execution_count": 6,
   "id": "8521af5d",
   "metadata": {},
   "outputs": [
    {
     "name": "stderr",
     "output_type": "stream",
     "text": [
      "C:\\Users\\Lenovo\\AppData\\Local\\Temp\\ipykernel_4340\\894407931.py:4: UserWarning:\n",
      "\n",
      "\n",
      "The dash_table package is deprecated. Please replace\n",
      "`import dash_table` with `from dash import dash_table`\n",
      "\n",
      "Also, if you're using any of the table format helpers (e.g. Group), replace \n",
      "`from dash_table.Format import Group` with \n",
      "`from dash.dash_table.Format import Group`\n",
      "\n"
     ]
    }
   ],
   "source": [
    "import dash\n",
    "import dash_core_components as dcc\n",
    "import dash_html_components as html\n",
    "import dash_table"
   ]
  },
  {
   "cell_type": "code",
   "execution_count": 8,
   "id": "523b0da7",
   "metadata": {},
   "outputs": [
    {
     "data": {
      "text/html": [
       "\n",
       "        <iframe\n",
       "            width=\"100%\"\n",
       "            height=\"650\"\n",
       "            src=\"http://127.0.0.1:8050/\"\n",
       "            frameborder=\"0\"\n",
       "            allowfullscreen\n",
       "            \n",
       "        ></iframe>\n",
       "        "
      ],
      "text/plain": [
       "<IPython.lib.display.IFrame at 0x20b537ad7e0>"
      ]
     },
     "metadata": {},
     "output_type": "display_data"
    },
    {
     "name": "stdout",
     "output_type": "stream",
     "text": [
      "\u001b[1;31m---------------------------------------------------------------------------\u001b[0m\n",
      "\u001b[1;31mAttributeError\u001b[0m                            Traceback (most recent call last)\n",
      "\u001b[1;31mAttributeError\u001b[0m: module 'dash_core_components' has no attribute 'DataTable'\n",
      "\n"
     ]
    }
   ],
   "source": [
    "import dash\n",
    "import dash_core_components as dcc\n",
    "import dash_html_components as html\n",
    "import pandas as pd\n",
    "\n",
    "# Lee los datos de los archivos CSV\n",
    "bueno = pd.read_csv(\"dolar_bueno.csv\")\n",
    "malo = pd.read_csv(\"dolar_malo.csv\")\n",
    "\n",
    "# Crea la aplicación Dash\n",
    "app = dash.Dash(__name__)\n",
    "\n",
    "# Define el layout del dashboard\n",
    "app.layout = html.Div([\n",
    "    html.H1(\"Análisis de Venta de Casas\"),\n",
    "    \n",
    "    html.H2(\"Noticias\"),\n",
    "    \n",
    "    html.H3(\"Descripción del caso\"),\n",
    "    \n",
    "    html.H3(\"Tabla de Datos\"),\n",
    "    \n",
    "    html.H2(\"Indicadores\"),\n",
    "    \n",
    "    html.H3(\"Morosidad\"),\n",
    "    \n",
    "    html.H3(\"Solicitantes mujeres\"),\n",
    "    \n",
    "    html.H3(\"Gráfica de Morosidad\"),\n",
    "    \n",
    "    html.H3(\"Morosidad vs Edad\"),\n",
    "    \n",
    "    html.H2(\"Prueba\"),\n",
    "    \n",
    "    html.H3(\"\"),\n",
    "    \n",
    "    html.H3(\"\"),\n",
    "    \n",
    "    html.H3(\"\"),\n",
    "    \n",
    "    html.H2(\"Columnas\"),\n",
    "    \n",
    "    html.H3(\"Fila 1\"),\n",
    "    \n",
    "    html.H3(\"Fila 2\"),\n",
    "    \n",
    "    html.H3(\"Fila 1\"),\n",
    "    \n",
    "    html.H3(\"Fila 1\"),\n",
    "    \n",
    "    html.H3(\"Fila 2\"),\n",
    "    \n",
    "    html.H3(\"Fila 3\"),\n",
    "    \n",
    "    html.H2(\"Noticias\"),\n",
    "    \n",
    "    dcc.Tab(id=\"noticias-tab\", value=\"buenas\", children=[\n",
    "        dcc.Tab(label=\"Noticias sobre el dolar buenas\", value=\"buenas\"),\n",
    "        dcc.Tab(label=\"Noticias sobre el dolar malas\", value=\"malas\")\n",
    "    ]),\n",
    "    \n",
    "    html.Div(id=\"noticias-content\")\n",
    "])\n",
    "\n",
    "# Define el callback para cambiar el contenido de las noticias\n",
    "@app.callback(\n",
    "    dash.dependencies.Output(\"noticias-content\", \"children\"),\n",
    "    [dash.dependencies.Input(\"noticias-tab\", \"value\")]\n",
    ")\n",
    "def update_noticias_content(tab_value):\n",
    "    if tab_value == \"buenas\":\n",
    "        return html.Div([\n",
    "            html.H3(\"Noticias sobre el dolar buenas\"),\n",
    "            dcc.DataTable(\n",
    "                id=\"bueno-table\",\n",
    "                columns=[{\"name\": col, \"id\": col} for col in bueno.columns],\n",
    "                data=bueno.to_dict(\"records\"),\n",
    "                page_size=10\n",
    "            )\n",
    "        ])\n",
    "    elif tab_value == \"malas\":\n",
    "        return html.Div([\n",
    "            html.H3(\"Noticias sobre el dolar malas\"),\n",
    "            dcc.DataTable(\n",
    "                id=\"malo-table\",\n",
    "                columns=[{\"name\": col, \"id\": col} for col in malo.columns],\n",
    "                data=malo.to_dict(\"records\"),\n",
    "                page_size=10\n",
    "            )\n",
    "        ])\n",
    "\n",
    "# Ejecuta la aplicación\n",
    "if __name__ == \"__main__\":\n",
    "    app.run_server(debug=True)"
   ]
  },
  {
   "cell_type": "code",
   "execution_count": 14,
   "id": "9710bc82",
   "metadata": {},
   "outputs": [
    {
     "data": {
      "application/vnd.plotly.v1+json": {
       "config": {
        "plotlyServerURL": "https://plot.ly"
       },
       "data": [
        {
         "cells": {
          "align": "left",
          "fill": {
           "color": "lavender"
          },
          "values": [
           [
            "Dólar en Perú hoy, jueves 18 de mayo: Revisa a cómo se cotiza el tipo de cambio en las apps gratuitas",
            "Dólar en Perú hoy, jueves 18 de mayo: Revisa a cómo se cotiza el tipo de cambio en las apps gratuitas",
            "Dólar en Perú cerró a la baja hoy, viernes 16 de diciembre del 2022",
            "Dólar en Perú cerró a la baja hoy, viernes 16 de diciembre del 2022",
            "Dólar en Perú hoy, jueves 18 de mayo: Revisa a cómo se cotiza el tipo de cambio en las apps gratuitas",
            "Dólar en Perú hoy, jueves 18 de mayo: Revisa a cómo se cotiza el tipo de cambio en las apps gratuitas",
            "Dólar en Perú cerró a la baja hoy, viernes 16 de diciembre del 2022",
            "Dólar en Perú cerró a la baja hoy, viernes 16 de diciembre del 2022",
            "Dólar en Perú hoy, jueves 18 de mayo: Revisa a cómo se cotiza el tipo de cambio en las apps gratuitas",
            "Dólar en Perú hoy, jueves 18 de mayo: Revisa a cómo se cotiza el tipo de cambio en las apps gratuitas",
            "Dólar en Perú cerró a la baja hoy, viernes 16 de diciembre del 2022",
            "Dólar en Perú cerró a la baja hoy, viernes 16 de diciembre del 2022",
            "Dólar en Perú hoy, jueves 18 de mayo: Revisa a cómo se cotiza el tipo de cambio en las apps gratuitas",
            "Dólar en Perú hoy, jueves 18 de mayo: Revisa a cómo se cotiza el tipo de cambio en las apps gratuitas",
            "Dólar en Perú cerró a la baja hoy, viernes 16 de diciembre del 2022",
            "Dólar en Perú cerró a la baja hoy, viernes 16 de diciembre del 2022",
            "Dólar en Perú hoy, jueves 18 de mayo: Revisa a cómo se cotiza el tipo de cambio en las apps gratuitas",
            "Dólar en Perú hoy, jueves 18 de mayo: Revisa a cómo se cotiza el tipo de cambio en las apps gratuitas",
            "Dólar en Perú cerró a la baja hoy, viernes 16 de diciembre del 2022",
            "Dólar en Perú cerró a la baja hoy, viernes 16 de diciembre del 2022",
            "Dólar en Perú hoy, jueves 18 de mayo: Revisa a cómo se cotiza el tipo de cambio en las apps gratuitas",
            "Dólar en Perú hoy, jueves 18 de mayo: Revisa a cómo se cotiza el tipo de cambio en las apps gratuitas",
            "Dólar en Perú cerró a la baja hoy, viernes 16 de diciembre del 2022",
            "Dólar en Perú cerró a la baja hoy, viernes 16 de diciembre del 2022",
            "Dólar en Perú hoy, jueves 18 de mayo: Revisa a cómo se cotiza el tipo de cambio en las apps gratuitas",
            "Dólar en Perú hoy, jueves 18 de mayo: Revisa a cómo se cotiza el tipo de cambio en las apps gratuitas",
            "Dólar en Perú cerró a la baja hoy, viernes 16 de diciembre del 2022",
            "Dólar en Perú cerró a la baja hoy, viernes 16 de diciembre del 2022",
            "Dólar en Perú hoy, jueves 18 de mayo: Revisa a cómo se cotiza el tipo de cambio en las apps gratuitas",
            "Dólar en Perú hoy, jueves 18 de mayo: Revisa a cómo se cotiza el tipo de cambio en las apps gratuitas",
            "Dólar en Perú cerró a la baja hoy, viernes 16 de diciembre del 2022",
            "Dólar en Perú cerró a la baja hoy, viernes 16 de diciembre del 2022",
            "Dólar en Perú hoy, jueves 18 de mayo: Revisa a cómo se cotiza el tipo de cambio en las apps gratuitas",
            "Dólar en Perú hoy, jueves 18 de mayo: Revisa a cómo se cotiza el tipo de cambio en las apps gratuitas",
            "Dólar en Perú cerró a la baja hoy, viernes 16 de diciembre del 2022",
            "Dólar en Perú cerró a la baja hoy, viernes 16 de diciembre del 2022",
            "Dólar en Perú hoy, jueves 18 de mayo: Revisa a cómo se cotiza el tipo de cambio en las apps gratuitas",
            "Dólar en Perú hoy, jueves 18 de mayo: Revisa a cómo se cotiza el tipo de cambio en las apps gratuitas",
            "Dólar en Perú cerró a la baja hoy, viernes 16 de diciembre del 2022",
            "Dólar en Perú cerró a la baja hoy, viernes 16 de diciembre del 2022"
           ],
           [
            "18/05/2023 15H29",
            "18/05/2023 15H29",
            "16/12/2022 17H00",
            "16/12/2022 17H00",
            "18/05/2023 15H29",
            "18/05/2023 15H29",
            "16/12/2022 17H00",
            "16/12/2022 17H00",
            "18/05/2023 15H29",
            "18/05/2023 15H29",
            "16/12/2022 17H00",
            "16/12/2022 17H00",
            "18/05/2023 15H29",
            "18/05/2023 15H29",
            "16/12/2022 17H00",
            "16/12/2022 17H00",
            "18/05/2023 15H29",
            "18/05/2023 15H29",
            "16/12/2022 17H00",
            "16/12/2022 17H00",
            "18/05/2023 15H29",
            "18/05/2023 15H29",
            "16/12/2022 17H00",
            "16/12/2022 17H00",
            "18/05/2023 15H29",
            "18/05/2023 15H29",
            "16/12/2022 17H00",
            "16/12/2022 17H00",
            "18/05/2023 15H29",
            "18/05/2023 15H29",
            "16/12/2022 17H00",
            "16/12/2022 17H00",
            "18/05/2023 15H29",
            "18/05/2023 15H29",
            "16/12/2022 17H00",
            "16/12/2022 17H00",
            "18/05/2023 15H29",
            "18/05/2023 15H29",
            "16/12/2022 17H00",
            "16/12/2022 17H00"
           ],
           [
            "https://elcomercio.pe/economia/mercados/precio-del-dolar-peru-tipo-de-cambio-18-de-mayo-2023-noticia/",
            "https://elcomercio.pe/economia/mercados/precio-del-dolar-peru-tipo-de-cambio-18-de-mayo-2023-noticia/",
            "https://elcomercio.pe/economia/mercados/precio-dolar-en-peru-hoy-tipo-de-cambio-este-viernes-16-de-diciembre-compra-y-venta-dolares-a-soles-dolar-de-hoy-bcr-banco-central-de-reserva-rmmn-noticia/",
            "https://elcomercio.pe/economia/mercados/precio-dolar-en-peru-hoy-tipo-de-cambio-este-viernes-16-de-diciembre-compra-y-venta-dolares-a-soles-dolar-de-hoy-bcr-banco-central-de-reserva-rmmn-noticia/",
            "https://elcomercio.pe/economia/mercados/precio-del-dolar-peru-tipo-de-cambio-18-de-mayo-2023-noticia/",
            "https://elcomercio.pe/economia/mercados/precio-del-dolar-peru-tipo-de-cambio-18-de-mayo-2023-noticia/",
            "https://elcomercio.pe/economia/mercados/precio-dolar-en-peru-hoy-tipo-de-cambio-este-viernes-16-de-diciembre-compra-y-venta-dolares-a-soles-dolar-de-hoy-bcr-banco-central-de-reserva-rmmn-noticia/",
            "https://elcomercio.pe/economia/mercados/precio-dolar-en-peru-hoy-tipo-de-cambio-este-viernes-16-de-diciembre-compra-y-venta-dolares-a-soles-dolar-de-hoy-bcr-banco-central-de-reserva-rmmn-noticia/",
            "https://elcomercio.pe/economia/mercados/precio-del-dolar-peru-tipo-de-cambio-18-de-mayo-2023-noticia/",
            "https://elcomercio.pe/economia/mercados/precio-del-dolar-peru-tipo-de-cambio-18-de-mayo-2023-noticia/",
            "https://elcomercio.pe/economia/mercados/precio-dolar-en-peru-hoy-tipo-de-cambio-este-viernes-16-de-diciembre-compra-y-venta-dolares-a-soles-dolar-de-hoy-bcr-banco-central-de-reserva-rmmn-noticia/",
            "https://elcomercio.pe/economia/mercados/precio-dolar-en-peru-hoy-tipo-de-cambio-este-viernes-16-de-diciembre-compra-y-venta-dolares-a-soles-dolar-de-hoy-bcr-banco-central-de-reserva-rmmn-noticia/",
            "https://elcomercio.pe/economia/mercados/precio-del-dolar-peru-tipo-de-cambio-18-de-mayo-2023-noticia/",
            "https://elcomercio.pe/economia/mercados/precio-del-dolar-peru-tipo-de-cambio-18-de-mayo-2023-noticia/",
            "https://elcomercio.pe/economia/mercados/precio-dolar-en-peru-hoy-tipo-de-cambio-este-viernes-16-de-diciembre-compra-y-venta-dolares-a-soles-dolar-de-hoy-bcr-banco-central-de-reserva-rmmn-noticia/",
            "https://elcomercio.pe/economia/mercados/precio-dolar-en-peru-hoy-tipo-de-cambio-este-viernes-16-de-diciembre-compra-y-venta-dolares-a-soles-dolar-de-hoy-bcr-banco-central-de-reserva-rmmn-noticia/",
            "https://elcomercio.pe/economia/mercados/precio-del-dolar-peru-tipo-de-cambio-18-de-mayo-2023-noticia/",
            "https://elcomercio.pe/economia/mercados/precio-del-dolar-peru-tipo-de-cambio-18-de-mayo-2023-noticia/",
            "https://elcomercio.pe/economia/mercados/precio-dolar-en-peru-hoy-tipo-de-cambio-este-viernes-16-de-diciembre-compra-y-venta-dolares-a-soles-dolar-de-hoy-bcr-banco-central-de-reserva-rmmn-noticia/",
            "https://elcomercio.pe/economia/mercados/precio-dolar-en-peru-hoy-tipo-de-cambio-este-viernes-16-de-diciembre-compra-y-venta-dolares-a-soles-dolar-de-hoy-bcr-banco-central-de-reserva-rmmn-noticia/",
            "https://elcomercio.pe/economia/mercados/precio-del-dolar-peru-tipo-de-cambio-18-de-mayo-2023-noticia/",
            "https://elcomercio.pe/economia/mercados/precio-del-dolar-peru-tipo-de-cambio-18-de-mayo-2023-noticia/",
            "https://elcomercio.pe/economia/mercados/precio-dolar-en-peru-hoy-tipo-de-cambio-este-viernes-16-de-diciembre-compra-y-venta-dolares-a-soles-dolar-de-hoy-bcr-banco-central-de-reserva-rmmn-noticia/",
            "https://elcomercio.pe/economia/mercados/precio-dolar-en-peru-hoy-tipo-de-cambio-este-viernes-16-de-diciembre-compra-y-venta-dolares-a-soles-dolar-de-hoy-bcr-banco-central-de-reserva-rmmn-noticia/",
            "https://elcomercio.pe/economia/mercados/precio-del-dolar-peru-tipo-de-cambio-18-de-mayo-2023-noticia/",
            "https://elcomercio.pe/economia/mercados/precio-del-dolar-peru-tipo-de-cambio-18-de-mayo-2023-noticia/",
            "https://elcomercio.pe/economia/mercados/precio-dolar-en-peru-hoy-tipo-de-cambio-este-viernes-16-de-diciembre-compra-y-venta-dolares-a-soles-dolar-de-hoy-bcr-banco-central-de-reserva-rmmn-noticia/",
            "https://elcomercio.pe/economia/mercados/precio-dolar-en-peru-hoy-tipo-de-cambio-este-viernes-16-de-diciembre-compra-y-venta-dolares-a-soles-dolar-de-hoy-bcr-banco-central-de-reserva-rmmn-noticia/",
            "https://elcomercio.pe/economia/mercados/precio-del-dolar-peru-tipo-de-cambio-18-de-mayo-2023-noticia/",
            "https://elcomercio.pe/economia/mercados/precio-del-dolar-peru-tipo-de-cambio-18-de-mayo-2023-noticia/",
            "https://elcomercio.pe/economia/mercados/precio-dolar-en-peru-hoy-tipo-de-cambio-este-viernes-16-de-diciembre-compra-y-venta-dolares-a-soles-dolar-de-hoy-bcr-banco-central-de-reserva-rmmn-noticia/",
            "https://elcomercio.pe/economia/mercados/precio-dolar-en-peru-hoy-tipo-de-cambio-este-viernes-16-de-diciembre-compra-y-venta-dolares-a-soles-dolar-de-hoy-bcr-banco-central-de-reserva-rmmn-noticia/",
            "https://elcomercio.pe/economia/mercados/precio-del-dolar-peru-tipo-de-cambio-18-de-mayo-2023-noticia/",
            "https://elcomercio.pe/economia/mercados/precio-del-dolar-peru-tipo-de-cambio-18-de-mayo-2023-noticia/",
            "https://elcomercio.pe/economia/mercados/precio-dolar-en-peru-hoy-tipo-de-cambio-este-viernes-16-de-diciembre-compra-y-venta-dolares-a-soles-dolar-de-hoy-bcr-banco-central-de-reserva-rmmn-noticia/",
            "https://elcomercio.pe/economia/mercados/precio-dolar-en-peru-hoy-tipo-de-cambio-este-viernes-16-de-diciembre-compra-y-venta-dolares-a-soles-dolar-de-hoy-bcr-banco-central-de-reserva-rmmn-noticia/",
            "https://elcomercio.pe/economia/mercados/precio-del-dolar-peru-tipo-de-cambio-18-de-mayo-2023-noticia/",
            "https://elcomercio.pe/economia/mercados/precio-del-dolar-peru-tipo-de-cambio-18-de-mayo-2023-noticia/",
            "https://elcomercio.pe/economia/mercados/precio-dolar-en-peru-hoy-tipo-de-cambio-este-viernes-16-de-diciembre-compra-y-venta-dolares-a-soles-dolar-de-hoy-bcr-banco-central-de-reserva-rmmn-noticia/",
            "https://elcomercio.pe/economia/mercados/precio-dolar-en-peru-hoy-tipo-de-cambio-este-viernes-16-de-diciembre-compra-y-venta-dolares-a-soles-dolar-de-hoy-bcr-banco-central-de-reserva-rmmn-noticia/"
           ]
          ]
         },
         "header": {
          "align": "left",
          "fill": {
           "color": "paleturquoise"
          },
          "values": [
           "TITULO",
           "FECHA",
           "URL"
          ]
         },
         "type": "table"
        }
       ],
       "layout": {
        "template": {
         "data": {
          "bar": [
           {
            "error_x": {
             "color": "#2a3f5f"
            },
            "error_y": {
             "color": "#2a3f5f"
            },
            "marker": {
             "line": {
              "color": "#E5ECF6",
              "width": 0.5
             },
             "pattern": {
              "fillmode": "overlay",
              "size": 10,
              "solidity": 0.2
             }
            },
            "type": "bar"
           }
          ],
          "barpolar": [
           {
            "marker": {
             "line": {
              "color": "#E5ECF6",
              "width": 0.5
             },
             "pattern": {
              "fillmode": "overlay",
              "size": 10,
              "solidity": 0.2
             }
            },
            "type": "barpolar"
           }
          ],
          "carpet": [
           {
            "aaxis": {
             "endlinecolor": "#2a3f5f",
             "gridcolor": "white",
             "linecolor": "white",
             "minorgridcolor": "white",
             "startlinecolor": "#2a3f5f"
            },
            "baxis": {
             "endlinecolor": "#2a3f5f",
             "gridcolor": "white",
             "linecolor": "white",
             "minorgridcolor": "white",
             "startlinecolor": "#2a3f5f"
            },
            "type": "carpet"
           }
          ],
          "choropleth": [
           {
            "colorbar": {
             "outlinewidth": 0,
             "ticks": ""
            },
            "type": "choropleth"
           }
          ],
          "contour": [
           {
            "colorbar": {
             "outlinewidth": 0,
             "ticks": ""
            },
            "colorscale": [
             [
              0,
              "#0d0887"
             ],
             [
              0.1111111111111111,
              "#46039f"
             ],
             [
              0.2222222222222222,
              "#7201a8"
             ],
             [
              0.3333333333333333,
              "#9c179e"
             ],
             [
              0.4444444444444444,
              "#bd3786"
             ],
             [
              0.5555555555555556,
              "#d8576b"
             ],
             [
              0.6666666666666666,
              "#ed7953"
             ],
             [
              0.7777777777777778,
              "#fb9f3a"
             ],
             [
              0.8888888888888888,
              "#fdca26"
             ],
             [
              1,
              "#f0f921"
             ]
            ],
            "type": "contour"
           }
          ],
          "contourcarpet": [
           {
            "colorbar": {
             "outlinewidth": 0,
             "ticks": ""
            },
            "type": "contourcarpet"
           }
          ],
          "heatmap": [
           {
            "colorbar": {
             "outlinewidth": 0,
             "ticks": ""
            },
            "colorscale": [
             [
              0,
              "#0d0887"
             ],
             [
              0.1111111111111111,
              "#46039f"
             ],
             [
              0.2222222222222222,
              "#7201a8"
             ],
             [
              0.3333333333333333,
              "#9c179e"
             ],
             [
              0.4444444444444444,
              "#bd3786"
             ],
             [
              0.5555555555555556,
              "#d8576b"
             ],
             [
              0.6666666666666666,
              "#ed7953"
             ],
             [
              0.7777777777777778,
              "#fb9f3a"
             ],
             [
              0.8888888888888888,
              "#fdca26"
             ],
             [
              1,
              "#f0f921"
             ]
            ],
            "type": "heatmap"
           }
          ],
          "heatmapgl": [
           {
            "colorbar": {
             "outlinewidth": 0,
             "ticks": ""
            },
            "colorscale": [
             [
              0,
              "#0d0887"
             ],
             [
              0.1111111111111111,
              "#46039f"
             ],
             [
              0.2222222222222222,
              "#7201a8"
             ],
             [
              0.3333333333333333,
              "#9c179e"
             ],
             [
              0.4444444444444444,
              "#bd3786"
             ],
             [
              0.5555555555555556,
              "#d8576b"
             ],
             [
              0.6666666666666666,
              "#ed7953"
             ],
             [
              0.7777777777777778,
              "#fb9f3a"
             ],
             [
              0.8888888888888888,
              "#fdca26"
             ],
             [
              1,
              "#f0f921"
             ]
            ],
            "type": "heatmapgl"
           }
          ],
          "histogram": [
           {
            "marker": {
             "pattern": {
              "fillmode": "overlay",
              "size": 10,
              "solidity": 0.2
             }
            },
            "type": "histogram"
           }
          ],
          "histogram2d": [
           {
            "colorbar": {
             "outlinewidth": 0,
             "ticks": ""
            },
            "colorscale": [
             [
              0,
              "#0d0887"
             ],
             [
              0.1111111111111111,
              "#46039f"
             ],
             [
              0.2222222222222222,
              "#7201a8"
             ],
             [
              0.3333333333333333,
              "#9c179e"
             ],
             [
              0.4444444444444444,
              "#bd3786"
             ],
             [
              0.5555555555555556,
              "#d8576b"
             ],
             [
              0.6666666666666666,
              "#ed7953"
             ],
             [
              0.7777777777777778,
              "#fb9f3a"
             ],
             [
              0.8888888888888888,
              "#fdca26"
             ],
             [
              1,
              "#f0f921"
             ]
            ],
            "type": "histogram2d"
           }
          ],
          "histogram2dcontour": [
           {
            "colorbar": {
             "outlinewidth": 0,
             "ticks": ""
            },
            "colorscale": [
             [
              0,
              "#0d0887"
             ],
             [
              0.1111111111111111,
              "#46039f"
             ],
             [
              0.2222222222222222,
              "#7201a8"
             ],
             [
              0.3333333333333333,
              "#9c179e"
             ],
             [
              0.4444444444444444,
              "#bd3786"
             ],
             [
              0.5555555555555556,
              "#d8576b"
             ],
             [
              0.6666666666666666,
              "#ed7953"
             ],
             [
              0.7777777777777778,
              "#fb9f3a"
             ],
             [
              0.8888888888888888,
              "#fdca26"
             ],
             [
              1,
              "#f0f921"
             ]
            ],
            "type": "histogram2dcontour"
           }
          ],
          "mesh3d": [
           {
            "colorbar": {
             "outlinewidth": 0,
             "ticks": ""
            },
            "type": "mesh3d"
           }
          ],
          "parcoords": [
           {
            "line": {
             "colorbar": {
              "outlinewidth": 0,
              "ticks": ""
             }
            },
            "type": "parcoords"
           }
          ],
          "pie": [
           {
            "automargin": true,
            "type": "pie"
           }
          ],
          "scatter": [
           {
            "fillpattern": {
             "fillmode": "overlay",
             "size": 10,
             "solidity": 0.2
            },
            "type": "scatter"
           }
          ],
          "scatter3d": [
           {
            "line": {
             "colorbar": {
              "outlinewidth": 0,
              "ticks": ""
             }
            },
            "marker": {
             "colorbar": {
              "outlinewidth": 0,
              "ticks": ""
             }
            },
            "type": "scatter3d"
           }
          ],
          "scattercarpet": [
           {
            "marker": {
             "colorbar": {
              "outlinewidth": 0,
              "ticks": ""
             }
            },
            "type": "scattercarpet"
           }
          ],
          "scattergeo": [
           {
            "marker": {
             "colorbar": {
              "outlinewidth": 0,
              "ticks": ""
             }
            },
            "type": "scattergeo"
           }
          ],
          "scattergl": [
           {
            "marker": {
             "colorbar": {
              "outlinewidth": 0,
              "ticks": ""
             }
            },
            "type": "scattergl"
           }
          ],
          "scattermapbox": [
           {
            "marker": {
             "colorbar": {
              "outlinewidth": 0,
              "ticks": ""
             }
            },
            "type": "scattermapbox"
           }
          ],
          "scatterpolar": [
           {
            "marker": {
             "colorbar": {
              "outlinewidth": 0,
              "ticks": ""
             }
            },
            "type": "scatterpolar"
           }
          ],
          "scatterpolargl": [
           {
            "marker": {
             "colorbar": {
              "outlinewidth": 0,
              "ticks": ""
             }
            },
            "type": "scatterpolargl"
           }
          ],
          "scatterternary": [
           {
            "marker": {
             "colorbar": {
              "outlinewidth": 0,
              "ticks": ""
             }
            },
            "type": "scatterternary"
           }
          ],
          "surface": [
           {
            "colorbar": {
             "outlinewidth": 0,
             "ticks": ""
            },
            "colorscale": [
             [
              0,
              "#0d0887"
             ],
             [
              0.1111111111111111,
              "#46039f"
             ],
             [
              0.2222222222222222,
              "#7201a8"
             ],
             [
              0.3333333333333333,
              "#9c179e"
             ],
             [
              0.4444444444444444,
              "#bd3786"
             ],
             [
              0.5555555555555556,
              "#d8576b"
             ],
             [
              0.6666666666666666,
              "#ed7953"
             ],
             [
              0.7777777777777778,
              "#fb9f3a"
             ],
             [
              0.8888888888888888,
              "#fdca26"
             ],
             [
              1,
              "#f0f921"
             ]
            ],
            "type": "surface"
           }
          ],
          "table": [
           {
            "cells": {
             "fill": {
              "color": "#EBF0F8"
             },
             "line": {
              "color": "white"
             }
            },
            "header": {
             "fill": {
              "color": "#C8D4E3"
             },
             "line": {
              "color": "white"
             }
            },
            "type": "table"
           }
          ]
         },
         "layout": {
          "annotationdefaults": {
           "arrowcolor": "#2a3f5f",
           "arrowhead": 0,
           "arrowwidth": 1
          },
          "autotypenumbers": "strict",
          "coloraxis": {
           "colorbar": {
            "outlinewidth": 0,
            "ticks": ""
           }
          },
          "colorscale": {
           "diverging": [
            [
             0,
             "#8e0152"
            ],
            [
             0.1,
             "#c51b7d"
            ],
            [
             0.2,
             "#de77ae"
            ],
            [
             0.3,
             "#f1b6da"
            ],
            [
             0.4,
             "#fde0ef"
            ],
            [
             0.5,
             "#f7f7f7"
            ],
            [
             0.6,
             "#e6f5d0"
            ],
            [
             0.7,
             "#b8e186"
            ],
            [
             0.8,
             "#7fbc41"
            ],
            [
             0.9,
             "#4d9221"
            ],
            [
             1,
             "#276419"
            ]
           ],
           "sequential": [
            [
             0,
             "#0d0887"
            ],
            [
             0.1111111111111111,
             "#46039f"
            ],
            [
             0.2222222222222222,
             "#7201a8"
            ],
            [
             0.3333333333333333,
             "#9c179e"
            ],
            [
             0.4444444444444444,
             "#bd3786"
            ],
            [
             0.5555555555555556,
             "#d8576b"
            ],
            [
             0.6666666666666666,
             "#ed7953"
            ],
            [
             0.7777777777777778,
             "#fb9f3a"
            ],
            [
             0.8888888888888888,
             "#fdca26"
            ],
            [
             1,
             "#f0f921"
            ]
           ],
           "sequentialminus": [
            [
             0,
             "#0d0887"
            ],
            [
             0.1111111111111111,
             "#46039f"
            ],
            [
             0.2222222222222222,
             "#7201a8"
            ],
            [
             0.3333333333333333,
             "#9c179e"
            ],
            [
             0.4444444444444444,
             "#bd3786"
            ],
            [
             0.5555555555555556,
             "#d8576b"
            ],
            [
             0.6666666666666666,
             "#ed7953"
            ],
            [
             0.7777777777777778,
             "#fb9f3a"
            ],
            [
             0.8888888888888888,
             "#fdca26"
            ],
            [
             1,
             "#f0f921"
            ]
           ]
          },
          "colorway": [
           "#636efa",
           "#EF553B",
           "#00cc96",
           "#ab63fa",
           "#FFA15A",
           "#19d3f3",
           "#FF6692",
           "#B6E880",
           "#FF97FF",
           "#FECB52"
          ],
          "font": {
           "color": "#2a3f5f"
          },
          "geo": {
           "bgcolor": "white",
           "lakecolor": "white",
           "landcolor": "#E5ECF6",
           "showlakes": true,
           "showland": true,
           "subunitcolor": "white"
          },
          "hoverlabel": {
           "align": "left"
          },
          "hovermode": "closest",
          "mapbox": {
           "style": "light"
          },
          "paper_bgcolor": "white",
          "plot_bgcolor": "#E5ECF6",
          "polar": {
           "angularaxis": {
            "gridcolor": "white",
            "linecolor": "white",
            "ticks": ""
           },
           "bgcolor": "#E5ECF6",
           "radialaxis": {
            "gridcolor": "white",
            "linecolor": "white",
            "ticks": ""
           }
          },
          "scene": {
           "xaxis": {
            "backgroundcolor": "#E5ECF6",
            "gridcolor": "white",
            "gridwidth": 2,
            "linecolor": "white",
            "showbackground": true,
            "ticks": "",
            "zerolinecolor": "white"
           },
           "yaxis": {
            "backgroundcolor": "#E5ECF6",
            "gridcolor": "white",
            "gridwidth": 2,
            "linecolor": "white",
            "showbackground": true,
            "ticks": "",
            "zerolinecolor": "white"
           },
           "zaxis": {
            "backgroundcolor": "#E5ECF6",
            "gridcolor": "white",
            "gridwidth": 2,
            "linecolor": "white",
            "showbackground": true,
            "ticks": "",
            "zerolinecolor": "white"
           }
          },
          "shapedefaults": {
           "line": {
            "color": "#2a3f5f"
           }
          },
          "ternary": {
           "aaxis": {
            "gridcolor": "white",
            "linecolor": "white",
            "ticks": ""
           },
           "baxis": {
            "gridcolor": "white",
            "linecolor": "white",
            "ticks": ""
           },
           "bgcolor": "#E5ECF6",
           "caxis": {
            "gridcolor": "white",
            "linecolor": "white",
            "ticks": ""
           }
          },
          "title": {
           "x": 0.05
          },
          "xaxis": {
           "automargin": true,
           "gridcolor": "white",
           "linecolor": "white",
           "ticks": "",
           "title": {
            "standoff": 15
           },
           "zerolinecolor": "white",
           "zerolinewidth": 2
          },
          "yaxis": {
           "automargin": true,
           "gridcolor": "white",
           "linecolor": "white",
           "ticks": "",
           "title": {
            "standoff": 15
           },
           "zerolinecolor": "white",
           "zerolinewidth": 2
          }
         }
        }
       }
      },
      "text/html": [
       "<div>                            <div id=\"18ff1cfd-4d57-47f5-94de-a32d68256c7e\" class=\"plotly-graph-div\" style=\"height:525px; width:100%;\"></div>            <script type=\"text/javascript\">                require([\"plotly\"], function(Plotly) {                    window.PLOTLYENV=window.PLOTLYENV || {};                                    if (document.getElementById(\"18ff1cfd-4d57-47f5-94de-a32d68256c7e\")) {                    Plotly.newPlot(                        \"18ff1cfd-4d57-47f5-94de-a32d68256c7e\",                        [{\"cells\":{\"align\":\"left\",\"fill\":{\"color\":\"lavender\"},\"values\":[[\"D\\u00f3lar en Per\\u00fa hoy, jueves 18 de mayo: Revisa a c\\u00f3mo se cotiza el tipo de cambio en las apps gratuitas\",\"D\\u00f3lar en Per\\u00fa hoy, jueves 18 de mayo: Revisa a c\\u00f3mo se cotiza el tipo de cambio en las apps gratuitas\",\"D\\u00f3lar en Per\\u00fa cerr\\u00f3 a la baja hoy, viernes 16 de diciembre del 2022\",\"D\\u00f3lar en Per\\u00fa cerr\\u00f3 a la baja hoy, viernes 16 de diciembre del 2022\",\"D\\u00f3lar en Per\\u00fa hoy, jueves 18 de mayo: Revisa a c\\u00f3mo se cotiza el tipo de cambio en las apps gratuitas\",\"D\\u00f3lar en Per\\u00fa hoy, jueves 18 de mayo: Revisa a c\\u00f3mo se cotiza el tipo de cambio en las apps gratuitas\",\"D\\u00f3lar en Per\\u00fa cerr\\u00f3 a la baja hoy, viernes 16 de diciembre del 2022\",\"D\\u00f3lar en Per\\u00fa cerr\\u00f3 a la baja hoy, viernes 16 de diciembre del 2022\",\"D\\u00f3lar en Per\\u00fa hoy, jueves 18 de mayo: Revisa a c\\u00f3mo se cotiza el tipo de cambio en las apps gratuitas\",\"D\\u00f3lar en Per\\u00fa hoy, jueves 18 de mayo: Revisa a c\\u00f3mo se cotiza el tipo de cambio en las apps gratuitas\",\"D\\u00f3lar en Per\\u00fa cerr\\u00f3 a la baja hoy, viernes 16 de diciembre del 2022\",\"D\\u00f3lar en Per\\u00fa cerr\\u00f3 a la baja hoy, viernes 16 de diciembre del 2022\",\"D\\u00f3lar en Per\\u00fa hoy, jueves 18 de mayo: Revisa a c\\u00f3mo se cotiza el tipo de cambio en las apps gratuitas\",\"D\\u00f3lar en Per\\u00fa hoy, jueves 18 de mayo: Revisa a c\\u00f3mo se cotiza el tipo de cambio en las apps gratuitas\",\"D\\u00f3lar en Per\\u00fa cerr\\u00f3 a la baja hoy, viernes 16 de diciembre del 2022\",\"D\\u00f3lar en Per\\u00fa cerr\\u00f3 a la baja hoy, viernes 16 de diciembre del 2022\",\"D\\u00f3lar en Per\\u00fa hoy, jueves 18 de mayo: Revisa a c\\u00f3mo se cotiza el tipo de cambio en las apps gratuitas\",\"D\\u00f3lar en Per\\u00fa hoy, jueves 18 de mayo: Revisa a c\\u00f3mo se cotiza el tipo de cambio en las apps gratuitas\",\"D\\u00f3lar en Per\\u00fa cerr\\u00f3 a la baja hoy, viernes 16 de diciembre del 2022\",\"D\\u00f3lar en Per\\u00fa cerr\\u00f3 a la baja hoy, viernes 16 de diciembre del 2022\",\"D\\u00f3lar en Per\\u00fa hoy, jueves 18 de mayo: Revisa a c\\u00f3mo se cotiza el tipo de cambio en las apps gratuitas\",\"D\\u00f3lar en Per\\u00fa hoy, jueves 18 de mayo: Revisa a c\\u00f3mo se cotiza el tipo de cambio en las apps gratuitas\",\"D\\u00f3lar en Per\\u00fa cerr\\u00f3 a la baja hoy, viernes 16 de diciembre del 2022\",\"D\\u00f3lar en Per\\u00fa cerr\\u00f3 a la baja hoy, viernes 16 de diciembre del 2022\",\"D\\u00f3lar en Per\\u00fa hoy, jueves 18 de mayo: Revisa a c\\u00f3mo se cotiza el tipo de cambio en las apps gratuitas\",\"D\\u00f3lar en Per\\u00fa hoy, jueves 18 de mayo: Revisa a c\\u00f3mo se cotiza el tipo de cambio en las apps gratuitas\",\"D\\u00f3lar en Per\\u00fa cerr\\u00f3 a la baja hoy, viernes 16 de diciembre del 2022\",\"D\\u00f3lar en Per\\u00fa cerr\\u00f3 a la baja hoy, viernes 16 de diciembre del 2022\",\"D\\u00f3lar en Per\\u00fa hoy, jueves 18 de mayo: Revisa a c\\u00f3mo se cotiza el tipo de cambio en las apps gratuitas\",\"D\\u00f3lar en Per\\u00fa hoy, jueves 18 de mayo: Revisa a c\\u00f3mo se cotiza el tipo de cambio en las apps gratuitas\",\"D\\u00f3lar en Per\\u00fa cerr\\u00f3 a la baja hoy, viernes 16 de diciembre del 2022\",\"D\\u00f3lar en Per\\u00fa cerr\\u00f3 a la baja hoy, viernes 16 de diciembre del 2022\",\"D\\u00f3lar en Per\\u00fa hoy, jueves 18 de mayo: Revisa a c\\u00f3mo se cotiza el tipo de cambio en las apps gratuitas\",\"D\\u00f3lar en Per\\u00fa hoy, jueves 18 de mayo: Revisa a c\\u00f3mo se cotiza el tipo de cambio en las apps gratuitas\",\"D\\u00f3lar en Per\\u00fa cerr\\u00f3 a la baja hoy, viernes 16 de diciembre del 2022\",\"D\\u00f3lar en Per\\u00fa cerr\\u00f3 a la baja hoy, viernes 16 de diciembre del 2022\",\"D\\u00f3lar en Per\\u00fa hoy, jueves 18 de mayo: Revisa a c\\u00f3mo se cotiza el tipo de cambio en las apps gratuitas\",\"D\\u00f3lar en Per\\u00fa hoy, jueves 18 de mayo: Revisa a c\\u00f3mo se cotiza el tipo de cambio en las apps gratuitas\",\"D\\u00f3lar en Per\\u00fa cerr\\u00f3 a la baja hoy, viernes 16 de diciembre del 2022\",\"D\\u00f3lar en Per\\u00fa cerr\\u00f3 a la baja hoy, viernes 16 de diciembre del 2022\"],[\"18/05/2023 15H29\",\"18/05/2023 15H29\",\"16/12/2022 17H00\",\"16/12/2022 17H00\",\"18/05/2023 15H29\",\"18/05/2023 15H29\",\"16/12/2022 17H00\",\"16/12/2022 17H00\",\"18/05/2023 15H29\",\"18/05/2023 15H29\",\"16/12/2022 17H00\",\"16/12/2022 17H00\",\"18/05/2023 15H29\",\"18/05/2023 15H29\",\"16/12/2022 17H00\",\"16/12/2022 17H00\",\"18/05/2023 15H29\",\"18/05/2023 15H29\",\"16/12/2022 17H00\",\"16/12/2022 17H00\",\"18/05/2023 15H29\",\"18/05/2023 15H29\",\"16/12/2022 17H00\",\"16/12/2022 17H00\",\"18/05/2023 15H29\",\"18/05/2023 15H29\",\"16/12/2022 17H00\",\"16/12/2022 17H00\",\"18/05/2023 15H29\",\"18/05/2023 15H29\",\"16/12/2022 17H00\",\"16/12/2022 17H00\",\"18/05/2023 15H29\",\"18/05/2023 15H29\",\"16/12/2022 17H00\",\"16/12/2022 17H00\",\"18/05/2023 15H29\",\"18/05/2023 15H29\",\"16/12/2022 17H00\",\"16/12/2022 17H00\"],[\"https://elcomercio.pe/economia/mercados/precio-del-dolar-peru-tipo-de-cambio-18-de-mayo-2023-noticia/\",\"https://elcomercio.pe/economia/mercados/precio-del-dolar-peru-tipo-de-cambio-18-de-mayo-2023-noticia/\",\"https://elcomercio.pe/economia/mercados/precio-dolar-en-peru-hoy-tipo-de-cambio-este-viernes-16-de-diciembre-compra-y-venta-dolares-a-soles-dolar-de-hoy-bcr-banco-central-de-reserva-rmmn-noticia/\",\"https://elcomercio.pe/economia/mercados/precio-dolar-en-peru-hoy-tipo-de-cambio-este-viernes-16-de-diciembre-compra-y-venta-dolares-a-soles-dolar-de-hoy-bcr-banco-central-de-reserva-rmmn-noticia/\",\"https://elcomercio.pe/economia/mercados/precio-del-dolar-peru-tipo-de-cambio-18-de-mayo-2023-noticia/\",\"https://elcomercio.pe/economia/mercados/precio-del-dolar-peru-tipo-de-cambio-18-de-mayo-2023-noticia/\",\"https://elcomercio.pe/economia/mercados/precio-dolar-en-peru-hoy-tipo-de-cambio-este-viernes-16-de-diciembre-compra-y-venta-dolares-a-soles-dolar-de-hoy-bcr-banco-central-de-reserva-rmmn-noticia/\",\"https://elcomercio.pe/economia/mercados/precio-dolar-en-peru-hoy-tipo-de-cambio-este-viernes-16-de-diciembre-compra-y-venta-dolares-a-soles-dolar-de-hoy-bcr-banco-central-de-reserva-rmmn-noticia/\",\"https://elcomercio.pe/economia/mercados/precio-del-dolar-peru-tipo-de-cambio-18-de-mayo-2023-noticia/\",\"https://elcomercio.pe/economia/mercados/precio-del-dolar-peru-tipo-de-cambio-18-de-mayo-2023-noticia/\",\"https://elcomercio.pe/economia/mercados/precio-dolar-en-peru-hoy-tipo-de-cambio-este-viernes-16-de-diciembre-compra-y-venta-dolares-a-soles-dolar-de-hoy-bcr-banco-central-de-reserva-rmmn-noticia/\",\"https://elcomercio.pe/economia/mercados/precio-dolar-en-peru-hoy-tipo-de-cambio-este-viernes-16-de-diciembre-compra-y-venta-dolares-a-soles-dolar-de-hoy-bcr-banco-central-de-reserva-rmmn-noticia/\",\"https://elcomercio.pe/economia/mercados/precio-del-dolar-peru-tipo-de-cambio-18-de-mayo-2023-noticia/\",\"https://elcomercio.pe/economia/mercados/precio-del-dolar-peru-tipo-de-cambio-18-de-mayo-2023-noticia/\",\"https://elcomercio.pe/economia/mercados/precio-dolar-en-peru-hoy-tipo-de-cambio-este-viernes-16-de-diciembre-compra-y-venta-dolares-a-soles-dolar-de-hoy-bcr-banco-central-de-reserva-rmmn-noticia/\",\"https://elcomercio.pe/economia/mercados/precio-dolar-en-peru-hoy-tipo-de-cambio-este-viernes-16-de-diciembre-compra-y-venta-dolares-a-soles-dolar-de-hoy-bcr-banco-central-de-reserva-rmmn-noticia/\",\"https://elcomercio.pe/economia/mercados/precio-del-dolar-peru-tipo-de-cambio-18-de-mayo-2023-noticia/\",\"https://elcomercio.pe/economia/mercados/precio-del-dolar-peru-tipo-de-cambio-18-de-mayo-2023-noticia/\",\"https://elcomercio.pe/economia/mercados/precio-dolar-en-peru-hoy-tipo-de-cambio-este-viernes-16-de-diciembre-compra-y-venta-dolares-a-soles-dolar-de-hoy-bcr-banco-central-de-reserva-rmmn-noticia/\",\"https://elcomercio.pe/economia/mercados/precio-dolar-en-peru-hoy-tipo-de-cambio-este-viernes-16-de-diciembre-compra-y-venta-dolares-a-soles-dolar-de-hoy-bcr-banco-central-de-reserva-rmmn-noticia/\",\"https://elcomercio.pe/economia/mercados/precio-del-dolar-peru-tipo-de-cambio-18-de-mayo-2023-noticia/\",\"https://elcomercio.pe/economia/mercados/precio-del-dolar-peru-tipo-de-cambio-18-de-mayo-2023-noticia/\",\"https://elcomercio.pe/economia/mercados/precio-dolar-en-peru-hoy-tipo-de-cambio-este-viernes-16-de-diciembre-compra-y-venta-dolares-a-soles-dolar-de-hoy-bcr-banco-central-de-reserva-rmmn-noticia/\",\"https://elcomercio.pe/economia/mercados/precio-dolar-en-peru-hoy-tipo-de-cambio-este-viernes-16-de-diciembre-compra-y-venta-dolares-a-soles-dolar-de-hoy-bcr-banco-central-de-reserva-rmmn-noticia/\",\"https://elcomercio.pe/economia/mercados/precio-del-dolar-peru-tipo-de-cambio-18-de-mayo-2023-noticia/\",\"https://elcomercio.pe/economia/mercados/precio-del-dolar-peru-tipo-de-cambio-18-de-mayo-2023-noticia/\",\"https://elcomercio.pe/economia/mercados/precio-dolar-en-peru-hoy-tipo-de-cambio-este-viernes-16-de-diciembre-compra-y-venta-dolares-a-soles-dolar-de-hoy-bcr-banco-central-de-reserva-rmmn-noticia/\",\"https://elcomercio.pe/economia/mercados/precio-dolar-en-peru-hoy-tipo-de-cambio-este-viernes-16-de-diciembre-compra-y-venta-dolares-a-soles-dolar-de-hoy-bcr-banco-central-de-reserva-rmmn-noticia/\",\"https://elcomercio.pe/economia/mercados/precio-del-dolar-peru-tipo-de-cambio-18-de-mayo-2023-noticia/\",\"https://elcomercio.pe/economia/mercados/precio-del-dolar-peru-tipo-de-cambio-18-de-mayo-2023-noticia/\",\"https://elcomercio.pe/economia/mercados/precio-dolar-en-peru-hoy-tipo-de-cambio-este-viernes-16-de-diciembre-compra-y-venta-dolares-a-soles-dolar-de-hoy-bcr-banco-central-de-reserva-rmmn-noticia/\",\"https://elcomercio.pe/economia/mercados/precio-dolar-en-peru-hoy-tipo-de-cambio-este-viernes-16-de-diciembre-compra-y-venta-dolares-a-soles-dolar-de-hoy-bcr-banco-central-de-reserva-rmmn-noticia/\",\"https://elcomercio.pe/economia/mercados/precio-del-dolar-peru-tipo-de-cambio-18-de-mayo-2023-noticia/\",\"https://elcomercio.pe/economia/mercados/precio-del-dolar-peru-tipo-de-cambio-18-de-mayo-2023-noticia/\",\"https://elcomercio.pe/economia/mercados/precio-dolar-en-peru-hoy-tipo-de-cambio-este-viernes-16-de-diciembre-compra-y-venta-dolares-a-soles-dolar-de-hoy-bcr-banco-central-de-reserva-rmmn-noticia/\",\"https://elcomercio.pe/economia/mercados/precio-dolar-en-peru-hoy-tipo-de-cambio-este-viernes-16-de-diciembre-compra-y-venta-dolares-a-soles-dolar-de-hoy-bcr-banco-central-de-reserva-rmmn-noticia/\",\"https://elcomercio.pe/economia/mercados/precio-del-dolar-peru-tipo-de-cambio-18-de-mayo-2023-noticia/\",\"https://elcomercio.pe/economia/mercados/precio-del-dolar-peru-tipo-de-cambio-18-de-mayo-2023-noticia/\",\"https://elcomercio.pe/economia/mercados/precio-dolar-en-peru-hoy-tipo-de-cambio-este-viernes-16-de-diciembre-compra-y-venta-dolares-a-soles-dolar-de-hoy-bcr-banco-central-de-reserva-rmmn-noticia/\",\"https://elcomercio.pe/economia/mercados/precio-dolar-en-peru-hoy-tipo-de-cambio-este-viernes-16-de-diciembre-compra-y-venta-dolares-a-soles-dolar-de-hoy-bcr-banco-central-de-reserva-rmmn-noticia/\"]]},\"header\":{\"align\":\"left\",\"fill\":{\"color\":\"paleturquoise\"},\"values\":[\"TITULO\",\"FECHA\",\"URL\"]},\"type\":\"table\"}],                        {\"template\":{\"data\":{\"histogram2dcontour\":[{\"type\":\"histogram2dcontour\",\"colorbar\":{\"outlinewidth\":0,\"ticks\":\"\"},\"colorscale\":[[0.0,\"#0d0887\"],[0.1111111111111111,\"#46039f\"],[0.2222222222222222,\"#7201a8\"],[0.3333333333333333,\"#9c179e\"],[0.4444444444444444,\"#bd3786\"],[0.5555555555555556,\"#d8576b\"],[0.6666666666666666,\"#ed7953\"],[0.7777777777777778,\"#fb9f3a\"],[0.8888888888888888,\"#fdca26\"],[1.0,\"#f0f921\"]]}],\"choropleth\":[{\"type\":\"choropleth\",\"colorbar\":{\"outlinewidth\":0,\"ticks\":\"\"}}],\"histogram2d\":[{\"type\":\"histogram2d\",\"colorbar\":{\"outlinewidth\":0,\"ticks\":\"\"},\"colorscale\":[[0.0,\"#0d0887\"],[0.1111111111111111,\"#46039f\"],[0.2222222222222222,\"#7201a8\"],[0.3333333333333333,\"#9c179e\"],[0.4444444444444444,\"#bd3786\"],[0.5555555555555556,\"#d8576b\"],[0.6666666666666666,\"#ed7953\"],[0.7777777777777778,\"#fb9f3a\"],[0.8888888888888888,\"#fdca26\"],[1.0,\"#f0f921\"]]}],\"heatmap\":[{\"type\":\"heatmap\",\"colorbar\":{\"outlinewidth\":0,\"ticks\":\"\"},\"colorscale\":[[0.0,\"#0d0887\"],[0.1111111111111111,\"#46039f\"],[0.2222222222222222,\"#7201a8\"],[0.3333333333333333,\"#9c179e\"],[0.4444444444444444,\"#bd3786\"],[0.5555555555555556,\"#d8576b\"],[0.6666666666666666,\"#ed7953\"],[0.7777777777777778,\"#fb9f3a\"],[0.8888888888888888,\"#fdca26\"],[1.0,\"#f0f921\"]]}],\"heatmapgl\":[{\"type\":\"heatmapgl\",\"colorbar\":{\"outlinewidth\":0,\"ticks\":\"\"},\"colorscale\":[[0.0,\"#0d0887\"],[0.1111111111111111,\"#46039f\"],[0.2222222222222222,\"#7201a8\"],[0.3333333333333333,\"#9c179e\"],[0.4444444444444444,\"#bd3786\"],[0.5555555555555556,\"#d8576b\"],[0.6666666666666666,\"#ed7953\"],[0.7777777777777778,\"#fb9f3a\"],[0.8888888888888888,\"#fdca26\"],[1.0,\"#f0f921\"]]}],\"contourcarpet\":[{\"type\":\"contourcarpet\",\"colorbar\":{\"outlinewidth\":0,\"ticks\":\"\"}}],\"contour\":[{\"type\":\"contour\",\"colorbar\":{\"outlinewidth\":0,\"ticks\":\"\"},\"colorscale\":[[0.0,\"#0d0887\"],[0.1111111111111111,\"#46039f\"],[0.2222222222222222,\"#7201a8\"],[0.3333333333333333,\"#9c179e\"],[0.4444444444444444,\"#bd3786\"],[0.5555555555555556,\"#d8576b\"],[0.6666666666666666,\"#ed7953\"],[0.7777777777777778,\"#fb9f3a\"],[0.8888888888888888,\"#fdca26\"],[1.0,\"#f0f921\"]]}],\"surface\":[{\"type\":\"surface\",\"colorbar\":{\"outlinewidth\":0,\"ticks\":\"\"},\"colorscale\":[[0.0,\"#0d0887\"],[0.1111111111111111,\"#46039f\"],[0.2222222222222222,\"#7201a8\"],[0.3333333333333333,\"#9c179e\"],[0.4444444444444444,\"#bd3786\"],[0.5555555555555556,\"#d8576b\"],[0.6666666666666666,\"#ed7953\"],[0.7777777777777778,\"#fb9f3a\"],[0.8888888888888888,\"#fdca26\"],[1.0,\"#f0f921\"]]}],\"mesh3d\":[{\"type\":\"mesh3d\",\"colorbar\":{\"outlinewidth\":0,\"ticks\":\"\"}}],\"scatter\":[{\"fillpattern\":{\"fillmode\":\"overlay\",\"size\":10,\"solidity\":0.2},\"type\":\"scatter\"}],\"parcoords\":[{\"type\":\"parcoords\",\"line\":{\"colorbar\":{\"outlinewidth\":0,\"ticks\":\"\"}}}],\"scatterpolargl\":[{\"type\":\"scatterpolargl\",\"marker\":{\"colorbar\":{\"outlinewidth\":0,\"ticks\":\"\"}}}],\"bar\":[{\"error_x\":{\"color\":\"#2a3f5f\"},\"error_y\":{\"color\":\"#2a3f5f\"},\"marker\":{\"line\":{\"color\":\"#E5ECF6\",\"width\":0.5},\"pattern\":{\"fillmode\":\"overlay\",\"size\":10,\"solidity\":0.2}},\"type\":\"bar\"}],\"scattergeo\":[{\"type\":\"scattergeo\",\"marker\":{\"colorbar\":{\"outlinewidth\":0,\"ticks\":\"\"}}}],\"scatterpolar\":[{\"type\":\"scatterpolar\",\"marker\":{\"colorbar\":{\"outlinewidth\":0,\"ticks\":\"\"}}}],\"histogram\":[{\"marker\":{\"pattern\":{\"fillmode\":\"overlay\",\"size\":10,\"solidity\":0.2}},\"type\":\"histogram\"}],\"scattergl\":[{\"type\":\"scattergl\",\"marker\":{\"colorbar\":{\"outlinewidth\":0,\"ticks\":\"\"}}}],\"scatter3d\":[{\"type\":\"scatter3d\",\"line\":{\"colorbar\":{\"outlinewidth\":0,\"ticks\":\"\"}},\"marker\":{\"colorbar\":{\"outlinewidth\":0,\"ticks\":\"\"}}}],\"scattermapbox\":[{\"type\":\"scattermapbox\",\"marker\":{\"colorbar\":{\"outlinewidth\":0,\"ticks\":\"\"}}}],\"scatterternary\":[{\"type\":\"scatterternary\",\"marker\":{\"colorbar\":{\"outlinewidth\":0,\"ticks\":\"\"}}}],\"scattercarpet\":[{\"type\":\"scattercarpet\",\"marker\":{\"colorbar\":{\"outlinewidth\":0,\"ticks\":\"\"}}}],\"carpet\":[{\"aaxis\":{\"endlinecolor\":\"#2a3f5f\",\"gridcolor\":\"white\",\"linecolor\":\"white\",\"minorgridcolor\":\"white\",\"startlinecolor\":\"#2a3f5f\"},\"baxis\":{\"endlinecolor\":\"#2a3f5f\",\"gridcolor\":\"white\",\"linecolor\":\"white\",\"minorgridcolor\":\"white\",\"startlinecolor\":\"#2a3f5f\"},\"type\":\"carpet\"}],\"table\":[{\"cells\":{\"fill\":{\"color\":\"#EBF0F8\"},\"line\":{\"color\":\"white\"}},\"header\":{\"fill\":{\"color\":\"#C8D4E3\"},\"line\":{\"color\":\"white\"}},\"type\":\"table\"}],\"barpolar\":[{\"marker\":{\"line\":{\"color\":\"#E5ECF6\",\"width\":0.5},\"pattern\":{\"fillmode\":\"overlay\",\"size\":10,\"solidity\":0.2}},\"type\":\"barpolar\"}],\"pie\":[{\"automargin\":true,\"type\":\"pie\"}]},\"layout\":{\"autotypenumbers\":\"strict\",\"colorway\":[\"#636efa\",\"#EF553B\",\"#00cc96\",\"#ab63fa\",\"#FFA15A\",\"#19d3f3\",\"#FF6692\",\"#B6E880\",\"#FF97FF\",\"#FECB52\"],\"font\":{\"color\":\"#2a3f5f\"},\"hovermode\":\"closest\",\"hoverlabel\":{\"align\":\"left\"},\"paper_bgcolor\":\"white\",\"plot_bgcolor\":\"#E5ECF6\",\"polar\":{\"bgcolor\":\"#E5ECF6\",\"angularaxis\":{\"gridcolor\":\"white\",\"linecolor\":\"white\",\"ticks\":\"\"},\"radialaxis\":{\"gridcolor\":\"white\",\"linecolor\":\"white\",\"ticks\":\"\"}},\"ternary\":{\"bgcolor\":\"#E5ECF6\",\"aaxis\":{\"gridcolor\":\"white\",\"linecolor\":\"white\",\"ticks\":\"\"},\"baxis\":{\"gridcolor\":\"white\",\"linecolor\":\"white\",\"ticks\":\"\"},\"caxis\":{\"gridcolor\":\"white\",\"linecolor\":\"white\",\"ticks\":\"\"}},\"coloraxis\":{\"colorbar\":{\"outlinewidth\":0,\"ticks\":\"\"}},\"colorscale\":{\"sequential\":[[0.0,\"#0d0887\"],[0.1111111111111111,\"#46039f\"],[0.2222222222222222,\"#7201a8\"],[0.3333333333333333,\"#9c179e\"],[0.4444444444444444,\"#bd3786\"],[0.5555555555555556,\"#d8576b\"],[0.6666666666666666,\"#ed7953\"],[0.7777777777777778,\"#fb9f3a\"],[0.8888888888888888,\"#fdca26\"],[1.0,\"#f0f921\"]],\"sequentialminus\":[[0.0,\"#0d0887\"],[0.1111111111111111,\"#46039f\"],[0.2222222222222222,\"#7201a8\"],[0.3333333333333333,\"#9c179e\"],[0.4444444444444444,\"#bd3786\"],[0.5555555555555556,\"#d8576b\"],[0.6666666666666666,\"#ed7953\"],[0.7777777777777778,\"#fb9f3a\"],[0.8888888888888888,\"#fdca26\"],[1.0,\"#f0f921\"]],\"diverging\":[[0,\"#8e0152\"],[0.1,\"#c51b7d\"],[0.2,\"#de77ae\"],[0.3,\"#f1b6da\"],[0.4,\"#fde0ef\"],[0.5,\"#f7f7f7\"],[0.6,\"#e6f5d0\"],[0.7,\"#b8e186\"],[0.8,\"#7fbc41\"],[0.9,\"#4d9221\"],[1,\"#276419\"]]},\"xaxis\":{\"gridcolor\":\"white\",\"linecolor\":\"white\",\"ticks\":\"\",\"title\":{\"standoff\":15},\"zerolinecolor\":\"white\",\"automargin\":true,\"zerolinewidth\":2},\"yaxis\":{\"gridcolor\":\"white\",\"linecolor\":\"white\",\"ticks\":\"\",\"title\":{\"standoff\":15},\"zerolinecolor\":\"white\",\"automargin\":true,\"zerolinewidth\":2},\"scene\":{\"xaxis\":{\"backgroundcolor\":\"#E5ECF6\",\"gridcolor\":\"white\",\"linecolor\":\"white\",\"showbackground\":true,\"ticks\":\"\",\"zerolinecolor\":\"white\",\"gridwidth\":2},\"yaxis\":{\"backgroundcolor\":\"#E5ECF6\",\"gridcolor\":\"white\",\"linecolor\":\"white\",\"showbackground\":true,\"ticks\":\"\",\"zerolinecolor\":\"white\",\"gridwidth\":2},\"zaxis\":{\"backgroundcolor\":\"#E5ECF6\",\"gridcolor\":\"white\",\"linecolor\":\"white\",\"showbackground\":true,\"ticks\":\"\",\"zerolinecolor\":\"white\",\"gridwidth\":2}},\"shapedefaults\":{\"line\":{\"color\":\"#2a3f5f\"}},\"annotationdefaults\":{\"arrowcolor\":\"#2a3f5f\",\"arrowhead\":0,\"arrowwidth\":1},\"geo\":{\"bgcolor\":\"white\",\"landcolor\":\"#E5ECF6\",\"subunitcolor\":\"white\",\"showland\":true,\"showlakes\":true,\"lakecolor\":\"white\"},\"title\":{\"x\":0.05},\"mapbox\":{\"style\":\"light\"}}}},                        {\"responsive\": true}                    ).then(function(){\n",
       "                            \n",
       "var gd = document.getElementById('18ff1cfd-4d57-47f5-94de-a32d68256c7e');\n",
       "var x = new MutationObserver(function (mutations, observer) {{\n",
       "        var display = window.getComputedStyle(gd).display;\n",
       "        if (!display || display === 'none') {{\n",
       "            console.log([gd, 'removed!']);\n",
       "            Plotly.purge(gd);\n",
       "            observer.disconnect();\n",
       "        }}\n",
       "}});\n",
       "\n",
       "// Listen for the removal of the full notebook cells\n",
       "var notebookContainer = gd.closest('#notebook-container');\n",
       "if (notebookContainer) {{\n",
       "    x.observe(notebookContainer, {childList: true});\n",
       "}}\n",
       "\n",
       "// Listen for the clearing of the current output cell\n",
       "var outputEl = gd.closest('.output');\n",
       "if (outputEl) {{\n",
       "    x.observe(outputEl, {childList: true});\n",
       "}}\n",
       "\n",
       "                        })                };                });            </script>        </div>"
      ]
     },
     "metadata": {},
     "output_type": "display_data"
    },
    {
     "data": {
      "application/vnd.plotly.v1+json": {
       "config": {
        "plotlyServerURL": "https://plot.ly"
       },
       "data": [
        {
         "cells": {
          "align": "left",
          "fill": {
           "color": "lavender"
          },
          "values": [
           [
            "Precio del dólar hoy en Perú: Consulta el tipo de cambio y su cotización este 1 de julio, según el BCRP",
            "Dólar Today y Monitor Dólar hoy, 1 de julio: Revise el precio y cotización del dólar en Venezuela",
            "¿Qué pasó con el dólar esta semana?",
            "¿Qué pasó con el dólar esta semana?",
            "Dólar en Perú hoy, 19 de febrero: Consulta el tipo de cambio y cotización en compra y venta",
            "Dólar en Perú hoy, 19 de febrero: Consulta el tipo de cambio y cotización en compra y venta",
            "Dólar en Perú hoy, sábado 18 de febrero: Consulta AQUÍ el tipo de cambio y cotización",
            "Dólar en Perú hoy, sábado 18 de febrero: Consulta AQUÍ el tipo de cambio y cotización",
            "Dólar hoy en Perú: ¿A cuánto cerró el tipo de cambio el viernes 17 de febrero?",
            "Dólar hoy en Perú: ¿A cuánto cerró el tipo de cambio el viernes 17 de febrero?",
            "¿Qué sucedió con el dólar durante la semana?",
            "¿Qué sucedió con el dólar durante la semana?",
            "Dólar en Perú: tipo de cambio para hoy domingo, 25 de diciembre del 2022",
            "Dólar en Perú: tipo de cambio para hoy domingo, 25 de diciembre del 2022",
            "Precio del dólar en Perú: tipo de cambio hoy sábado 24 de diciembre",
            "Precio del dólar en Perú: tipo de cambio hoy sábado 24 de diciembre",
            "Precio del dólar en Perú: El tipo de cambio cerró a la baja hoy, viernes 23 de diciembre",
            "Precio del dólar en Perú: El tipo de cambio cerró a la baja hoy, viernes 23 de diciembre",
            "Dólar en Perú: El tipo de cambio cerró al alza hoy, jueves 22 de diciembre",
            "Dólar en Perú: El tipo de cambio cerró al alza hoy, jueves 22 de diciembre",
            "Dólar en Perú: El tipo de cambio cerró a la baja hoy, 21 de diciembre",
            "Dólar en Perú: El tipo de cambio cerró a la baja hoy, 21 de diciembre",
            "Dólar en Perú: tipo de cambio cerró a la baja este martes 20 de diciembre",
            "Dólar en Perú: tipo de cambio cerró a la baja este martes 20 de diciembre",
            "Bolsa de Valores de Lima cierra a la baja tras el anuncio de la FED sobre una nueva alza en las tasas de interés",
            "Bolsa de Valores de Lima cierra a la baja tras el anuncio de la FED sobre una nueva alza en las tasas de interés",
            "Dólar cierra con ligera alza en S/3,83 tras el anuncio de estado de emergencia",
            "Dólar cierra con ligera alza en S/3,83 tras el anuncio de estado de emergencia",
            "Precio del dólar en Perú: Sepa cuál es el tipo de cambio para hoy, 14 de diciembre",
            "Precio del dólar en Perú: Sepa cuál es el tipo de cambio para hoy, 14 de diciembre",
            "Precio del dólar hoy en Perú: Consulta el tipo de cambio y su cotización este 1 de julio, según el BCRP",
            "Dólar Today y Monitor Dólar hoy, 1 de julio: Revise el precio y cotización del dólar en Venezuela",
            "¿Qué pasó con el dólar esta semana?",
            "¿Qué pasó con el dólar esta semana?",
            "Dólar en Perú hoy, 19 de febrero: Consulta el tipo de cambio y cotización en compra y venta",
            "Dólar en Perú hoy, 19 de febrero: Consulta el tipo de cambio y cotización en compra y venta",
            "Dólar en Perú hoy, sábado 18 de febrero: Consulta AQUÍ el tipo de cambio y cotización",
            "Dólar en Perú hoy, sábado 18 de febrero: Consulta AQUÍ el tipo de cambio y cotización",
            "Dólar hoy en Perú: ¿A cuánto cerró el tipo de cambio el viernes 17 de febrero?",
            "Dólar hoy en Perú: ¿A cuánto cerró el tipo de cambio el viernes 17 de febrero?",
            "¿Qué sucedió con el dólar durante la semana?",
            "¿Qué sucedió con el dólar durante la semana?",
            "Dólar en Perú: tipo de cambio para hoy domingo, 25 de diciembre del 2022",
            "Dólar en Perú: tipo de cambio para hoy domingo, 25 de diciembre del 2022",
            "Precio del dólar en Perú: tipo de cambio hoy sábado 24 de diciembre",
            "Precio del dólar en Perú: tipo de cambio hoy sábado 24 de diciembre",
            "Precio del dólar en Perú: El tipo de cambio cerró a la baja hoy, viernes 23 de diciembre",
            "Precio del dólar en Perú: El tipo de cambio cerró a la baja hoy, viernes 23 de diciembre",
            "Dólar en Perú: El tipo de cambio cerró al alza hoy, jueves 22 de diciembre",
            "Dólar en Perú: El tipo de cambio cerró al alza hoy, jueves 22 de diciembre",
            "Dólar en Perú: El tipo de cambio cerró a la baja hoy, 21 de diciembre",
            "Dólar en Perú: El tipo de cambio cerró a la baja hoy, 21 de diciembre",
            "Dólar en Perú: tipo de cambio cerró a la baja este martes 20 de diciembre",
            "Dólar en Perú: tipo de cambio cerró a la baja este martes 20 de diciembre",
            "Bolsa de Valores de Lima cierra a la baja tras el anuncio de la FED sobre una nueva alza en las tasas de interés",
            "Bolsa de Valores de Lima cierra a la baja tras el anuncio de la FED sobre una nueva alza en las tasas de interés",
            "Dólar cierra con ligera alza en S/3,83 tras el anuncio de estado de emergencia",
            "Dólar cierra con ligera alza en S/3,83 tras el anuncio de estado de emergencia",
            "Precio del dólar en Perú: Sepa cuál es el tipo de cambio para hoy, 14 de diciembre",
            "Precio del dólar en Perú: Sepa cuál es el tipo de cambio para hoy, 14 de diciembre",
            "Precio del dólar hoy en Perú: Consulta el tipo de cambio y su cotización este 1 de julio, según el BCRP",
            "Dólar Today y Monitor Dólar hoy, 1 de julio: Revise el precio y cotización del dólar en Venezuela",
            "¿Qué pasó con el dólar esta semana?",
            "¿Qué pasó con el dólar esta semana?",
            "Dólar en Perú hoy, 19 de febrero: Consulta el tipo de cambio y cotización en compra y venta",
            "Dólar en Perú hoy, 19 de febrero: Consulta el tipo de cambio y cotización en compra y venta",
            "Dólar en Perú hoy, sábado 18 de febrero: Consulta AQUÍ el tipo de cambio y cotización",
            "Dólar en Perú hoy, sábado 18 de febrero: Consulta AQUÍ el tipo de cambio y cotización",
            "Dólar hoy en Perú: ¿A cuánto cerró el tipo de cambio el viernes 17 de febrero?",
            "Dólar hoy en Perú: ¿A cuánto cerró el tipo de cambio el viernes 17 de febrero?",
            "¿Qué sucedió con el dólar durante la semana?",
            "¿Qué sucedió con el dólar durante la semana?",
            "Dólar en Perú: tipo de cambio para hoy domingo, 25 de diciembre del 2022",
            "Dólar en Perú: tipo de cambio para hoy domingo, 25 de diciembre del 2022",
            "Precio del dólar en Perú: tipo de cambio hoy sábado 24 de diciembre",
            "Precio del dólar en Perú: tipo de cambio hoy sábado 24 de diciembre",
            "Precio del dólar en Perú: El tipo de cambio cerró a la baja hoy, viernes 23 de diciembre",
            "Precio del dólar en Perú: El tipo de cambio cerró a la baja hoy, viernes 23 de diciembre",
            "Dólar en Perú: El tipo de cambio cerró al alza hoy, jueves 22 de diciembre",
            "Dólar en Perú: El tipo de cambio cerró al alza hoy, jueves 22 de diciembre",
            "Dólar en Perú: El tipo de cambio cerró a la baja hoy, 21 de diciembre",
            "Dólar en Perú: El tipo de cambio cerró a la baja hoy, 21 de diciembre",
            "Dólar en Perú: tipo de cambio cerró a la baja este martes 20 de diciembre",
            "Dólar en Perú: tipo de cambio cerró a la baja este martes 20 de diciembre",
            "Bolsa de Valores de Lima cierra a la baja tras el anuncio de la FED sobre una nueva alza en las tasas de interés",
            "Bolsa de Valores de Lima cierra a la baja tras el anuncio de la FED sobre una nueva alza en las tasas de interés",
            "Dólar cierra con ligera alza en S/3,83 tras el anuncio de estado de emergencia",
            "Dólar cierra con ligera alza en S/3,83 tras el anuncio de estado de emergencia",
            "Precio del dólar en Perú: Sepa cuál es el tipo de cambio para hoy, 14 de diciembre",
            "Precio del dólar en Perú: Sepa cuál es el tipo de cambio para hoy, 14 de diciembre",
            "Precio del dólar hoy en Perú: Consulta el tipo de cambio y su cotización este 1 de julio, según el BCRP",
            "Dólar Today y Monitor Dólar hoy, 1 de julio: Revise el precio y cotización del dólar en Venezuela",
            "¿Qué pasó con el dólar esta semana?",
            "¿Qué pasó con el dólar esta semana?",
            "Dólar en Perú hoy, 19 de febrero: Consulta el tipo de cambio y cotización en compra y venta",
            "Dólar en Perú hoy, 19 de febrero: Consulta el tipo de cambio y cotización en compra y venta",
            "Dólar en Perú hoy, sábado 18 de febrero: Consulta AQUÍ el tipo de cambio y cotización",
            "Dólar en Perú hoy, sábado 18 de febrero: Consulta AQUÍ el tipo de cambio y cotización",
            "Dólar hoy en Perú: ¿A cuánto cerró el tipo de cambio el viernes 17 de febrero?",
            "Dólar hoy en Perú: ¿A cuánto cerró el tipo de cambio el viernes 17 de febrero?",
            "¿Qué sucedió con el dólar durante la semana?",
            "¿Qué sucedió con el dólar durante la semana?",
            "Dólar en Perú: tipo de cambio para hoy domingo, 25 de diciembre del 2022",
            "Dólar en Perú: tipo de cambio para hoy domingo, 25 de diciembre del 2022",
            "Precio del dólar en Perú: tipo de cambio hoy sábado 24 de diciembre",
            "Precio del dólar en Perú: tipo de cambio hoy sábado 24 de diciembre",
            "Precio del dólar en Perú: El tipo de cambio cerró a la baja hoy, viernes 23 de diciembre",
            "Precio del dólar en Perú: El tipo de cambio cerró a la baja hoy, viernes 23 de diciembre",
            "Dólar en Perú: El tipo de cambio cerró al alza hoy, jueves 22 de diciembre",
            "Dólar en Perú: El tipo de cambio cerró al alza hoy, jueves 22 de diciembre",
            "Dólar en Perú: El tipo de cambio cerró a la baja hoy, 21 de diciembre",
            "Dólar en Perú: El tipo de cambio cerró a la baja hoy, 21 de diciembre",
            "Dólar en Perú: tipo de cambio cerró a la baja este martes 20 de diciembre",
            "Dólar en Perú: tipo de cambio cerró a la baja este martes 20 de diciembre",
            "Bolsa de Valores de Lima cierra a la baja tras el anuncio de la FED sobre una nueva alza en las tasas de interés",
            "Bolsa de Valores de Lima cierra a la baja tras el anuncio de la FED sobre una nueva alza en las tasas de interés",
            "Dólar cierra con ligera alza en S/3,83 tras el anuncio de estado de emergencia",
            "Dólar cierra con ligera alza en S/3,83 tras el anuncio de estado de emergencia",
            "Precio del dólar en Perú: Sepa cuál es el tipo de cambio para hoy, 14 de diciembre",
            "Precio del dólar en Perú: Sepa cuál es el tipo de cambio para hoy, 14 de diciembre",
            "Precio del dólar hoy en Perú: Consulta el tipo de cambio y su cotización este 1 de julio, según el BCRP",
            "Dólar Today y Monitor Dólar hoy, 1 de julio: Revise el precio y cotización del dólar en Venezuela",
            "¿Qué pasó con el dólar esta semana?",
            "¿Qué pasó con el dólar esta semana?",
            "Dólar en Perú hoy, 19 de febrero: Consulta el tipo de cambio y cotización en compra y venta",
            "Dólar en Perú hoy, 19 de febrero: Consulta el tipo de cambio y cotización en compra y venta",
            "Dólar en Perú hoy, sábado 18 de febrero: Consulta AQUÍ el tipo de cambio y cotización",
            "Dólar en Perú hoy, sábado 18 de febrero: Consulta AQUÍ el tipo de cambio y cotización",
            "Dólar hoy en Perú: ¿A cuánto cerró el tipo de cambio el viernes 17 de febrero?",
            "Dólar hoy en Perú: ¿A cuánto cerró el tipo de cambio el viernes 17 de febrero?",
            "¿Qué sucedió con el dólar durante la semana?",
            "¿Qué sucedió con el dólar durante la semana?",
            "Dólar en Perú: tipo de cambio para hoy domingo, 25 de diciembre del 2022",
            "Dólar en Perú: tipo de cambio para hoy domingo, 25 de diciembre del 2022",
            "Precio del dólar en Perú: tipo de cambio hoy sábado 24 de diciembre",
            "Precio del dólar en Perú: tipo de cambio hoy sábado 24 de diciembre",
            "Precio del dólar en Perú: El tipo de cambio cerró a la baja hoy, viernes 23 de diciembre",
            "Precio del dólar en Perú: El tipo de cambio cerró a la baja hoy, viernes 23 de diciembre",
            "Dólar en Perú: El tipo de cambio cerró al alza hoy, jueves 22 de diciembre",
            "Dólar en Perú: El tipo de cambio cerró al alza hoy, jueves 22 de diciembre",
            "Dólar en Perú: El tipo de cambio cerró a la baja hoy, 21 de diciembre",
            "Dólar en Perú: El tipo de cambio cerró a la baja hoy, 21 de diciembre",
            "Dólar en Perú: tipo de cambio cerró a la baja este martes 20 de diciembre",
            "Dólar en Perú: tipo de cambio cerró a la baja este martes 20 de diciembre",
            "Bolsa de Valores de Lima cierra a la baja tras el anuncio de la FED sobre una nueva alza en las tasas de interés",
            "Bolsa de Valores de Lima cierra a la baja tras el anuncio de la FED sobre una nueva alza en las tasas de interés",
            "Dólar cierra con ligera alza en S/3,83 tras el anuncio de estado de emergencia",
            "Dólar cierra con ligera alza en S/3,83 tras el anuncio de estado de emergencia",
            "Precio del dólar en Perú: Sepa cuál es el tipo de cambio para hoy, 14 de diciembre",
            "Precio del dólar en Perú: Sepa cuál es el tipo de cambio para hoy, 14 de diciembre",
            "Precio del dólar hoy en Perú: Consulta el tipo de cambio y su cotización este 1 de julio, según el BCRP",
            "Dólar Today y Monitor Dólar hoy, 1 de julio: Revise el precio y cotización del dólar en Venezuela",
            "¿Qué pasó con el dólar esta semana?",
            "¿Qué pasó con el dólar esta semana?",
            "Dólar en Perú hoy, 19 de febrero: Consulta el tipo de cambio y cotización en compra y venta",
            "Dólar en Perú hoy, 19 de febrero: Consulta el tipo de cambio y cotización en compra y venta",
            "Dólar en Perú hoy, sábado 18 de febrero: Consulta AQUÍ el tipo de cambio y cotización",
            "Dólar en Perú hoy, sábado 18 de febrero: Consulta AQUÍ el tipo de cambio y cotización",
            "Dólar hoy en Perú: ¿A cuánto cerró el tipo de cambio el viernes 17 de febrero?",
            "Dólar hoy en Perú: ¿A cuánto cerró el tipo de cambio el viernes 17 de febrero?",
            "¿Qué sucedió con el dólar durante la semana?",
            "¿Qué sucedió con el dólar durante la semana?",
            "Dólar en Perú: tipo de cambio para hoy domingo, 25 de diciembre del 2022",
            "Dólar en Perú: tipo de cambio para hoy domingo, 25 de diciembre del 2022",
            "Precio del dólar en Perú: tipo de cambio hoy sábado 24 de diciembre",
            "Precio del dólar en Perú: tipo de cambio hoy sábado 24 de diciembre",
            "Precio del dólar en Perú: El tipo de cambio cerró a la baja hoy, viernes 23 de diciembre",
            "Precio del dólar en Perú: El tipo de cambio cerró a la baja hoy, viernes 23 de diciembre",
            "Dólar en Perú: El tipo de cambio cerró al alza hoy, jueves 22 de diciembre",
            "Dólar en Perú: El tipo de cambio cerró al alza hoy, jueves 22 de diciembre",
            "Dólar en Perú: El tipo de cambio cerró a la baja hoy, 21 de diciembre",
            "Dólar en Perú: El tipo de cambio cerró a la baja hoy, 21 de diciembre",
            "Dólar en Perú: tipo de cambio cerró a la baja este martes 20 de diciembre",
            "Dólar en Perú: tipo de cambio cerró a la baja este martes 20 de diciembre",
            "Bolsa de Valores de Lima cierra a la baja tras el anuncio de la FED sobre una nueva alza en las tasas de interés",
            "Bolsa de Valores de Lima cierra a la baja tras el anuncio de la FED sobre una nueva alza en las tasas de interés",
            "Dólar cierra con ligera alza en S/3,83 tras el anuncio de estado de emergencia",
            "Dólar cierra con ligera alza en S/3,83 tras el anuncio de estado de emergencia",
            "Precio del dólar en Perú: Sepa cuál es el tipo de cambio para hoy, 14 de diciembre",
            "Precio del dólar en Perú: Sepa cuál es el tipo de cambio para hoy, 14 de diciembre",
            "Precio del dólar hoy en Perú: Consulta el tipo de cambio y su cotización este 1 de julio, según el BCRP",
            "Dólar Today y Monitor Dólar hoy, 1 de julio: Revise el precio y cotización del dólar en Venezuela",
            "¿Qué pasó con el dólar esta semana?",
            "¿Qué pasó con el dólar esta semana?",
            "Dólar en Perú hoy, 19 de febrero: Consulta el tipo de cambio y cotización en compra y venta",
            "Dólar en Perú hoy, 19 de febrero: Consulta el tipo de cambio y cotización en compra y venta",
            "Dólar en Perú hoy, sábado 18 de febrero: Consulta AQUÍ el tipo de cambio y cotización",
            "Dólar en Perú hoy, sábado 18 de febrero: Consulta AQUÍ el tipo de cambio y cotización",
            "Dólar hoy en Perú: ¿A cuánto cerró el tipo de cambio el viernes 17 de febrero?",
            "Dólar hoy en Perú: ¿A cuánto cerró el tipo de cambio el viernes 17 de febrero?",
            "¿Qué sucedió con el dólar durante la semana?",
            "¿Qué sucedió con el dólar durante la semana?",
            "Dólar en Perú: tipo de cambio para hoy domingo, 25 de diciembre del 2022",
            "Dólar en Perú: tipo de cambio para hoy domingo, 25 de diciembre del 2022",
            "Precio del dólar en Perú: tipo de cambio hoy sábado 24 de diciembre",
            "Precio del dólar en Perú: tipo de cambio hoy sábado 24 de diciembre",
            "Precio del dólar en Perú: El tipo de cambio cerró a la baja hoy, viernes 23 de diciembre",
            "Precio del dólar en Perú: El tipo de cambio cerró a la baja hoy, viernes 23 de diciembre",
            "Dólar en Perú: El tipo de cambio cerró al alza hoy, jueves 22 de diciembre",
            "Dólar en Perú: El tipo de cambio cerró al alza hoy, jueves 22 de diciembre",
            "Dólar en Perú: El tipo de cambio cerró a la baja hoy, 21 de diciembre",
            "Dólar en Perú: El tipo de cambio cerró a la baja hoy, 21 de diciembre",
            "Dólar en Perú: tipo de cambio cerró a la baja este martes 20 de diciembre",
            "Dólar en Perú: tipo de cambio cerró a la baja este martes 20 de diciembre",
            "Bolsa de Valores de Lima cierra a la baja tras el anuncio de la FED sobre una nueva alza en las tasas de interés",
            "Bolsa de Valores de Lima cierra a la baja tras el anuncio de la FED sobre una nueva alza en las tasas de interés",
            "Dólar cierra con ligera alza en S/3,83 tras el anuncio de estado de emergencia",
            "Dólar cierra con ligera alza en S/3,83 tras el anuncio de estado de emergencia",
            "Precio del dólar en Perú: Sepa cuál es el tipo de cambio para hoy, 14 de diciembre",
            "Precio del dólar en Perú: Sepa cuál es el tipo de cambio para hoy, 14 de diciembre",
            "Precio del dólar hoy en Perú: Consulta el tipo de cambio y su cotización este 1 de julio, según el BCRP",
            "Dólar Today y Monitor Dólar hoy, 1 de julio: Revise el precio y cotización del dólar en Venezuela",
            "¿Qué pasó con el dólar esta semana?",
            "¿Qué pasó con el dólar esta semana?",
            "Dólar en Perú hoy, 19 de febrero: Consulta el tipo de cambio y cotización en compra y venta",
            "Dólar en Perú hoy, 19 de febrero: Consulta el tipo de cambio y cotización en compra y venta",
            "Dólar en Perú hoy, sábado 18 de febrero: Consulta AQUÍ el tipo de cambio y cotización",
            "Dólar en Perú hoy, sábado 18 de febrero: Consulta AQUÍ el tipo de cambio y cotización",
            "Dólar hoy en Perú: ¿A cuánto cerró el tipo de cambio el viernes 17 de febrero?",
            "Dólar hoy en Perú: ¿A cuánto cerró el tipo de cambio el viernes 17 de febrero?",
            "¿Qué sucedió con el dólar durante la semana?",
            "¿Qué sucedió con el dólar durante la semana?",
            "Dólar en Perú: tipo de cambio para hoy domingo, 25 de diciembre del 2022",
            "Dólar en Perú: tipo de cambio para hoy domingo, 25 de diciembre del 2022",
            "Precio del dólar en Perú: tipo de cambio hoy sábado 24 de diciembre",
            "Precio del dólar en Perú: tipo de cambio hoy sábado 24 de diciembre",
            "Precio del dólar en Perú: El tipo de cambio cerró a la baja hoy, viernes 23 de diciembre",
            "Precio del dólar en Perú: El tipo de cambio cerró a la baja hoy, viernes 23 de diciembre",
            "Dólar en Perú: El tipo de cambio cerró al alza hoy, jueves 22 de diciembre",
            "Dólar en Perú: El tipo de cambio cerró al alza hoy, jueves 22 de diciembre",
            "Dólar en Perú: El tipo de cambio cerró a la baja hoy, 21 de diciembre",
            "Dólar en Perú: El tipo de cambio cerró a la baja hoy, 21 de diciembre",
            "Dólar en Perú: tipo de cambio cerró a la baja este martes 20 de diciembre",
            "Dólar en Perú: tipo de cambio cerró a la baja este martes 20 de diciembre",
            "Bolsa de Valores de Lima cierra a la baja tras el anuncio de la FED sobre una nueva alza en las tasas de interés",
            "Bolsa de Valores de Lima cierra a la baja tras el anuncio de la FED sobre una nueva alza en las tasas de interés",
            "Dólar cierra con ligera alza en S/3,83 tras el anuncio de estado de emergencia",
            "Dólar cierra con ligera alza en S/3,83 tras el anuncio de estado de emergencia",
            "Precio del dólar en Perú: Sepa cuál es el tipo de cambio para hoy, 14 de diciembre",
            "Precio del dólar en Perú: Sepa cuál es el tipo de cambio para hoy, 14 de diciembre",
            "Precio del dólar hoy en Perú: Consulta el tipo de cambio y su cotización este 1 de julio, según el BCRP",
            "Dólar Today y Monitor Dólar hoy, 1 de julio: Revise el precio y cotización del dólar en Venezuela",
            "¿Qué pasó con el dólar esta semana?",
            "¿Qué pasó con el dólar esta semana?",
            "Dólar en Perú hoy, 19 de febrero: Consulta el tipo de cambio y cotización en compra y venta",
            "Dólar en Perú hoy, 19 de febrero: Consulta el tipo de cambio y cotización en compra y venta",
            "Dólar en Perú hoy, sábado 18 de febrero: Consulta AQUÍ el tipo de cambio y cotización",
            "Dólar en Perú hoy, sábado 18 de febrero: Consulta AQUÍ el tipo de cambio y cotización",
            "Dólar hoy en Perú: ¿A cuánto cerró el tipo de cambio el viernes 17 de febrero?",
            "Dólar hoy en Perú: ¿A cuánto cerró el tipo de cambio el viernes 17 de febrero?",
            "¿Qué sucedió con el dólar durante la semana?",
            "¿Qué sucedió con el dólar durante la semana?",
            "Dólar en Perú: tipo de cambio para hoy domingo, 25 de diciembre del 2022",
            "Dólar en Perú: tipo de cambio para hoy domingo, 25 de diciembre del 2022",
            "Precio del dólar en Perú: tipo de cambio hoy sábado 24 de diciembre",
            "Precio del dólar en Perú: tipo de cambio hoy sábado 24 de diciembre",
            "Precio del dólar en Perú: El tipo de cambio cerró a la baja hoy, viernes 23 de diciembre",
            "Precio del dólar en Perú: El tipo de cambio cerró a la baja hoy, viernes 23 de diciembre",
            "Dólar en Perú: El tipo de cambio cerró al alza hoy, jueves 22 de diciembre",
            "Dólar en Perú: El tipo de cambio cerró al alza hoy, jueves 22 de diciembre",
            "Dólar en Perú: El tipo de cambio cerró a la baja hoy, 21 de diciembre",
            "Dólar en Perú: El tipo de cambio cerró a la baja hoy, 21 de diciembre",
            "Dólar en Perú: tipo de cambio cerró a la baja este martes 20 de diciembre",
            "Dólar en Perú: tipo de cambio cerró a la baja este martes 20 de diciembre",
            "Bolsa de Valores de Lima cierra a la baja tras el anuncio de la FED sobre una nueva alza en las tasas de interés",
            "Bolsa de Valores de Lima cierra a la baja tras el anuncio de la FED sobre una nueva alza en las tasas de interés",
            "Dólar cierra con ligera alza en S/3,83 tras el anuncio de estado de emergencia",
            "Dólar cierra con ligera alza en S/3,83 tras el anuncio de estado de emergencia",
            "Precio del dólar en Perú: Sepa cuál es el tipo de cambio para hoy, 14 de diciembre",
            "Precio del dólar en Perú: Sepa cuál es el tipo de cambio para hoy, 14 de diciembre",
            "Precio del dólar hoy en Perú: Consulta el tipo de cambio y su cotización este 1 de julio, según el BCRP",
            "Dólar Today y Monitor Dólar hoy, 1 de julio: Revise el precio y cotización del dólar en Venezuela",
            "¿Qué pasó con el dólar esta semana?",
            "¿Qué pasó con el dólar esta semana?",
            "Dólar en Perú hoy, 19 de febrero: Consulta el tipo de cambio y cotización en compra y venta",
            "Dólar en Perú hoy, 19 de febrero: Consulta el tipo de cambio y cotización en compra y venta",
            "Dólar en Perú hoy, sábado 18 de febrero: Consulta AQUÍ el tipo de cambio y cotización",
            "Dólar en Perú hoy, sábado 18 de febrero: Consulta AQUÍ el tipo de cambio y cotización",
            "Dólar hoy en Perú: ¿A cuánto cerró el tipo de cambio el viernes 17 de febrero?",
            "Dólar hoy en Perú: ¿A cuánto cerró el tipo de cambio el viernes 17 de febrero?",
            "¿Qué sucedió con el dólar durante la semana?",
            "¿Qué sucedió con el dólar durante la semana?",
            "Dólar en Perú: tipo de cambio para hoy domingo, 25 de diciembre del 2022",
            "Dólar en Perú: tipo de cambio para hoy domingo, 25 de diciembre del 2022",
            "Precio del dólar en Perú: tipo de cambio hoy sábado 24 de diciembre",
            "Precio del dólar en Perú: tipo de cambio hoy sábado 24 de diciembre",
            "Precio del dólar en Perú: El tipo de cambio cerró a la baja hoy, viernes 23 de diciembre",
            "Precio del dólar en Perú: El tipo de cambio cerró a la baja hoy, viernes 23 de diciembre",
            "Dólar en Perú: El tipo de cambio cerró al alza hoy, jueves 22 de diciembre",
            "Dólar en Perú: El tipo de cambio cerró al alza hoy, jueves 22 de diciembre",
            "Dólar en Perú: El tipo de cambio cerró a la baja hoy, 21 de diciembre",
            "Dólar en Perú: El tipo de cambio cerró a la baja hoy, 21 de diciembre",
            "Dólar en Perú: tipo de cambio cerró a la baja este martes 20 de diciembre",
            "Dólar en Perú: tipo de cambio cerró a la baja este martes 20 de diciembre",
            "Bolsa de Valores de Lima cierra a la baja tras el anuncio de la FED sobre una nueva alza en las tasas de interés",
            "Bolsa de Valores de Lima cierra a la baja tras el anuncio de la FED sobre una nueva alza en las tasas de interés",
            "Dólar cierra con ligera alza en S/3,83 tras el anuncio de estado de emergencia",
            "Dólar cierra con ligera alza en S/3,83 tras el anuncio de estado de emergencia",
            "Precio del dólar en Perú: Sepa cuál es el tipo de cambio para hoy, 14 de diciembre",
            "Precio del dólar en Perú: Sepa cuál es el tipo de cambio para hoy, 14 de diciembre"
           ],
           [
            "18/05/2023 15H29",
            "18/05/2023 15H29",
            "16/12/2022 17H00",
            "16/12/2022 17H00",
            "18/05/2023 15H29",
            "18/05/2023 15H29",
            "16/12/2022 17H00",
            "16/12/2022 17H00",
            "18/05/2023 15H29",
            "18/05/2023 15H29",
            "16/12/2022 17H00",
            "16/12/2022 17H00",
            "18/05/2023 15H29",
            "18/05/2023 15H29",
            "16/12/2022 17H00",
            "16/12/2022 17H00",
            "18/05/2023 15H29",
            "18/05/2023 15H29",
            "16/12/2022 17H00",
            "16/12/2022 17H00",
            "18/05/2023 15H29",
            "18/05/2023 15H29",
            "16/12/2022 17H00",
            "16/12/2022 17H00",
            "18/05/2023 15H29",
            "18/05/2023 15H29",
            "16/12/2022 17H00",
            "16/12/2022 17H00",
            "18/05/2023 15H29",
            "18/05/2023 15H29",
            "16/12/2022 17H00",
            "16/12/2022 17H00",
            "18/05/2023 15H29",
            "18/05/2023 15H29",
            "16/12/2022 17H00",
            "16/12/2022 17H00",
            "18/05/2023 15H29",
            "18/05/2023 15H29",
            "16/12/2022 17H00",
            "16/12/2022 17H00"
           ],
           [
            "https://elcomercio.pe/economia/mercados/precio-del-dolar-peru-tipo-de-cambio-18-de-mayo-2023-noticia/",
            "https://elcomercio.pe/economia/mercados/precio-del-dolar-peru-tipo-de-cambio-18-de-mayo-2023-noticia/",
            "https://elcomercio.pe/economia/mercados/precio-dolar-en-peru-hoy-tipo-de-cambio-este-viernes-16-de-diciembre-compra-y-venta-dolares-a-soles-dolar-de-hoy-bcr-banco-central-de-reserva-rmmn-noticia/",
            "https://elcomercio.pe/economia/mercados/precio-dolar-en-peru-hoy-tipo-de-cambio-este-viernes-16-de-diciembre-compra-y-venta-dolares-a-soles-dolar-de-hoy-bcr-banco-central-de-reserva-rmmn-noticia/",
            "https://elcomercio.pe/economia/mercados/precio-del-dolar-peru-tipo-de-cambio-18-de-mayo-2023-noticia/",
            "https://elcomercio.pe/economia/mercados/precio-del-dolar-peru-tipo-de-cambio-18-de-mayo-2023-noticia/",
            "https://elcomercio.pe/economia/mercados/precio-dolar-en-peru-hoy-tipo-de-cambio-este-viernes-16-de-diciembre-compra-y-venta-dolares-a-soles-dolar-de-hoy-bcr-banco-central-de-reserva-rmmn-noticia/",
            "https://elcomercio.pe/economia/mercados/precio-dolar-en-peru-hoy-tipo-de-cambio-este-viernes-16-de-diciembre-compra-y-venta-dolares-a-soles-dolar-de-hoy-bcr-banco-central-de-reserva-rmmn-noticia/",
            "https://elcomercio.pe/economia/mercados/precio-del-dolar-peru-tipo-de-cambio-18-de-mayo-2023-noticia/",
            "https://elcomercio.pe/economia/mercados/precio-del-dolar-peru-tipo-de-cambio-18-de-mayo-2023-noticia/",
            "https://elcomercio.pe/economia/mercados/precio-dolar-en-peru-hoy-tipo-de-cambio-este-viernes-16-de-diciembre-compra-y-venta-dolares-a-soles-dolar-de-hoy-bcr-banco-central-de-reserva-rmmn-noticia/",
            "https://elcomercio.pe/economia/mercados/precio-dolar-en-peru-hoy-tipo-de-cambio-este-viernes-16-de-diciembre-compra-y-venta-dolares-a-soles-dolar-de-hoy-bcr-banco-central-de-reserva-rmmn-noticia/",
            "https://elcomercio.pe/economia/mercados/precio-del-dolar-peru-tipo-de-cambio-18-de-mayo-2023-noticia/",
            "https://elcomercio.pe/economia/mercados/precio-del-dolar-peru-tipo-de-cambio-18-de-mayo-2023-noticia/",
            "https://elcomercio.pe/economia/mercados/precio-dolar-en-peru-hoy-tipo-de-cambio-este-viernes-16-de-diciembre-compra-y-venta-dolares-a-soles-dolar-de-hoy-bcr-banco-central-de-reserva-rmmn-noticia/",
            "https://elcomercio.pe/economia/mercados/precio-dolar-en-peru-hoy-tipo-de-cambio-este-viernes-16-de-diciembre-compra-y-venta-dolares-a-soles-dolar-de-hoy-bcr-banco-central-de-reserva-rmmn-noticia/",
            "https://elcomercio.pe/economia/mercados/precio-del-dolar-peru-tipo-de-cambio-18-de-mayo-2023-noticia/",
            "https://elcomercio.pe/economia/mercados/precio-del-dolar-peru-tipo-de-cambio-18-de-mayo-2023-noticia/",
            "https://elcomercio.pe/economia/mercados/precio-dolar-en-peru-hoy-tipo-de-cambio-este-viernes-16-de-diciembre-compra-y-venta-dolares-a-soles-dolar-de-hoy-bcr-banco-central-de-reserva-rmmn-noticia/",
            "https://elcomercio.pe/economia/mercados/precio-dolar-en-peru-hoy-tipo-de-cambio-este-viernes-16-de-diciembre-compra-y-venta-dolares-a-soles-dolar-de-hoy-bcr-banco-central-de-reserva-rmmn-noticia/",
            "https://elcomercio.pe/economia/mercados/precio-del-dolar-peru-tipo-de-cambio-18-de-mayo-2023-noticia/",
            "https://elcomercio.pe/economia/mercados/precio-del-dolar-peru-tipo-de-cambio-18-de-mayo-2023-noticia/",
            "https://elcomercio.pe/economia/mercados/precio-dolar-en-peru-hoy-tipo-de-cambio-este-viernes-16-de-diciembre-compra-y-venta-dolares-a-soles-dolar-de-hoy-bcr-banco-central-de-reserva-rmmn-noticia/",
            "https://elcomercio.pe/economia/mercados/precio-dolar-en-peru-hoy-tipo-de-cambio-este-viernes-16-de-diciembre-compra-y-venta-dolares-a-soles-dolar-de-hoy-bcr-banco-central-de-reserva-rmmn-noticia/",
            "https://elcomercio.pe/economia/mercados/precio-del-dolar-peru-tipo-de-cambio-18-de-mayo-2023-noticia/",
            "https://elcomercio.pe/economia/mercados/precio-del-dolar-peru-tipo-de-cambio-18-de-mayo-2023-noticia/",
            "https://elcomercio.pe/economia/mercados/precio-dolar-en-peru-hoy-tipo-de-cambio-este-viernes-16-de-diciembre-compra-y-venta-dolares-a-soles-dolar-de-hoy-bcr-banco-central-de-reserva-rmmn-noticia/",
            "https://elcomercio.pe/economia/mercados/precio-dolar-en-peru-hoy-tipo-de-cambio-este-viernes-16-de-diciembre-compra-y-venta-dolares-a-soles-dolar-de-hoy-bcr-banco-central-de-reserva-rmmn-noticia/",
            "https://elcomercio.pe/economia/mercados/precio-del-dolar-peru-tipo-de-cambio-18-de-mayo-2023-noticia/",
            "https://elcomercio.pe/economia/mercados/precio-del-dolar-peru-tipo-de-cambio-18-de-mayo-2023-noticia/",
            "https://elcomercio.pe/economia/mercados/precio-dolar-en-peru-hoy-tipo-de-cambio-este-viernes-16-de-diciembre-compra-y-venta-dolares-a-soles-dolar-de-hoy-bcr-banco-central-de-reserva-rmmn-noticia/",
            "https://elcomercio.pe/economia/mercados/precio-dolar-en-peru-hoy-tipo-de-cambio-este-viernes-16-de-diciembre-compra-y-venta-dolares-a-soles-dolar-de-hoy-bcr-banco-central-de-reserva-rmmn-noticia/",
            "https://elcomercio.pe/economia/mercados/precio-del-dolar-peru-tipo-de-cambio-18-de-mayo-2023-noticia/",
            "https://elcomercio.pe/economia/mercados/precio-del-dolar-peru-tipo-de-cambio-18-de-mayo-2023-noticia/",
            "https://elcomercio.pe/economia/mercados/precio-dolar-en-peru-hoy-tipo-de-cambio-este-viernes-16-de-diciembre-compra-y-venta-dolares-a-soles-dolar-de-hoy-bcr-banco-central-de-reserva-rmmn-noticia/",
            "https://elcomercio.pe/economia/mercados/precio-dolar-en-peru-hoy-tipo-de-cambio-este-viernes-16-de-diciembre-compra-y-venta-dolares-a-soles-dolar-de-hoy-bcr-banco-central-de-reserva-rmmn-noticia/",
            "https://elcomercio.pe/economia/mercados/precio-del-dolar-peru-tipo-de-cambio-18-de-mayo-2023-noticia/",
            "https://elcomercio.pe/economia/mercados/precio-del-dolar-peru-tipo-de-cambio-18-de-mayo-2023-noticia/",
            "https://elcomercio.pe/economia/mercados/precio-dolar-en-peru-hoy-tipo-de-cambio-este-viernes-16-de-diciembre-compra-y-venta-dolares-a-soles-dolar-de-hoy-bcr-banco-central-de-reserva-rmmn-noticia/",
            "https://elcomercio.pe/economia/mercados/precio-dolar-en-peru-hoy-tipo-de-cambio-este-viernes-16-de-diciembre-compra-y-venta-dolares-a-soles-dolar-de-hoy-bcr-banco-central-de-reserva-rmmn-noticia/"
           ]
          ]
         },
         "header": {
          "align": "left",
          "fill": {
           "color": "paleturquoise"
          },
          "values": [
           "TITULO",
           "FECHA",
           "URL"
          ]
         },
         "type": "table"
        }
       ],
       "layout": {
        "template": {
         "data": {
          "bar": [
           {
            "error_x": {
             "color": "#2a3f5f"
            },
            "error_y": {
             "color": "#2a3f5f"
            },
            "marker": {
             "line": {
              "color": "#E5ECF6",
              "width": 0.5
             },
             "pattern": {
              "fillmode": "overlay",
              "size": 10,
              "solidity": 0.2
             }
            },
            "type": "bar"
           }
          ],
          "barpolar": [
           {
            "marker": {
             "line": {
              "color": "#E5ECF6",
              "width": 0.5
             },
             "pattern": {
              "fillmode": "overlay",
              "size": 10,
              "solidity": 0.2
             }
            },
            "type": "barpolar"
           }
          ],
          "carpet": [
           {
            "aaxis": {
             "endlinecolor": "#2a3f5f",
             "gridcolor": "white",
             "linecolor": "white",
             "minorgridcolor": "white",
             "startlinecolor": "#2a3f5f"
            },
            "baxis": {
             "endlinecolor": "#2a3f5f",
             "gridcolor": "white",
             "linecolor": "white",
             "minorgridcolor": "white",
             "startlinecolor": "#2a3f5f"
            },
            "type": "carpet"
           }
          ],
          "choropleth": [
           {
            "colorbar": {
             "outlinewidth": 0,
             "ticks": ""
            },
            "type": "choropleth"
           }
          ],
          "contour": [
           {
            "colorbar": {
             "outlinewidth": 0,
             "ticks": ""
            },
            "colorscale": [
             [
              0,
              "#0d0887"
             ],
             [
              0.1111111111111111,
              "#46039f"
             ],
             [
              0.2222222222222222,
              "#7201a8"
             ],
             [
              0.3333333333333333,
              "#9c179e"
             ],
             [
              0.4444444444444444,
              "#bd3786"
             ],
             [
              0.5555555555555556,
              "#d8576b"
             ],
             [
              0.6666666666666666,
              "#ed7953"
             ],
             [
              0.7777777777777778,
              "#fb9f3a"
             ],
             [
              0.8888888888888888,
              "#fdca26"
             ],
             [
              1,
              "#f0f921"
             ]
            ],
            "type": "contour"
           }
          ],
          "contourcarpet": [
           {
            "colorbar": {
             "outlinewidth": 0,
             "ticks": ""
            },
            "type": "contourcarpet"
           }
          ],
          "heatmap": [
           {
            "colorbar": {
             "outlinewidth": 0,
             "ticks": ""
            },
            "colorscale": [
             [
              0,
              "#0d0887"
             ],
             [
              0.1111111111111111,
              "#46039f"
             ],
             [
              0.2222222222222222,
              "#7201a8"
             ],
             [
              0.3333333333333333,
              "#9c179e"
             ],
             [
              0.4444444444444444,
              "#bd3786"
             ],
             [
              0.5555555555555556,
              "#d8576b"
             ],
             [
              0.6666666666666666,
              "#ed7953"
             ],
             [
              0.7777777777777778,
              "#fb9f3a"
             ],
             [
              0.8888888888888888,
              "#fdca26"
             ],
             [
              1,
              "#f0f921"
             ]
            ],
            "type": "heatmap"
           }
          ],
          "heatmapgl": [
           {
            "colorbar": {
             "outlinewidth": 0,
             "ticks": ""
            },
            "colorscale": [
             [
              0,
              "#0d0887"
             ],
             [
              0.1111111111111111,
              "#46039f"
             ],
             [
              0.2222222222222222,
              "#7201a8"
             ],
             [
              0.3333333333333333,
              "#9c179e"
             ],
             [
              0.4444444444444444,
              "#bd3786"
             ],
             [
              0.5555555555555556,
              "#d8576b"
             ],
             [
              0.6666666666666666,
              "#ed7953"
             ],
             [
              0.7777777777777778,
              "#fb9f3a"
             ],
             [
              0.8888888888888888,
              "#fdca26"
             ],
             [
              1,
              "#f0f921"
             ]
            ],
            "type": "heatmapgl"
           }
          ],
          "histogram": [
           {
            "marker": {
             "pattern": {
              "fillmode": "overlay",
              "size": 10,
              "solidity": 0.2
             }
            },
            "type": "histogram"
           }
          ],
          "histogram2d": [
           {
            "colorbar": {
             "outlinewidth": 0,
             "ticks": ""
            },
            "colorscale": [
             [
              0,
              "#0d0887"
             ],
             [
              0.1111111111111111,
              "#46039f"
             ],
             [
              0.2222222222222222,
              "#7201a8"
             ],
             [
              0.3333333333333333,
              "#9c179e"
             ],
             [
              0.4444444444444444,
              "#bd3786"
             ],
             [
              0.5555555555555556,
              "#d8576b"
             ],
             [
              0.6666666666666666,
              "#ed7953"
             ],
             [
              0.7777777777777778,
              "#fb9f3a"
             ],
             [
              0.8888888888888888,
              "#fdca26"
             ],
             [
              1,
              "#f0f921"
             ]
            ],
            "type": "histogram2d"
           }
          ],
          "histogram2dcontour": [
           {
            "colorbar": {
             "outlinewidth": 0,
             "ticks": ""
            },
            "colorscale": [
             [
              0,
              "#0d0887"
             ],
             [
              0.1111111111111111,
              "#46039f"
             ],
             [
              0.2222222222222222,
              "#7201a8"
             ],
             [
              0.3333333333333333,
              "#9c179e"
             ],
             [
              0.4444444444444444,
              "#bd3786"
             ],
             [
              0.5555555555555556,
              "#d8576b"
             ],
             [
              0.6666666666666666,
              "#ed7953"
             ],
             [
              0.7777777777777778,
              "#fb9f3a"
             ],
             [
              0.8888888888888888,
              "#fdca26"
             ],
             [
              1,
              "#f0f921"
             ]
            ],
            "type": "histogram2dcontour"
           }
          ],
          "mesh3d": [
           {
            "colorbar": {
             "outlinewidth": 0,
             "ticks": ""
            },
            "type": "mesh3d"
           }
          ],
          "parcoords": [
           {
            "line": {
             "colorbar": {
              "outlinewidth": 0,
              "ticks": ""
             }
            },
            "type": "parcoords"
           }
          ],
          "pie": [
           {
            "automargin": true,
            "type": "pie"
           }
          ],
          "scatter": [
           {
            "fillpattern": {
             "fillmode": "overlay",
             "size": 10,
             "solidity": 0.2
            },
            "type": "scatter"
           }
          ],
          "scatter3d": [
           {
            "line": {
             "colorbar": {
              "outlinewidth": 0,
              "ticks": ""
             }
            },
            "marker": {
             "colorbar": {
              "outlinewidth": 0,
              "ticks": ""
             }
            },
            "type": "scatter3d"
           }
          ],
          "scattercarpet": [
           {
            "marker": {
             "colorbar": {
              "outlinewidth": 0,
              "ticks": ""
             }
            },
            "type": "scattercarpet"
           }
          ],
          "scattergeo": [
           {
            "marker": {
             "colorbar": {
              "outlinewidth": 0,
              "ticks": ""
             }
            },
            "type": "scattergeo"
           }
          ],
          "scattergl": [
           {
            "marker": {
             "colorbar": {
              "outlinewidth": 0,
              "ticks": ""
             }
            },
            "type": "scattergl"
           }
          ],
          "scattermapbox": [
           {
            "marker": {
             "colorbar": {
              "outlinewidth": 0,
              "ticks": ""
             }
            },
            "type": "scattermapbox"
           }
          ],
          "scatterpolar": [
           {
            "marker": {
             "colorbar": {
              "outlinewidth": 0,
              "ticks": ""
             }
            },
            "type": "scatterpolar"
           }
          ],
          "scatterpolargl": [
           {
            "marker": {
             "colorbar": {
              "outlinewidth": 0,
              "ticks": ""
             }
            },
            "type": "scatterpolargl"
           }
          ],
          "scatterternary": [
           {
            "marker": {
             "colorbar": {
              "outlinewidth": 0,
              "ticks": ""
             }
            },
            "type": "scatterternary"
           }
          ],
          "surface": [
           {
            "colorbar": {
             "outlinewidth": 0,
             "ticks": ""
            },
            "colorscale": [
             [
              0,
              "#0d0887"
             ],
             [
              0.1111111111111111,
              "#46039f"
             ],
             [
              0.2222222222222222,
              "#7201a8"
             ],
             [
              0.3333333333333333,
              "#9c179e"
             ],
             [
              0.4444444444444444,
              "#bd3786"
             ],
             [
              0.5555555555555556,
              "#d8576b"
             ],
             [
              0.6666666666666666,
              "#ed7953"
             ],
             [
              0.7777777777777778,
              "#fb9f3a"
             ],
             [
              0.8888888888888888,
              "#fdca26"
             ],
             [
              1,
              "#f0f921"
             ]
            ],
            "type": "surface"
           }
          ],
          "table": [
           {
            "cells": {
             "fill": {
              "color": "#EBF0F8"
             },
             "line": {
              "color": "white"
             }
            },
            "header": {
             "fill": {
              "color": "#C8D4E3"
             },
             "line": {
              "color": "white"
             }
            },
            "type": "table"
           }
          ]
         },
         "layout": {
          "annotationdefaults": {
           "arrowcolor": "#2a3f5f",
           "arrowhead": 0,
           "arrowwidth": 1
          },
          "autotypenumbers": "strict",
          "coloraxis": {
           "colorbar": {
            "outlinewidth": 0,
            "ticks": ""
           }
          },
          "colorscale": {
           "diverging": [
            [
             0,
             "#8e0152"
            ],
            [
             0.1,
             "#c51b7d"
            ],
            [
             0.2,
             "#de77ae"
            ],
            [
             0.3,
             "#f1b6da"
            ],
            [
             0.4,
             "#fde0ef"
            ],
            [
             0.5,
             "#f7f7f7"
            ],
            [
             0.6,
             "#e6f5d0"
            ],
            [
             0.7,
             "#b8e186"
            ],
            [
             0.8,
             "#7fbc41"
            ],
            [
             0.9,
             "#4d9221"
            ],
            [
             1,
             "#276419"
            ]
           ],
           "sequential": [
            [
             0,
             "#0d0887"
            ],
            [
             0.1111111111111111,
             "#46039f"
            ],
            [
             0.2222222222222222,
             "#7201a8"
            ],
            [
             0.3333333333333333,
             "#9c179e"
            ],
            [
             0.4444444444444444,
             "#bd3786"
            ],
            [
             0.5555555555555556,
             "#d8576b"
            ],
            [
             0.6666666666666666,
             "#ed7953"
            ],
            [
             0.7777777777777778,
             "#fb9f3a"
            ],
            [
             0.8888888888888888,
             "#fdca26"
            ],
            [
             1,
             "#f0f921"
            ]
           ],
           "sequentialminus": [
            [
             0,
             "#0d0887"
            ],
            [
             0.1111111111111111,
             "#46039f"
            ],
            [
             0.2222222222222222,
             "#7201a8"
            ],
            [
             0.3333333333333333,
             "#9c179e"
            ],
            [
             0.4444444444444444,
             "#bd3786"
            ],
            [
             0.5555555555555556,
             "#d8576b"
            ],
            [
             0.6666666666666666,
             "#ed7953"
            ],
            [
             0.7777777777777778,
             "#fb9f3a"
            ],
            [
             0.8888888888888888,
             "#fdca26"
            ],
            [
             1,
             "#f0f921"
            ]
           ]
          },
          "colorway": [
           "#636efa",
           "#EF553B",
           "#00cc96",
           "#ab63fa",
           "#FFA15A",
           "#19d3f3",
           "#FF6692",
           "#B6E880",
           "#FF97FF",
           "#FECB52"
          ],
          "font": {
           "color": "#2a3f5f"
          },
          "geo": {
           "bgcolor": "white",
           "lakecolor": "white",
           "landcolor": "#E5ECF6",
           "showlakes": true,
           "showland": true,
           "subunitcolor": "white"
          },
          "hoverlabel": {
           "align": "left"
          },
          "hovermode": "closest",
          "mapbox": {
           "style": "light"
          },
          "paper_bgcolor": "white",
          "plot_bgcolor": "#E5ECF6",
          "polar": {
           "angularaxis": {
            "gridcolor": "white",
            "linecolor": "white",
            "ticks": ""
           },
           "bgcolor": "#E5ECF6",
           "radialaxis": {
            "gridcolor": "white",
            "linecolor": "white",
            "ticks": ""
           }
          },
          "scene": {
           "xaxis": {
            "backgroundcolor": "#E5ECF6",
            "gridcolor": "white",
            "gridwidth": 2,
            "linecolor": "white",
            "showbackground": true,
            "ticks": "",
            "zerolinecolor": "white"
           },
           "yaxis": {
            "backgroundcolor": "#E5ECF6",
            "gridcolor": "white",
            "gridwidth": 2,
            "linecolor": "white",
            "showbackground": true,
            "ticks": "",
            "zerolinecolor": "white"
           },
           "zaxis": {
            "backgroundcolor": "#E5ECF6",
            "gridcolor": "white",
            "gridwidth": 2,
            "linecolor": "white",
            "showbackground": true,
            "ticks": "",
            "zerolinecolor": "white"
           }
          },
          "shapedefaults": {
           "line": {
            "color": "#2a3f5f"
           }
          },
          "ternary": {
           "aaxis": {
            "gridcolor": "white",
            "linecolor": "white",
            "ticks": ""
           },
           "baxis": {
            "gridcolor": "white",
            "linecolor": "white",
            "ticks": ""
           },
           "bgcolor": "#E5ECF6",
           "caxis": {
            "gridcolor": "white",
            "linecolor": "white",
            "ticks": ""
           }
          },
          "title": {
           "x": 0.05
          },
          "xaxis": {
           "automargin": true,
           "gridcolor": "white",
           "linecolor": "white",
           "ticks": "",
           "title": {
            "standoff": 15
           },
           "zerolinecolor": "white",
           "zerolinewidth": 2
          },
          "yaxis": {
           "automargin": true,
           "gridcolor": "white",
           "linecolor": "white",
           "ticks": "",
           "title": {
            "standoff": 15
           },
           "zerolinecolor": "white",
           "zerolinewidth": 2
          }
         }
        }
       }
      },
      "text/html": [
       "<div>                            <div id=\"01fcb333-d8ab-4bc0-9241-4044031ee4d7\" class=\"plotly-graph-div\" style=\"height:525px; width:100%;\"></div>            <script type=\"text/javascript\">                require([\"plotly\"], function(Plotly) {                    window.PLOTLYENV=window.PLOTLYENV || {};                                    if (document.getElementById(\"01fcb333-d8ab-4bc0-9241-4044031ee4d7\")) {                    Plotly.newPlot(                        \"01fcb333-d8ab-4bc0-9241-4044031ee4d7\",                        [{\"cells\":{\"align\":\"left\",\"fill\":{\"color\":\"lavender\"},\"values\":[[\"Precio del d\\u00f3lar hoy en Per\\u00fa: Consulta el tipo de cambio y su cotizaci\\u00f3n este 1 de julio, seg\\u00fan el BCRP\",\"D\\u00f3lar Today y Monitor D\\u00f3lar hoy, 1 de julio: Revise el precio y cotizaci\\u00f3n del d\\u00f3lar en Venezuela\",\"\\u00bfQu\\u00e9 pas\\u00f3 con el d\\u00f3lar esta semana?\",\"\\u00bfQu\\u00e9 pas\\u00f3 con el d\\u00f3lar esta semana?\",\"D\\u00f3lar en Per\\u00fa hoy, 19 de febrero: Consulta el tipo de cambio y cotizaci\\u00f3n en compra y venta\",\"D\\u00f3lar en Per\\u00fa hoy, 19 de febrero: Consulta el tipo de cambio y cotizaci\\u00f3n en compra y venta\",\"D\\u00f3lar en Per\\u00fa hoy, s\\u00e1bado 18 de febrero: Consulta AQU\\u00cd el tipo de cambio y cotizaci\\u00f3n\",\"D\\u00f3lar en Per\\u00fa hoy, s\\u00e1bado 18 de febrero: Consulta AQU\\u00cd el tipo de cambio y cotizaci\\u00f3n\",\"D\\u00f3lar hoy en Per\\u00fa: \\u00bfA cu\\u00e1nto cerr\\u00f3 el tipo de cambio el viernes 17 de febrero?\",\"D\\u00f3lar hoy en Per\\u00fa: \\u00bfA cu\\u00e1nto cerr\\u00f3 el tipo de cambio el viernes 17 de febrero?\",\"\\u00bfQu\\u00e9 sucedi\\u00f3 con el d\\u00f3lar durante la semana?\",\"\\u00bfQu\\u00e9 sucedi\\u00f3 con el d\\u00f3lar durante la semana?\",\"D\\u00f3lar en Per\\u00fa: tipo de cambio para hoy domingo, 25 de diciembre del 2022\",\"D\\u00f3lar en Per\\u00fa: tipo de cambio para hoy domingo, 25 de diciembre del 2022\",\"Precio del d\\u00f3lar en Per\\u00fa: tipo de cambio hoy s\\u00e1bado 24 de diciembre\",\"Precio del d\\u00f3lar en Per\\u00fa: tipo de cambio hoy s\\u00e1bado 24 de diciembre\",\"Precio del d\\u00f3lar en Per\\u00fa: El tipo de cambio cerr\\u00f3 a la baja hoy, viernes 23 de diciembre\",\"Precio del d\\u00f3lar en Per\\u00fa: El tipo de cambio cerr\\u00f3 a la baja hoy, viernes 23 de diciembre\",\"D\\u00f3lar en Per\\u00fa: El tipo de cambio cerr\\u00f3 al alza hoy, jueves 22 de diciembre\",\"D\\u00f3lar en Per\\u00fa: El tipo de cambio cerr\\u00f3 al alza hoy, jueves 22 de diciembre\",\"D\\u00f3lar en Per\\u00fa: El tipo de cambio cerr\\u00f3 a la baja hoy, 21 de diciembre\",\"D\\u00f3lar en Per\\u00fa: El tipo de cambio cerr\\u00f3 a la baja hoy, 21 de diciembre\",\"D\\u00f3lar en Per\\u00fa: tipo de cambio cerr\\u00f3 a la baja este martes 20 de diciembre\",\"D\\u00f3lar en Per\\u00fa: tipo de cambio cerr\\u00f3 a la baja este martes 20 de diciembre\",\"Bolsa de Valores de Lima cierra a la baja tras el anuncio de la FED sobre una nueva alza en las tasas de inter\\u00e9s\",\"Bolsa de Valores de Lima cierra a la baja tras el anuncio de la FED sobre una nueva alza en las tasas de inter\\u00e9s\",\"D\\u00f3lar cierra con ligera alza en S/3,83 tras el anuncio de estado de emergencia\",\"D\\u00f3lar cierra con ligera alza en S/3,83 tras el anuncio de estado de emergencia\",\"Precio del d\\u00f3lar en Per\\u00fa: Sepa cu\\u00e1l es el tipo de cambio para hoy, 14 de diciembre\",\"Precio del d\\u00f3lar en Per\\u00fa: Sepa cu\\u00e1l es el tipo de cambio para hoy, 14 de diciembre\",\"Precio del d\\u00f3lar hoy en Per\\u00fa: Consulta el tipo de cambio y su cotizaci\\u00f3n este 1 de julio, seg\\u00fan el BCRP\",\"D\\u00f3lar Today y Monitor D\\u00f3lar hoy, 1 de julio: Revise el precio y cotizaci\\u00f3n del d\\u00f3lar en Venezuela\",\"\\u00bfQu\\u00e9 pas\\u00f3 con el d\\u00f3lar esta semana?\",\"\\u00bfQu\\u00e9 pas\\u00f3 con el d\\u00f3lar esta semana?\",\"D\\u00f3lar en Per\\u00fa hoy, 19 de febrero: Consulta el tipo de cambio y cotizaci\\u00f3n en compra y venta\",\"D\\u00f3lar en Per\\u00fa hoy, 19 de febrero: Consulta el tipo de cambio y cotizaci\\u00f3n en compra y venta\",\"D\\u00f3lar en Per\\u00fa hoy, s\\u00e1bado 18 de febrero: Consulta AQU\\u00cd el tipo de cambio y cotizaci\\u00f3n\",\"D\\u00f3lar en Per\\u00fa hoy, s\\u00e1bado 18 de febrero: Consulta AQU\\u00cd el tipo de cambio y cotizaci\\u00f3n\",\"D\\u00f3lar hoy en Per\\u00fa: \\u00bfA cu\\u00e1nto cerr\\u00f3 el tipo de cambio el viernes 17 de febrero?\",\"D\\u00f3lar hoy en Per\\u00fa: \\u00bfA cu\\u00e1nto cerr\\u00f3 el tipo de cambio el viernes 17 de febrero?\",\"\\u00bfQu\\u00e9 sucedi\\u00f3 con el d\\u00f3lar durante la semana?\",\"\\u00bfQu\\u00e9 sucedi\\u00f3 con el d\\u00f3lar durante la semana?\",\"D\\u00f3lar en Per\\u00fa: tipo de cambio para hoy domingo, 25 de diciembre del 2022\",\"D\\u00f3lar en Per\\u00fa: tipo de cambio para hoy domingo, 25 de diciembre del 2022\",\"Precio del d\\u00f3lar en Per\\u00fa: tipo de cambio hoy s\\u00e1bado 24 de diciembre\",\"Precio del d\\u00f3lar en Per\\u00fa: tipo de cambio hoy s\\u00e1bado 24 de diciembre\",\"Precio del d\\u00f3lar en Per\\u00fa: El tipo de cambio cerr\\u00f3 a la baja hoy, viernes 23 de diciembre\",\"Precio del d\\u00f3lar en Per\\u00fa: El tipo de cambio cerr\\u00f3 a la baja hoy, viernes 23 de diciembre\",\"D\\u00f3lar en Per\\u00fa: El tipo de cambio cerr\\u00f3 al alza hoy, jueves 22 de diciembre\",\"D\\u00f3lar en Per\\u00fa: El tipo de cambio cerr\\u00f3 al alza hoy, jueves 22 de diciembre\",\"D\\u00f3lar en Per\\u00fa: El tipo de cambio cerr\\u00f3 a la baja hoy, 21 de diciembre\",\"D\\u00f3lar en Per\\u00fa: El tipo de cambio cerr\\u00f3 a la baja hoy, 21 de diciembre\",\"D\\u00f3lar en Per\\u00fa: tipo de cambio cerr\\u00f3 a la baja este martes 20 de diciembre\",\"D\\u00f3lar en Per\\u00fa: tipo de cambio cerr\\u00f3 a la baja este martes 20 de diciembre\",\"Bolsa de Valores de Lima cierra a la baja tras el anuncio de la FED sobre una nueva alza en las tasas de inter\\u00e9s\",\"Bolsa de Valores de Lima cierra a la baja tras el anuncio de la FED sobre una nueva alza en las tasas de inter\\u00e9s\",\"D\\u00f3lar cierra con ligera alza en S/3,83 tras el anuncio de estado de emergencia\",\"D\\u00f3lar cierra con ligera alza en S/3,83 tras el anuncio de estado de emergencia\",\"Precio del d\\u00f3lar en Per\\u00fa: Sepa cu\\u00e1l es el tipo de cambio para hoy, 14 de diciembre\",\"Precio del d\\u00f3lar en Per\\u00fa: Sepa cu\\u00e1l es el tipo de cambio para hoy, 14 de diciembre\",\"Precio del d\\u00f3lar hoy en Per\\u00fa: Consulta el tipo de cambio y su cotizaci\\u00f3n este 1 de julio, seg\\u00fan el BCRP\",\"D\\u00f3lar Today y Monitor D\\u00f3lar hoy, 1 de julio: Revise el precio y cotizaci\\u00f3n del d\\u00f3lar en Venezuela\",\"\\u00bfQu\\u00e9 pas\\u00f3 con el d\\u00f3lar esta semana?\",\"\\u00bfQu\\u00e9 pas\\u00f3 con el d\\u00f3lar esta semana?\",\"D\\u00f3lar en Per\\u00fa hoy, 19 de febrero: Consulta el tipo de cambio y cotizaci\\u00f3n en compra y venta\",\"D\\u00f3lar en Per\\u00fa hoy, 19 de febrero: Consulta el tipo de cambio y cotizaci\\u00f3n en compra y venta\",\"D\\u00f3lar en Per\\u00fa hoy, s\\u00e1bado 18 de febrero: Consulta AQU\\u00cd el tipo de cambio y cotizaci\\u00f3n\",\"D\\u00f3lar en Per\\u00fa hoy, s\\u00e1bado 18 de febrero: Consulta AQU\\u00cd el tipo de cambio y cotizaci\\u00f3n\",\"D\\u00f3lar hoy en Per\\u00fa: \\u00bfA cu\\u00e1nto cerr\\u00f3 el tipo de cambio el viernes 17 de febrero?\",\"D\\u00f3lar hoy en Per\\u00fa: \\u00bfA cu\\u00e1nto cerr\\u00f3 el tipo de cambio el viernes 17 de febrero?\",\"\\u00bfQu\\u00e9 sucedi\\u00f3 con el d\\u00f3lar durante la semana?\",\"\\u00bfQu\\u00e9 sucedi\\u00f3 con el d\\u00f3lar durante la semana?\",\"D\\u00f3lar en Per\\u00fa: tipo de cambio para hoy domingo, 25 de diciembre del 2022\",\"D\\u00f3lar en Per\\u00fa: tipo de cambio para hoy domingo, 25 de diciembre del 2022\",\"Precio del d\\u00f3lar en Per\\u00fa: tipo de cambio hoy s\\u00e1bado 24 de diciembre\",\"Precio del d\\u00f3lar en Per\\u00fa: tipo de cambio hoy s\\u00e1bado 24 de diciembre\",\"Precio del d\\u00f3lar en Per\\u00fa: El tipo de cambio cerr\\u00f3 a la baja hoy, viernes 23 de diciembre\",\"Precio del d\\u00f3lar en Per\\u00fa: El tipo de cambio cerr\\u00f3 a la baja hoy, viernes 23 de diciembre\",\"D\\u00f3lar en Per\\u00fa: El tipo de cambio cerr\\u00f3 al alza hoy, jueves 22 de diciembre\",\"D\\u00f3lar en Per\\u00fa: El tipo de cambio cerr\\u00f3 al alza hoy, jueves 22 de diciembre\",\"D\\u00f3lar en Per\\u00fa: El tipo de cambio cerr\\u00f3 a la baja hoy, 21 de diciembre\",\"D\\u00f3lar en Per\\u00fa: El tipo de cambio cerr\\u00f3 a la baja hoy, 21 de diciembre\",\"D\\u00f3lar en Per\\u00fa: tipo de cambio cerr\\u00f3 a la baja este martes 20 de diciembre\",\"D\\u00f3lar en Per\\u00fa: tipo de cambio cerr\\u00f3 a la baja este martes 20 de diciembre\",\"Bolsa de Valores de Lima cierra a la baja tras el anuncio de la FED sobre una nueva alza en las tasas de inter\\u00e9s\",\"Bolsa de Valores de Lima cierra a la baja tras el anuncio de la FED sobre una nueva alza en las tasas de inter\\u00e9s\",\"D\\u00f3lar cierra con ligera alza en S/3,83 tras el anuncio de estado de emergencia\",\"D\\u00f3lar cierra con ligera alza en S/3,83 tras el anuncio de estado de emergencia\",\"Precio del d\\u00f3lar en Per\\u00fa: Sepa cu\\u00e1l es el tipo de cambio para hoy, 14 de diciembre\",\"Precio del d\\u00f3lar en Per\\u00fa: Sepa cu\\u00e1l es el tipo de cambio para hoy, 14 de diciembre\",\"Precio del d\\u00f3lar hoy en Per\\u00fa: Consulta el tipo de cambio y su cotizaci\\u00f3n este 1 de julio, seg\\u00fan el BCRP\",\"D\\u00f3lar Today y Monitor D\\u00f3lar hoy, 1 de julio: Revise el precio y cotizaci\\u00f3n del d\\u00f3lar en Venezuela\",\"\\u00bfQu\\u00e9 pas\\u00f3 con el d\\u00f3lar esta semana?\",\"\\u00bfQu\\u00e9 pas\\u00f3 con el d\\u00f3lar esta semana?\",\"D\\u00f3lar en Per\\u00fa hoy, 19 de febrero: Consulta el tipo de cambio y cotizaci\\u00f3n en compra y venta\",\"D\\u00f3lar en Per\\u00fa hoy, 19 de febrero: Consulta el tipo de cambio y cotizaci\\u00f3n en compra y venta\",\"D\\u00f3lar en Per\\u00fa hoy, s\\u00e1bado 18 de febrero: Consulta AQU\\u00cd el tipo de cambio y cotizaci\\u00f3n\",\"D\\u00f3lar en Per\\u00fa hoy, s\\u00e1bado 18 de febrero: Consulta AQU\\u00cd el tipo de cambio y cotizaci\\u00f3n\",\"D\\u00f3lar hoy en Per\\u00fa: \\u00bfA cu\\u00e1nto cerr\\u00f3 el tipo de cambio el viernes 17 de febrero?\",\"D\\u00f3lar hoy en Per\\u00fa: \\u00bfA cu\\u00e1nto cerr\\u00f3 el tipo de cambio el viernes 17 de febrero?\",\"\\u00bfQu\\u00e9 sucedi\\u00f3 con el d\\u00f3lar durante la semana?\",\"\\u00bfQu\\u00e9 sucedi\\u00f3 con el d\\u00f3lar durante la semana?\",\"D\\u00f3lar en Per\\u00fa: tipo de cambio para hoy domingo, 25 de diciembre del 2022\",\"D\\u00f3lar en Per\\u00fa: tipo de cambio para hoy domingo, 25 de diciembre del 2022\",\"Precio del d\\u00f3lar en Per\\u00fa: tipo de cambio hoy s\\u00e1bado 24 de diciembre\",\"Precio del d\\u00f3lar en Per\\u00fa: tipo de cambio hoy s\\u00e1bado 24 de diciembre\",\"Precio del d\\u00f3lar en Per\\u00fa: El tipo de cambio cerr\\u00f3 a la baja hoy, viernes 23 de diciembre\",\"Precio del d\\u00f3lar en Per\\u00fa: El tipo de cambio cerr\\u00f3 a la baja hoy, viernes 23 de diciembre\",\"D\\u00f3lar en Per\\u00fa: El tipo de cambio cerr\\u00f3 al alza hoy, jueves 22 de diciembre\",\"D\\u00f3lar en Per\\u00fa: El tipo de cambio cerr\\u00f3 al alza hoy, jueves 22 de diciembre\",\"D\\u00f3lar en Per\\u00fa: El tipo de cambio cerr\\u00f3 a la baja hoy, 21 de diciembre\",\"D\\u00f3lar en Per\\u00fa: El tipo de cambio cerr\\u00f3 a la baja hoy, 21 de diciembre\",\"D\\u00f3lar en Per\\u00fa: tipo de cambio cerr\\u00f3 a la baja este martes 20 de diciembre\",\"D\\u00f3lar en Per\\u00fa: tipo de cambio cerr\\u00f3 a la baja este martes 20 de diciembre\",\"Bolsa de Valores de Lima cierra a la baja tras el anuncio de la FED sobre una nueva alza en las tasas de inter\\u00e9s\",\"Bolsa de Valores de Lima cierra a la baja tras el anuncio de la FED sobre una nueva alza en las tasas de inter\\u00e9s\",\"D\\u00f3lar cierra con ligera alza en S/3,83 tras el anuncio de estado de emergencia\",\"D\\u00f3lar cierra con ligera alza en S/3,83 tras el anuncio de estado de emergencia\",\"Precio del d\\u00f3lar en Per\\u00fa: Sepa cu\\u00e1l es el tipo de cambio para hoy, 14 de diciembre\",\"Precio del d\\u00f3lar en Per\\u00fa: Sepa cu\\u00e1l es el tipo de cambio para hoy, 14 de diciembre\",\"Precio del d\\u00f3lar hoy en Per\\u00fa: Consulta el tipo de cambio y su cotizaci\\u00f3n este 1 de julio, seg\\u00fan el BCRP\",\"D\\u00f3lar Today y Monitor D\\u00f3lar hoy, 1 de julio: Revise el precio y cotizaci\\u00f3n del d\\u00f3lar en Venezuela\",\"\\u00bfQu\\u00e9 pas\\u00f3 con el d\\u00f3lar esta semana?\",\"\\u00bfQu\\u00e9 pas\\u00f3 con el d\\u00f3lar esta semana?\",\"D\\u00f3lar en Per\\u00fa hoy, 19 de febrero: Consulta el tipo de cambio y cotizaci\\u00f3n en compra y venta\",\"D\\u00f3lar en Per\\u00fa hoy, 19 de febrero: Consulta el tipo de cambio y cotizaci\\u00f3n en compra y venta\",\"D\\u00f3lar en Per\\u00fa hoy, s\\u00e1bado 18 de febrero: Consulta AQU\\u00cd el tipo de cambio y cotizaci\\u00f3n\",\"D\\u00f3lar en Per\\u00fa hoy, s\\u00e1bado 18 de febrero: Consulta AQU\\u00cd el tipo de cambio y cotizaci\\u00f3n\",\"D\\u00f3lar hoy en Per\\u00fa: \\u00bfA cu\\u00e1nto cerr\\u00f3 el tipo de cambio el viernes 17 de febrero?\",\"D\\u00f3lar hoy en Per\\u00fa: \\u00bfA cu\\u00e1nto cerr\\u00f3 el tipo de cambio el viernes 17 de febrero?\",\"\\u00bfQu\\u00e9 sucedi\\u00f3 con el d\\u00f3lar durante la semana?\",\"\\u00bfQu\\u00e9 sucedi\\u00f3 con el d\\u00f3lar durante la semana?\",\"D\\u00f3lar en Per\\u00fa: tipo de cambio para hoy domingo, 25 de diciembre del 2022\",\"D\\u00f3lar en Per\\u00fa: tipo de cambio para hoy domingo, 25 de diciembre del 2022\",\"Precio del d\\u00f3lar en Per\\u00fa: tipo de cambio hoy s\\u00e1bado 24 de diciembre\",\"Precio del d\\u00f3lar en Per\\u00fa: tipo de cambio hoy s\\u00e1bado 24 de diciembre\",\"Precio del d\\u00f3lar en Per\\u00fa: El tipo de cambio cerr\\u00f3 a la baja hoy, viernes 23 de diciembre\",\"Precio del d\\u00f3lar en Per\\u00fa: El tipo de cambio cerr\\u00f3 a la baja hoy, viernes 23 de diciembre\",\"D\\u00f3lar en Per\\u00fa: El tipo de cambio cerr\\u00f3 al alza hoy, jueves 22 de diciembre\",\"D\\u00f3lar en Per\\u00fa: El tipo de cambio cerr\\u00f3 al alza hoy, jueves 22 de diciembre\",\"D\\u00f3lar en Per\\u00fa: El tipo de cambio cerr\\u00f3 a la baja hoy, 21 de diciembre\",\"D\\u00f3lar en Per\\u00fa: El tipo de cambio cerr\\u00f3 a la baja hoy, 21 de diciembre\",\"D\\u00f3lar en Per\\u00fa: tipo de cambio cerr\\u00f3 a la baja este martes 20 de diciembre\",\"D\\u00f3lar en Per\\u00fa: tipo de cambio cerr\\u00f3 a la baja este martes 20 de diciembre\",\"Bolsa de Valores de Lima cierra a la baja tras el anuncio de la FED sobre una nueva alza en las tasas de inter\\u00e9s\",\"Bolsa de Valores de Lima cierra a la baja tras el anuncio de la FED sobre una nueva alza en las tasas de inter\\u00e9s\",\"D\\u00f3lar cierra con ligera alza en S/3,83 tras el anuncio de estado de emergencia\",\"D\\u00f3lar cierra con ligera alza en S/3,83 tras el anuncio de estado de emergencia\",\"Precio del d\\u00f3lar en Per\\u00fa: Sepa cu\\u00e1l es el tipo de cambio para hoy, 14 de diciembre\",\"Precio del d\\u00f3lar en Per\\u00fa: Sepa cu\\u00e1l es el tipo de cambio para hoy, 14 de diciembre\",\"Precio del d\\u00f3lar hoy en Per\\u00fa: Consulta el tipo de cambio y su cotizaci\\u00f3n este 1 de julio, seg\\u00fan el BCRP\",\"D\\u00f3lar Today y Monitor D\\u00f3lar hoy, 1 de julio: Revise el precio y cotizaci\\u00f3n del d\\u00f3lar en Venezuela\",\"\\u00bfQu\\u00e9 pas\\u00f3 con el d\\u00f3lar esta semana?\",\"\\u00bfQu\\u00e9 pas\\u00f3 con el d\\u00f3lar esta semana?\",\"D\\u00f3lar en Per\\u00fa hoy, 19 de febrero: Consulta el tipo de cambio y cotizaci\\u00f3n en compra y venta\",\"D\\u00f3lar en Per\\u00fa hoy, 19 de febrero: Consulta el tipo de cambio y cotizaci\\u00f3n en compra y venta\",\"D\\u00f3lar en Per\\u00fa hoy, s\\u00e1bado 18 de febrero: Consulta AQU\\u00cd el tipo de cambio y cotizaci\\u00f3n\",\"D\\u00f3lar en Per\\u00fa hoy, s\\u00e1bado 18 de febrero: Consulta AQU\\u00cd el tipo de cambio y cotizaci\\u00f3n\",\"D\\u00f3lar hoy en Per\\u00fa: \\u00bfA cu\\u00e1nto cerr\\u00f3 el tipo de cambio el viernes 17 de febrero?\",\"D\\u00f3lar hoy en Per\\u00fa: \\u00bfA cu\\u00e1nto cerr\\u00f3 el tipo de cambio el viernes 17 de febrero?\",\"\\u00bfQu\\u00e9 sucedi\\u00f3 con el d\\u00f3lar durante la semana?\",\"\\u00bfQu\\u00e9 sucedi\\u00f3 con el d\\u00f3lar durante la semana?\",\"D\\u00f3lar en Per\\u00fa: tipo de cambio para hoy domingo, 25 de diciembre del 2022\",\"D\\u00f3lar en Per\\u00fa: tipo de cambio para hoy domingo, 25 de diciembre del 2022\",\"Precio del d\\u00f3lar en Per\\u00fa: tipo de cambio hoy s\\u00e1bado 24 de diciembre\",\"Precio del d\\u00f3lar en Per\\u00fa: tipo de cambio hoy s\\u00e1bado 24 de diciembre\",\"Precio del d\\u00f3lar en Per\\u00fa: El tipo de cambio cerr\\u00f3 a la baja hoy, viernes 23 de diciembre\",\"Precio del d\\u00f3lar en Per\\u00fa: El tipo de cambio cerr\\u00f3 a la baja hoy, viernes 23 de diciembre\",\"D\\u00f3lar en Per\\u00fa: El tipo de cambio cerr\\u00f3 al alza hoy, jueves 22 de diciembre\",\"D\\u00f3lar en Per\\u00fa: El tipo de cambio cerr\\u00f3 al alza hoy, jueves 22 de diciembre\",\"D\\u00f3lar en Per\\u00fa: El tipo de cambio cerr\\u00f3 a la baja hoy, 21 de diciembre\",\"D\\u00f3lar en Per\\u00fa: El tipo de cambio cerr\\u00f3 a la baja hoy, 21 de diciembre\",\"D\\u00f3lar en Per\\u00fa: tipo de cambio cerr\\u00f3 a la baja este martes 20 de diciembre\",\"D\\u00f3lar en Per\\u00fa: tipo de cambio cerr\\u00f3 a la baja este martes 20 de diciembre\",\"Bolsa de Valores de Lima cierra a la baja tras el anuncio de la FED sobre una nueva alza en las tasas de inter\\u00e9s\",\"Bolsa de Valores de Lima cierra a la baja tras el anuncio de la FED sobre una nueva alza en las tasas de inter\\u00e9s\",\"D\\u00f3lar cierra con ligera alza en S/3,83 tras el anuncio de estado de emergencia\",\"D\\u00f3lar cierra con ligera alza en S/3,83 tras el anuncio de estado de emergencia\",\"Precio del d\\u00f3lar en Per\\u00fa: Sepa cu\\u00e1l es el tipo de cambio para hoy, 14 de diciembre\",\"Precio del d\\u00f3lar en Per\\u00fa: Sepa cu\\u00e1l es el tipo de cambio para hoy, 14 de diciembre\",\"Precio del d\\u00f3lar hoy en Per\\u00fa: Consulta el tipo de cambio y su cotizaci\\u00f3n este 1 de julio, seg\\u00fan el BCRP\",\"D\\u00f3lar Today y Monitor D\\u00f3lar hoy, 1 de julio: Revise el precio y cotizaci\\u00f3n del d\\u00f3lar en Venezuela\",\"\\u00bfQu\\u00e9 pas\\u00f3 con el d\\u00f3lar esta semana?\",\"\\u00bfQu\\u00e9 pas\\u00f3 con el d\\u00f3lar esta semana?\",\"D\\u00f3lar en Per\\u00fa hoy, 19 de febrero: Consulta el tipo de cambio y cotizaci\\u00f3n en compra y venta\",\"D\\u00f3lar en Per\\u00fa hoy, 19 de febrero: Consulta el tipo de cambio y cotizaci\\u00f3n en compra y venta\",\"D\\u00f3lar en Per\\u00fa hoy, s\\u00e1bado 18 de febrero: Consulta AQU\\u00cd el tipo de cambio y cotizaci\\u00f3n\",\"D\\u00f3lar en Per\\u00fa hoy, s\\u00e1bado 18 de febrero: Consulta AQU\\u00cd el tipo de cambio y cotizaci\\u00f3n\",\"D\\u00f3lar hoy en Per\\u00fa: \\u00bfA cu\\u00e1nto cerr\\u00f3 el tipo de cambio el viernes 17 de febrero?\",\"D\\u00f3lar hoy en Per\\u00fa: \\u00bfA cu\\u00e1nto cerr\\u00f3 el tipo de cambio el viernes 17 de febrero?\",\"\\u00bfQu\\u00e9 sucedi\\u00f3 con el d\\u00f3lar durante la semana?\",\"\\u00bfQu\\u00e9 sucedi\\u00f3 con el d\\u00f3lar durante la semana?\",\"D\\u00f3lar en Per\\u00fa: tipo de cambio para hoy domingo, 25 de diciembre del 2022\",\"D\\u00f3lar en Per\\u00fa: tipo de cambio para hoy domingo, 25 de diciembre del 2022\",\"Precio del d\\u00f3lar en Per\\u00fa: tipo de cambio hoy s\\u00e1bado 24 de diciembre\",\"Precio del d\\u00f3lar en Per\\u00fa: tipo de cambio hoy s\\u00e1bado 24 de diciembre\",\"Precio del d\\u00f3lar en Per\\u00fa: El tipo de cambio cerr\\u00f3 a la baja hoy, viernes 23 de diciembre\",\"Precio del d\\u00f3lar en Per\\u00fa: El tipo de cambio cerr\\u00f3 a la baja hoy, viernes 23 de diciembre\",\"D\\u00f3lar en Per\\u00fa: El tipo de cambio cerr\\u00f3 al alza hoy, jueves 22 de diciembre\",\"D\\u00f3lar en Per\\u00fa: El tipo de cambio cerr\\u00f3 al alza hoy, jueves 22 de diciembre\",\"D\\u00f3lar en Per\\u00fa: El tipo de cambio cerr\\u00f3 a la baja hoy, 21 de diciembre\",\"D\\u00f3lar en Per\\u00fa: El tipo de cambio cerr\\u00f3 a la baja hoy, 21 de diciembre\",\"D\\u00f3lar en Per\\u00fa: tipo de cambio cerr\\u00f3 a la baja este martes 20 de diciembre\",\"D\\u00f3lar en Per\\u00fa: tipo de cambio cerr\\u00f3 a la baja este martes 20 de diciembre\",\"Bolsa de Valores de Lima cierra a la baja tras el anuncio de la FED sobre una nueva alza en las tasas de inter\\u00e9s\",\"Bolsa de Valores de Lima cierra a la baja tras el anuncio de la FED sobre una nueva alza en las tasas de inter\\u00e9s\",\"D\\u00f3lar cierra con ligera alza en S/3,83 tras el anuncio de estado de emergencia\",\"D\\u00f3lar cierra con ligera alza en S/3,83 tras el anuncio de estado de emergencia\",\"Precio del d\\u00f3lar en Per\\u00fa: Sepa cu\\u00e1l es el tipo de cambio para hoy, 14 de diciembre\",\"Precio del d\\u00f3lar en Per\\u00fa: Sepa cu\\u00e1l es el tipo de cambio para hoy, 14 de diciembre\",\"Precio del d\\u00f3lar hoy en Per\\u00fa: Consulta el tipo de cambio y su cotizaci\\u00f3n este 1 de julio, seg\\u00fan el BCRP\",\"D\\u00f3lar Today y Monitor D\\u00f3lar hoy, 1 de julio: Revise el precio y cotizaci\\u00f3n del d\\u00f3lar en Venezuela\",\"\\u00bfQu\\u00e9 pas\\u00f3 con el d\\u00f3lar esta semana?\",\"\\u00bfQu\\u00e9 pas\\u00f3 con el d\\u00f3lar esta semana?\",\"D\\u00f3lar en Per\\u00fa hoy, 19 de febrero: Consulta el tipo de cambio y cotizaci\\u00f3n en compra y venta\",\"D\\u00f3lar en Per\\u00fa hoy, 19 de febrero: Consulta el tipo de cambio y cotizaci\\u00f3n en compra y venta\",\"D\\u00f3lar en Per\\u00fa hoy, s\\u00e1bado 18 de febrero: Consulta AQU\\u00cd el tipo de cambio y cotizaci\\u00f3n\",\"D\\u00f3lar en Per\\u00fa hoy, s\\u00e1bado 18 de febrero: Consulta AQU\\u00cd el tipo de cambio y cotizaci\\u00f3n\",\"D\\u00f3lar hoy en Per\\u00fa: \\u00bfA cu\\u00e1nto cerr\\u00f3 el tipo de cambio el viernes 17 de febrero?\",\"D\\u00f3lar hoy en Per\\u00fa: \\u00bfA cu\\u00e1nto cerr\\u00f3 el tipo de cambio el viernes 17 de febrero?\",\"\\u00bfQu\\u00e9 sucedi\\u00f3 con el d\\u00f3lar durante la semana?\",\"\\u00bfQu\\u00e9 sucedi\\u00f3 con el d\\u00f3lar durante la semana?\",\"D\\u00f3lar en Per\\u00fa: tipo de cambio para hoy domingo, 25 de diciembre del 2022\",\"D\\u00f3lar en Per\\u00fa: tipo de cambio para hoy domingo, 25 de diciembre del 2022\",\"Precio del d\\u00f3lar en Per\\u00fa: tipo de cambio hoy s\\u00e1bado 24 de diciembre\",\"Precio del d\\u00f3lar en Per\\u00fa: tipo de cambio hoy s\\u00e1bado 24 de diciembre\",\"Precio del d\\u00f3lar en Per\\u00fa: El tipo de cambio cerr\\u00f3 a la baja hoy, viernes 23 de diciembre\",\"Precio del d\\u00f3lar en Per\\u00fa: El tipo de cambio cerr\\u00f3 a la baja hoy, viernes 23 de diciembre\",\"D\\u00f3lar en Per\\u00fa: El tipo de cambio cerr\\u00f3 al alza hoy, jueves 22 de diciembre\",\"D\\u00f3lar en Per\\u00fa: El tipo de cambio cerr\\u00f3 al alza hoy, jueves 22 de diciembre\",\"D\\u00f3lar en Per\\u00fa: El tipo de cambio cerr\\u00f3 a la baja hoy, 21 de diciembre\",\"D\\u00f3lar en Per\\u00fa: El tipo de cambio cerr\\u00f3 a la baja hoy, 21 de diciembre\",\"D\\u00f3lar en Per\\u00fa: tipo de cambio cerr\\u00f3 a la baja este martes 20 de diciembre\",\"D\\u00f3lar en Per\\u00fa: tipo de cambio cerr\\u00f3 a la baja este martes 20 de diciembre\",\"Bolsa de Valores de Lima cierra a la baja tras el anuncio de la FED sobre una nueva alza en las tasas de inter\\u00e9s\",\"Bolsa de Valores de Lima cierra a la baja tras el anuncio de la FED sobre una nueva alza en las tasas de inter\\u00e9s\",\"D\\u00f3lar cierra con ligera alza en S/3,83 tras el anuncio de estado de emergencia\",\"D\\u00f3lar cierra con ligera alza en S/3,83 tras el anuncio de estado de emergencia\",\"Precio del d\\u00f3lar en Per\\u00fa: Sepa cu\\u00e1l es el tipo de cambio para hoy, 14 de diciembre\",\"Precio del d\\u00f3lar en Per\\u00fa: Sepa cu\\u00e1l es el tipo de cambio para hoy, 14 de diciembre\",\"Precio del d\\u00f3lar hoy en Per\\u00fa: Consulta el tipo de cambio y su cotizaci\\u00f3n este 1 de julio, seg\\u00fan el BCRP\",\"D\\u00f3lar Today y Monitor D\\u00f3lar hoy, 1 de julio: Revise el precio y cotizaci\\u00f3n del d\\u00f3lar en Venezuela\",\"\\u00bfQu\\u00e9 pas\\u00f3 con el d\\u00f3lar esta semana?\",\"\\u00bfQu\\u00e9 pas\\u00f3 con el d\\u00f3lar esta semana?\",\"D\\u00f3lar en Per\\u00fa hoy, 19 de febrero: Consulta el tipo de cambio y cotizaci\\u00f3n en compra y venta\",\"D\\u00f3lar en Per\\u00fa hoy, 19 de febrero: Consulta el tipo de cambio y cotizaci\\u00f3n en compra y venta\",\"D\\u00f3lar en Per\\u00fa hoy, s\\u00e1bado 18 de febrero: Consulta AQU\\u00cd el tipo de cambio y cotizaci\\u00f3n\",\"D\\u00f3lar en Per\\u00fa hoy, s\\u00e1bado 18 de febrero: Consulta AQU\\u00cd el tipo de cambio y cotizaci\\u00f3n\",\"D\\u00f3lar hoy en Per\\u00fa: \\u00bfA cu\\u00e1nto cerr\\u00f3 el tipo de cambio el viernes 17 de febrero?\",\"D\\u00f3lar hoy en Per\\u00fa: \\u00bfA cu\\u00e1nto cerr\\u00f3 el tipo de cambio el viernes 17 de febrero?\",\"\\u00bfQu\\u00e9 sucedi\\u00f3 con el d\\u00f3lar durante la semana?\",\"\\u00bfQu\\u00e9 sucedi\\u00f3 con el d\\u00f3lar durante la semana?\",\"D\\u00f3lar en Per\\u00fa: tipo de cambio para hoy domingo, 25 de diciembre del 2022\",\"D\\u00f3lar en Per\\u00fa: tipo de cambio para hoy domingo, 25 de diciembre del 2022\",\"Precio del d\\u00f3lar en Per\\u00fa: tipo de cambio hoy s\\u00e1bado 24 de diciembre\",\"Precio del d\\u00f3lar en Per\\u00fa: tipo de cambio hoy s\\u00e1bado 24 de diciembre\",\"Precio del d\\u00f3lar en Per\\u00fa: El tipo de cambio cerr\\u00f3 a la baja hoy, viernes 23 de diciembre\",\"Precio del d\\u00f3lar en Per\\u00fa: El tipo de cambio cerr\\u00f3 a la baja hoy, viernes 23 de diciembre\",\"D\\u00f3lar en Per\\u00fa: El tipo de cambio cerr\\u00f3 al alza hoy, jueves 22 de diciembre\",\"D\\u00f3lar en Per\\u00fa: El tipo de cambio cerr\\u00f3 al alza hoy, jueves 22 de diciembre\",\"D\\u00f3lar en Per\\u00fa: El tipo de cambio cerr\\u00f3 a la baja hoy, 21 de diciembre\",\"D\\u00f3lar en Per\\u00fa: El tipo de cambio cerr\\u00f3 a la baja hoy, 21 de diciembre\",\"D\\u00f3lar en Per\\u00fa: tipo de cambio cerr\\u00f3 a la baja este martes 20 de diciembre\",\"D\\u00f3lar en Per\\u00fa: tipo de cambio cerr\\u00f3 a la baja este martes 20 de diciembre\",\"Bolsa de Valores de Lima cierra a la baja tras el anuncio de la FED sobre una nueva alza en las tasas de inter\\u00e9s\",\"Bolsa de Valores de Lima cierra a la baja tras el anuncio de la FED sobre una nueva alza en las tasas de inter\\u00e9s\",\"D\\u00f3lar cierra con ligera alza en S/3,83 tras el anuncio de estado de emergencia\",\"D\\u00f3lar cierra con ligera alza en S/3,83 tras el anuncio de estado de emergencia\",\"Precio del d\\u00f3lar en Per\\u00fa: Sepa cu\\u00e1l es el tipo de cambio para hoy, 14 de diciembre\",\"Precio del d\\u00f3lar en Per\\u00fa: Sepa cu\\u00e1l es el tipo de cambio para hoy, 14 de diciembre\",\"Precio del d\\u00f3lar hoy en Per\\u00fa: Consulta el tipo de cambio y su cotizaci\\u00f3n este 1 de julio, seg\\u00fan el BCRP\",\"D\\u00f3lar Today y Monitor D\\u00f3lar hoy, 1 de julio: Revise el precio y cotizaci\\u00f3n del d\\u00f3lar en Venezuela\",\"\\u00bfQu\\u00e9 pas\\u00f3 con el d\\u00f3lar esta semana?\",\"\\u00bfQu\\u00e9 pas\\u00f3 con el d\\u00f3lar esta semana?\",\"D\\u00f3lar en Per\\u00fa hoy, 19 de febrero: Consulta el tipo de cambio y cotizaci\\u00f3n en compra y venta\",\"D\\u00f3lar en Per\\u00fa hoy, 19 de febrero: Consulta el tipo de cambio y cotizaci\\u00f3n en compra y venta\",\"D\\u00f3lar en Per\\u00fa hoy, s\\u00e1bado 18 de febrero: Consulta AQU\\u00cd el tipo de cambio y cotizaci\\u00f3n\",\"D\\u00f3lar en Per\\u00fa hoy, s\\u00e1bado 18 de febrero: Consulta AQU\\u00cd el tipo de cambio y cotizaci\\u00f3n\",\"D\\u00f3lar hoy en Per\\u00fa: \\u00bfA cu\\u00e1nto cerr\\u00f3 el tipo de cambio el viernes 17 de febrero?\",\"D\\u00f3lar hoy en Per\\u00fa: \\u00bfA cu\\u00e1nto cerr\\u00f3 el tipo de cambio el viernes 17 de febrero?\",\"\\u00bfQu\\u00e9 sucedi\\u00f3 con el d\\u00f3lar durante la semana?\",\"\\u00bfQu\\u00e9 sucedi\\u00f3 con el d\\u00f3lar durante la semana?\",\"D\\u00f3lar en Per\\u00fa: tipo de cambio para hoy domingo, 25 de diciembre del 2022\",\"D\\u00f3lar en Per\\u00fa: tipo de cambio para hoy domingo, 25 de diciembre del 2022\",\"Precio del d\\u00f3lar en Per\\u00fa: tipo de cambio hoy s\\u00e1bado 24 de diciembre\",\"Precio del d\\u00f3lar en Per\\u00fa: tipo de cambio hoy s\\u00e1bado 24 de diciembre\",\"Precio del d\\u00f3lar en Per\\u00fa: El tipo de cambio cerr\\u00f3 a la baja hoy, viernes 23 de diciembre\",\"Precio del d\\u00f3lar en Per\\u00fa: El tipo de cambio cerr\\u00f3 a la baja hoy, viernes 23 de diciembre\",\"D\\u00f3lar en Per\\u00fa: El tipo de cambio cerr\\u00f3 al alza hoy, jueves 22 de diciembre\",\"D\\u00f3lar en Per\\u00fa: El tipo de cambio cerr\\u00f3 al alza hoy, jueves 22 de diciembre\",\"D\\u00f3lar en Per\\u00fa: El tipo de cambio cerr\\u00f3 a la baja hoy, 21 de diciembre\",\"D\\u00f3lar en Per\\u00fa: El tipo de cambio cerr\\u00f3 a la baja hoy, 21 de diciembre\",\"D\\u00f3lar en Per\\u00fa: tipo de cambio cerr\\u00f3 a la baja este martes 20 de diciembre\",\"D\\u00f3lar en Per\\u00fa: tipo de cambio cerr\\u00f3 a la baja este martes 20 de diciembre\",\"Bolsa de Valores de Lima cierra a la baja tras el anuncio de la FED sobre una nueva alza en las tasas de inter\\u00e9s\",\"Bolsa de Valores de Lima cierra a la baja tras el anuncio de la FED sobre una nueva alza en las tasas de inter\\u00e9s\",\"D\\u00f3lar cierra con ligera alza en S/3,83 tras el anuncio de estado de emergencia\",\"D\\u00f3lar cierra con ligera alza en S/3,83 tras el anuncio de estado de emergencia\",\"Precio del d\\u00f3lar en Per\\u00fa: Sepa cu\\u00e1l es el tipo de cambio para hoy, 14 de diciembre\",\"Precio del d\\u00f3lar en Per\\u00fa: Sepa cu\\u00e1l es el tipo de cambio para hoy, 14 de diciembre\"],[\"18/05/2023 15H29\",\"18/05/2023 15H29\",\"16/12/2022 17H00\",\"16/12/2022 17H00\",\"18/05/2023 15H29\",\"18/05/2023 15H29\",\"16/12/2022 17H00\",\"16/12/2022 17H00\",\"18/05/2023 15H29\",\"18/05/2023 15H29\",\"16/12/2022 17H00\",\"16/12/2022 17H00\",\"18/05/2023 15H29\",\"18/05/2023 15H29\",\"16/12/2022 17H00\",\"16/12/2022 17H00\",\"18/05/2023 15H29\",\"18/05/2023 15H29\",\"16/12/2022 17H00\",\"16/12/2022 17H00\",\"18/05/2023 15H29\",\"18/05/2023 15H29\",\"16/12/2022 17H00\",\"16/12/2022 17H00\",\"18/05/2023 15H29\",\"18/05/2023 15H29\",\"16/12/2022 17H00\",\"16/12/2022 17H00\",\"18/05/2023 15H29\",\"18/05/2023 15H29\",\"16/12/2022 17H00\",\"16/12/2022 17H00\",\"18/05/2023 15H29\",\"18/05/2023 15H29\",\"16/12/2022 17H00\",\"16/12/2022 17H00\",\"18/05/2023 15H29\",\"18/05/2023 15H29\",\"16/12/2022 17H00\",\"16/12/2022 17H00\"],[\"https://elcomercio.pe/economia/mercados/precio-del-dolar-peru-tipo-de-cambio-18-de-mayo-2023-noticia/\",\"https://elcomercio.pe/economia/mercados/precio-del-dolar-peru-tipo-de-cambio-18-de-mayo-2023-noticia/\",\"https://elcomercio.pe/economia/mercados/precio-dolar-en-peru-hoy-tipo-de-cambio-este-viernes-16-de-diciembre-compra-y-venta-dolares-a-soles-dolar-de-hoy-bcr-banco-central-de-reserva-rmmn-noticia/\",\"https://elcomercio.pe/economia/mercados/precio-dolar-en-peru-hoy-tipo-de-cambio-este-viernes-16-de-diciembre-compra-y-venta-dolares-a-soles-dolar-de-hoy-bcr-banco-central-de-reserva-rmmn-noticia/\",\"https://elcomercio.pe/economia/mercados/precio-del-dolar-peru-tipo-de-cambio-18-de-mayo-2023-noticia/\",\"https://elcomercio.pe/economia/mercados/precio-del-dolar-peru-tipo-de-cambio-18-de-mayo-2023-noticia/\",\"https://elcomercio.pe/economia/mercados/precio-dolar-en-peru-hoy-tipo-de-cambio-este-viernes-16-de-diciembre-compra-y-venta-dolares-a-soles-dolar-de-hoy-bcr-banco-central-de-reserva-rmmn-noticia/\",\"https://elcomercio.pe/economia/mercados/precio-dolar-en-peru-hoy-tipo-de-cambio-este-viernes-16-de-diciembre-compra-y-venta-dolares-a-soles-dolar-de-hoy-bcr-banco-central-de-reserva-rmmn-noticia/\",\"https://elcomercio.pe/economia/mercados/precio-del-dolar-peru-tipo-de-cambio-18-de-mayo-2023-noticia/\",\"https://elcomercio.pe/economia/mercados/precio-del-dolar-peru-tipo-de-cambio-18-de-mayo-2023-noticia/\",\"https://elcomercio.pe/economia/mercados/precio-dolar-en-peru-hoy-tipo-de-cambio-este-viernes-16-de-diciembre-compra-y-venta-dolares-a-soles-dolar-de-hoy-bcr-banco-central-de-reserva-rmmn-noticia/\",\"https://elcomercio.pe/economia/mercados/precio-dolar-en-peru-hoy-tipo-de-cambio-este-viernes-16-de-diciembre-compra-y-venta-dolares-a-soles-dolar-de-hoy-bcr-banco-central-de-reserva-rmmn-noticia/\",\"https://elcomercio.pe/economia/mercados/precio-del-dolar-peru-tipo-de-cambio-18-de-mayo-2023-noticia/\",\"https://elcomercio.pe/economia/mercados/precio-del-dolar-peru-tipo-de-cambio-18-de-mayo-2023-noticia/\",\"https://elcomercio.pe/economia/mercados/precio-dolar-en-peru-hoy-tipo-de-cambio-este-viernes-16-de-diciembre-compra-y-venta-dolares-a-soles-dolar-de-hoy-bcr-banco-central-de-reserva-rmmn-noticia/\",\"https://elcomercio.pe/economia/mercados/precio-dolar-en-peru-hoy-tipo-de-cambio-este-viernes-16-de-diciembre-compra-y-venta-dolares-a-soles-dolar-de-hoy-bcr-banco-central-de-reserva-rmmn-noticia/\",\"https://elcomercio.pe/economia/mercados/precio-del-dolar-peru-tipo-de-cambio-18-de-mayo-2023-noticia/\",\"https://elcomercio.pe/economia/mercados/precio-del-dolar-peru-tipo-de-cambio-18-de-mayo-2023-noticia/\",\"https://elcomercio.pe/economia/mercados/precio-dolar-en-peru-hoy-tipo-de-cambio-este-viernes-16-de-diciembre-compra-y-venta-dolares-a-soles-dolar-de-hoy-bcr-banco-central-de-reserva-rmmn-noticia/\",\"https://elcomercio.pe/economia/mercados/precio-dolar-en-peru-hoy-tipo-de-cambio-este-viernes-16-de-diciembre-compra-y-venta-dolares-a-soles-dolar-de-hoy-bcr-banco-central-de-reserva-rmmn-noticia/\",\"https://elcomercio.pe/economia/mercados/precio-del-dolar-peru-tipo-de-cambio-18-de-mayo-2023-noticia/\",\"https://elcomercio.pe/economia/mercados/precio-del-dolar-peru-tipo-de-cambio-18-de-mayo-2023-noticia/\",\"https://elcomercio.pe/economia/mercados/precio-dolar-en-peru-hoy-tipo-de-cambio-este-viernes-16-de-diciembre-compra-y-venta-dolares-a-soles-dolar-de-hoy-bcr-banco-central-de-reserva-rmmn-noticia/\",\"https://elcomercio.pe/economia/mercados/precio-dolar-en-peru-hoy-tipo-de-cambio-este-viernes-16-de-diciembre-compra-y-venta-dolares-a-soles-dolar-de-hoy-bcr-banco-central-de-reserva-rmmn-noticia/\",\"https://elcomercio.pe/economia/mercados/precio-del-dolar-peru-tipo-de-cambio-18-de-mayo-2023-noticia/\",\"https://elcomercio.pe/economia/mercados/precio-del-dolar-peru-tipo-de-cambio-18-de-mayo-2023-noticia/\",\"https://elcomercio.pe/economia/mercados/precio-dolar-en-peru-hoy-tipo-de-cambio-este-viernes-16-de-diciembre-compra-y-venta-dolares-a-soles-dolar-de-hoy-bcr-banco-central-de-reserva-rmmn-noticia/\",\"https://elcomercio.pe/economia/mercados/precio-dolar-en-peru-hoy-tipo-de-cambio-este-viernes-16-de-diciembre-compra-y-venta-dolares-a-soles-dolar-de-hoy-bcr-banco-central-de-reserva-rmmn-noticia/\",\"https://elcomercio.pe/economia/mercados/precio-del-dolar-peru-tipo-de-cambio-18-de-mayo-2023-noticia/\",\"https://elcomercio.pe/economia/mercados/precio-del-dolar-peru-tipo-de-cambio-18-de-mayo-2023-noticia/\",\"https://elcomercio.pe/economia/mercados/precio-dolar-en-peru-hoy-tipo-de-cambio-este-viernes-16-de-diciembre-compra-y-venta-dolares-a-soles-dolar-de-hoy-bcr-banco-central-de-reserva-rmmn-noticia/\",\"https://elcomercio.pe/economia/mercados/precio-dolar-en-peru-hoy-tipo-de-cambio-este-viernes-16-de-diciembre-compra-y-venta-dolares-a-soles-dolar-de-hoy-bcr-banco-central-de-reserva-rmmn-noticia/\",\"https://elcomercio.pe/economia/mercados/precio-del-dolar-peru-tipo-de-cambio-18-de-mayo-2023-noticia/\",\"https://elcomercio.pe/economia/mercados/precio-del-dolar-peru-tipo-de-cambio-18-de-mayo-2023-noticia/\",\"https://elcomercio.pe/economia/mercados/precio-dolar-en-peru-hoy-tipo-de-cambio-este-viernes-16-de-diciembre-compra-y-venta-dolares-a-soles-dolar-de-hoy-bcr-banco-central-de-reserva-rmmn-noticia/\",\"https://elcomercio.pe/economia/mercados/precio-dolar-en-peru-hoy-tipo-de-cambio-este-viernes-16-de-diciembre-compra-y-venta-dolares-a-soles-dolar-de-hoy-bcr-banco-central-de-reserva-rmmn-noticia/\",\"https://elcomercio.pe/economia/mercados/precio-del-dolar-peru-tipo-de-cambio-18-de-mayo-2023-noticia/\",\"https://elcomercio.pe/economia/mercados/precio-del-dolar-peru-tipo-de-cambio-18-de-mayo-2023-noticia/\",\"https://elcomercio.pe/economia/mercados/precio-dolar-en-peru-hoy-tipo-de-cambio-este-viernes-16-de-diciembre-compra-y-venta-dolares-a-soles-dolar-de-hoy-bcr-banco-central-de-reserva-rmmn-noticia/\",\"https://elcomercio.pe/economia/mercados/precio-dolar-en-peru-hoy-tipo-de-cambio-este-viernes-16-de-diciembre-compra-y-venta-dolares-a-soles-dolar-de-hoy-bcr-banco-central-de-reserva-rmmn-noticia/\"]]},\"header\":{\"align\":\"left\",\"fill\":{\"color\":\"paleturquoise\"},\"values\":[\"TITULO\",\"FECHA\",\"URL\"]},\"type\":\"table\"}],                        {\"template\":{\"data\":{\"histogram2dcontour\":[{\"type\":\"histogram2dcontour\",\"colorbar\":{\"outlinewidth\":0,\"ticks\":\"\"},\"colorscale\":[[0.0,\"#0d0887\"],[0.1111111111111111,\"#46039f\"],[0.2222222222222222,\"#7201a8\"],[0.3333333333333333,\"#9c179e\"],[0.4444444444444444,\"#bd3786\"],[0.5555555555555556,\"#d8576b\"],[0.6666666666666666,\"#ed7953\"],[0.7777777777777778,\"#fb9f3a\"],[0.8888888888888888,\"#fdca26\"],[1.0,\"#f0f921\"]]}],\"choropleth\":[{\"type\":\"choropleth\",\"colorbar\":{\"outlinewidth\":0,\"ticks\":\"\"}}],\"histogram2d\":[{\"type\":\"histogram2d\",\"colorbar\":{\"outlinewidth\":0,\"ticks\":\"\"},\"colorscale\":[[0.0,\"#0d0887\"],[0.1111111111111111,\"#46039f\"],[0.2222222222222222,\"#7201a8\"],[0.3333333333333333,\"#9c179e\"],[0.4444444444444444,\"#bd3786\"],[0.5555555555555556,\"#d8576b\"],[0.6666666666666666,\"#ed7953\"],[0.7777777777777778,\"#fb9f3a\"],[0.8888888888888888,\"#fdca26\"],[1.0,\"#f0f921\"]]}],\"heatmap\":[{\"type\":\"heatmap\",\"colorbar\":{\"outlinewidth\":0,\"ticks\":\"\"},\"colorscale\":[[0.0,\"#0d0887\"],[0.1111111111111111,\"#46039f\"],[0.2222222222222222,\"#7201a8\"],[0.3333333333333333,\"#9c179e\"],[0.4444444444444444,\"#bd3786\"],[0.5555555555555556,\"#d8576b\"],[0.6666666666666666,\"#ed7953\"],[0.7777777777777778,\"#fb9f3a\"],[0.8888888888888888,\"#fdca26\"],[1.0,\"#f0f921\"]]}],\"heatmapgl\":[{\"type\":\"heatmapgl\",\"colorbar\":{\"outlinewidth\":0,\"ticks\":\"\"},\"colorscale\":[[0.0,\"#0d0887\"],[0.1111111111111111,\"#46039f\"],[0.2222222222222222,\"#7201a8\"],[0.3333333333333333,\"#9c179e\"],[0.4444444444444444,\"#bd3786\"],[0.5555555555555556,\"#d8576b\"],[0.6666666666666666,\"#ed7953\"],[0.7777777777777778,\"#fb9f3a\"],[0.8888888888888888,\"#fdca26\"],[1.0,\"#f0f921\"]]}],\"contourcarpet\":[{\"type\":\"contourcarpet\",\"colorbar\":{\"outlinewidth\":0,\"ticks\":\"\"}}],\"contour\":[{\"type\":\"contour\",\"colorbar\":{\"outlinewidth\":0,\"ticks\":\"\"},\"colorscale\":[[0.0,\"#0d0887\"],[0.1111111111111111,\"#46039f\"],[0.2222222222222222,\"#7201a8\"],[0.3333333333333333,\"#9c179e\"],[0.4444444444444444,\"#bd3786\"],[0.5555555555555556,\"#d8576b\"],[0.6666666666666666,\"#ed7953\"],[0.7777777777777778,\"#fb9f3a\"],[0.8888888888888888,\"#fdca26\"],[1.0,\"#f0f921\"]]}],\"surface\":[{\"type\":\"surface\",\"colorbar\":{\"outlinewidth\":0,\"ticks\":\"\"},\"colorscale\":[[0.0,\"#0d0887\"],[0.1111111111111111,\"#46039f\"],[0.2222222222222222,\"#7201a8\"],[0.3333333333333333,\"#9c179e\"],[0.4444444444444444,\"#bd3786\"],[0.5555555555555556,\"#d8576b\"],[0.6666666666666666,\"#ed7953\"],[0.7777777777777778,\"#fb9f3a\"],[0.8888888888888888,\"#fdca26\"],[1.0,\"#f0f921\"]]}],\"mesh3d\":[{\"type\":\"mesh3d\",\"colorbar\":{\"outlinewidth\":0,\"ticks\":\"\"}}],\"scatter\":[{\"fillpattern\":{\"fillmode\":\"overlay\",\"size\":10,\"solidity\":0.2},\"type\":\"scatter\"}],\"parcoords\":[{\"type\":\"parcoords\",\"line\":{\"colorbar\":{\"outlinewidth\":0,\"ticks\":\"\"}}}],\"scatterpolargl\":[{\"type\":\"scatterpolargl\",\"marker\":{\"colorbar\":{\"outlinewidth\":0,\"ticks\":\"\"}}}],\"bar\":[{\"error_x\":{\"color\":\"#2a3f5f\"},\"error_y\":{\"color\":\"#2a3f5f\"},\"marker\":{\"line\":{\"color\":\"#E5ECF6\",\"width\":0.5},\"pattern\":{\"fillmode\":\"overlay\",\"size\":10,\"solidity\":0.2}},\"type\":\"bar\"}],\"scattergeo\":[{\"type\":\"scattergeo\",\"marker\":{\"colorbar\":{\"outlinewidth\":0,\"ticks\":\"\"}}}],\"scatterpolar\":[{\"type\":\"scatterpolar\",\"marker\":{\"colorbar\":{\"outlinewidth\":0,\"ticks\":\"\"}}}],\"histogram\":[{\"marker\":{\"pattern\":{\"fillmode\":\"overlay\",\"size\":10,\"solidity\":0.2}},\"type\":\"histogram\"}],\"scattergl\":[{\"type\":\"scattergl\",\"marker\":{\"colorbar\":{\"outlinewidth\":0,\"ticks\":\"\"}}}],\"scatter3d\":[{\"type\":\"scatter3d\",\"line\":{\"colorbar\":{\"outlinewidth\":0,\"ticks\":\"\"}},\"marker\":{\"colorbar\":{\"outlinewidth\":0,\"ticks\":\"\"}}}],\"scattermapbox\":[{\"type\":\"scattermapbox\",\"marker\":{\"colorbar\":{\"outlinewidth\":0,\"ticks\":\"\"}}}],\"scatterternary\":[{\"type\":\"scatterternary\",\"marker\":{\"colorbar\":{\"outlinewidth\":0,\"ticks\":\"\"}}}],\"scattercarpet\":[{\"type\":\"scattercarpet\",\"marker\":{\"colorbar\":{\"outlinewidth\":0,\"ticks\":\"\"}}}],\"carpet\":[{\"aaxis\":{\"endlinecolor\":\"#2a3f5f\",\"gridcolor\":\"white\",\"linecolor\":\"white\",\"minorgridcolor\":\"white\",\"startlinecolor\":\"#2a3f5f\"},\"baxis\":{\"endlinecolor\":\"#2a3f5f\",\"gridcolor\":\"white\",\"linecolor\":\"white\",\"minorgridcolor\":\"white\",\"startlinecolor\":\"#2a3f5f\"},\"type\":\"carpet\"}],\"table\":[{\"cells\":{\"fill\":{\"color\":\"#EBF0F8\"},\"line\":{\"color\":\"white\"}},\"header\":{\"fill\":{\"color\":\"#C8D4E3\"},\"line\":{\"color\":\"white\"}},\"type\":\"table\"}],\"barpolar\":[{\"marker\":{\"line\":{\"color\":\"#E5ECF6\",\"width\":0.5},\"pattern\":{\"fillmode\":\"overlay\",\"size\":10,\"solidity\":0.2}},\"type\":\"barpolar\"}],\"pie\":[{\"automargin\":true,\"type\":\"pie\"}]},\"layout\":{\"autotypenumbers\":\"strict\",\"colorway\":[\"#636efa\",\"#EF553B\",\"#00cc96\",\"#ab63fa\",\"#FFA15A\",\"#19d3f3\",\"#FF6692\",\"#B6E880\",\"#FF97FF\",\"#FECB52\"],\"font\":{\"color\":\"#2a3f5f\"},\"hovermode\":\"closest\",\"hoverlabel\":{\"align\":\"left\"},\"paper_bgcolor\":\"white\",\"plot_bgcolor\":\"#E5ECF6\",\"polar\":{\"bgcolor\":\"#E5ECF6\",\"angularaxis\":{\"gridcolor\":\"white\",\"linecolor\":\"white\",\"ticks\":\"\"},\"radialaxis\":{\"gridcolor\":\"white\",\"linecolor\":\"white\",\"ticks\":\"\"}},\"ternary\":{\"bgcolor\":\"#E5ECF6\",\"aaxis\":{\"gridcolor\":\"white\",\"linecolor\":\"white\",\"ticks\":\"\"},\"baxis\":{\"gridcolor\":\"white\",\"linecolor\":\"white\",\"ticks\":\"\"},\"caxis\":{\"gridcolor\":\"white\",\"linecolor\":\"white\",\"ticks\":\"\"}},\"coloraxis\":{\"colorbar\":{\"outlinewidth\":0,\"ticks\":\"\"}},\"colorscale\":{\"sequential\":[[0.0,\"#0d0887\"],[0.1111111111111111,\"#46039f\"],[0.2222222222222222,\"#7201a8\"],[0.3333333333333333,\"#9c179e\"],[0.4444444444444444,\"#bd3786\"],[0.5555555555555556,\"#d8576b\"],[0.6666666666666666,\"#ed7953\"],[0.7777777777777778,\"#fb9f3a\"],[0.8888888888888888,\"#fdca26\"],[1.0,\"#f0f921\"]],\"sequentialminus\":[[0.0,\"#0d0887\"],[0.1111111111111111,\"#46039f\"],[0.2222222222222222,\"#7201a8\"],[0.3333333333333333,\"#9c179e\"],[0.4444444444444444,\"#bd3786\"],[0.5555555555555556,\"#d8576b\"],[0.6666666666666666,\"#ed7953\"],[0.7777777777777778,\"#fb9f3a\"],[0.8888888888888888,\"#fdca26\"],[1.0,\"#f0f921\"]],\"diverging\":[[0,\"#8e0152\"],[0.1,\"#c51b7d\"],[0.2,\"#de77ae\"],[0.3,\"#f1b6da\"],[0.4,\"#fde0ef\"],[0.5,\"#f7f7f7\"],[0.6,\"#e6f5d0\"],[0.7,\"#b8e186\"],[0.8,\"#7fbc41\"],[0.9,\"#4d9221\"],[1,\"#276419\"]]},\"xaxis\":{\"gridcolor\":\"white\",\"linecolor\":\"white\",\"ticks\":\"\",\"title\":{\"standoff\":15},\"zerolinecolor\":\"white\",\"automargin\":true,\"zerolinewidth\":2},\"yaxis\":{\"gridcolor\":\"white\",\"linecolor\":\"white\",\"ticks\":\"\",\"title\":{\"standoff\":15},\"zerolinecolor\":\"white\",\"automargin\":true,\"zerolinewidth\":2},\"scene\":{\"xaxis\":{\"backgroundcolor\":\"#E5ECF6\",\"gridcolor\":\"white\",\"linecolor\":\"white\",\"showbackground\":true,\"ticks\":\"\",\"zerolinecolor\":\"white\",\"gridwidth\":2},\"yaxis\":{\"backgroundcolor\":\"#E5ECF6\",\"gridcolor\":\"white\",\"linecolor\":\"white\",\"showbackground\":true,\"ticks\":\"\",\"zerolinecolor\":\"white\",\"gridwidth\":2},\"zaxis\":{\"backgroundcolor\":\"#E5ECF6\",\"gridcolor\":\"white\",\"linecolor\":\"white\",\"showbackground\":true,\"ticks\":\"\",\"zerolinecolor\":\"white\",\"gridwidth\":2}},\"shapedefaults\":{\"line\":{\"color\":\"#2a3f5f\"}},\"annotationdefaults\":{\"arrowcolor\":\"#2a3f5f\",\"arrowhead\":0,\"arrowwidth\":1},\"geo\":{\"bgcolor\":\"white\",\"landcolor\":\"#E5ECF6\",\"subunitcolor\":\"white\",\"showland\":true,\"showlakes\":true,\"lakecolor\":\"white\"},\"title\":{\"x\":0.05},\"mapbox\":{\"style\":\"light\"}}}},                        {\"responsive\": true}                    ).then(function(){\n",
       "                            \n",
       "var gd = document.getElementById('01fcb333-d8ab-4bc0-9241-4044031ee4d7');\n",
       "var x = new MutationObserver(function (mutations, observer) {{\n",
       "        var display = window.getComputedStyle(gd).display;\n",
       "        if (!display || display === 'none') {{\n",
       "            console.log([gd, 'removed!']);\n",
       "            Plotly.purge(gd);\n",
       "            observer.disconnect();\n",
       "        }}\n",
       "}});\n",
       "\n",
       "// Listen for the removal of the full notebook cells\n",
       "var notebookContainer = gd.closest('#notebook-container');\n",
       "if (notebookContainer) {{\n",
       "    x.observe(notebookContainer, {childList: true});\n",
       "}}\n",
       "\n",
       "// Listen for the clearing of the current output cell\n",
       "var outputEl = gd.closest('.output');\n",
       "if (outputEl) {{\n",
       "    x.observe(outputEl, {childList: true});\n",
       "}}\n",
       "\n",
       "                        })                };                });            </script>        </div>"
      ]
     },
     "metadata": {},
     "output_type": "display_data"
    },
    {
     "name": "stdout",
     "output_type": "stream",
     "text": [
      "\u001b[1;31m---------------------------------------------------------------------------\u001b[0m\n",
      "\u001b[1;31mAttributeError\u001b[0m                            Traceback (most recent call last)\n",
      "\u001b[1;31mAttributeError\u001b[0m: module 'dash_core_components' has no attribute 'DataTable'\n",
      "\n"
     ]
    }
   ],
   "source": [
    "import pandas as pd\n",
    "import plotly.graph_objects as go\n",
    "import plotly.express as px\n",
    "\n",
    "# Cargar los datos\n",
    "bueno = pd.read_csv(\"dolar_bueno.csv\")\n",
    "malo = pd.read_csv(\"dolar_malo.csv\")\n",
    "\n",
    "# Noticias\n",
    "\n",
    "## Descripción del caso\n",
    "\n",
    "## Tabla de Datos\n",
    "\n",
    "# Indicadores\n",
    "\n",
    "## Morosidad\n",
    "\n",
    "## Solicitantes mujeres\n",
    "\n",
    "## Gráfica de Morosidad\n",
    "\n",
    "## Morosidad vs Edad\n",
    "\n",
    "# Fuente: Elaboración propia\n",
    "\n",
    "# Prueba\n",
    "\n",
    "## \n",
    "\n",
    "### \n",
    "\n",
    "### \n",
    "\n",
    "### \n",
    "\n",
    "## \n",
    "\n",
    "### \n",
    "\n",
    "### \n",
    "\n",
    "## \n",
    "\n",
    "### \n",
    "\n",
    "### \n",
    "\n",
    "### \n",
    "\n",
    "### \n",
    "\n",
    "# Columnas\n",
    "\n",
    "## \n",
    "\n",
    "### Fila 1\n",
    "\n",
    "### Fila 2\n",
    "\n",
    "## \n",
    "\n",
    "### Fila 1\n",
    "\n",
    "## \n",
    "\n",
    "### Fila 1\n",
    "\n",
    "### Fila 2\n",
    "\n",
    "### Fila 3\n",
    "\n",
    "# Noticias r\n",
    "\n",
    "fig1 = go.Figure(data=[go.Table(\n",
    "    header=dict(values=list(bueno.columns),\n",
    "                fill_color='paleturquoise',\n",
    "                align='left'),\n",
    "    cells=dict(values=[bueno['TITULO'],bueno['FECHA'],bueno['URL']],\n",
    "               fill_color='lavender',\n",
    "               align='left'))\n",
    "])\n",
    "\n",
    "fig2 = go.Figure(data=[go.Table(\n",
    "    header=dict(values=list(malo.columns),\n",
    "                fill_color='paleturquoise',\n",
    "                align='left'),\n",
    "    cells=dict(values=[malo['TITULO'],bueno['FECHA'],bueno['URL']],\n",
    "               fill_color='lavender',\n",
    "               align='left'))\n",
    "])\n",
    "\n",
    "fig1.show()\n",
    "fig2.show()"
   ]
  },
  {
   "cell_type": "code",
   "execution_count": 18,
   "id": "4e9e2739",
   "metadata": {},
   "outputs": [
    {
     "ename": "TypeError",
     "evalue": "'str' object is not callable",
     "output_type": "error",
     "traceback": [
      "\u001b[1;31m---------------------------------------------------------------------------\u001b[0m",
      "\u001b[1;31mTypeError\u001b[0m                                 Traceback (most recent call last)",
      "Cell \u001b[1;32mIn[18], line 88\u001b[0m\n\u001b[0;32m     63\u001b[0m         \u001b[38;5;28;01mreturn\u001b[39;00m html\u001b[38;5;241m.\u001b[39mDiv([\n\u001b[0;32m     64\u001b[0m             html\u001b[38;5;241m.\u001b[39mH2(\u001b[38;5;124m'\u001b[39m\u001b[38;5;124mNoticias r\u001b[39m\u001b[38;5;124m'\u001b[39m),\n\u001b[0;32m     65\u001b[0m             dcc\u001b[38;5;241m.\u001b[39mGraph(\n\u001b[1;32m   (...)\u001b[0m\n\u001b[0;32m     84\u001b[0m             )\n\u001b[0;32m     85\u001b[0m         ])\n\u001b[0;32m     87\u001b[0m \u001b[38;5;66;03m# Obtener el código HTML generado por la aplicación\u001b[39;00m\n\u001b[1;32m---> 88\u001b[0m html_code \u001b[38;5;241m=\u001b[39m \u001b[43mapp\u001b[49m\u001b[38;5;241;43m.\u001b[39;49m\u001b[43mindex_string\u001b[49m\u001b[43m(\u001b[49m\u001b[43m)\u001b[49m\n\u001b[0;32m     90\u001b[0m \u001b[38;5;66;03m# Guardar la aplicación como archivo HTML\u001b[39;00m\n\u001b[0;32m     91\u001b[0m app_file \u001b[38;5;241m=\u001b[39m \u001b[38;5;124m\"\u001b[39m\u001b[38;5;124mdashboard.html\u001b[39m\u001b[38;5;124m\"\u001b[39m\n",
      "\u001b[1;31mTypeError\u001b[0m: 'str' object is not callable"
     ]
    }
   ],
   "source": [
    "import dash\n",
    "import dash_core_components as dcc\n",
    "import dash_html_components as html\n",
    "import pandas as pd\n",
    "\n",
    "# Cargar los datos\n",
    "bueno = pd.read_csv(\"dolar_bueno.csv\")\n",
    "malo = pd.read_csv(\"dolar_malo.csv\")\n",
    "\n",
    "# Crear la aplicación de Dash\n",
    "app = dash.Dash(__name__)\n",
    "\n",
    "# Definir el diseño de la aplicación\n",
    "app.layout = html.Div([\n",
    "    dcc.Tabs(id=\"tabs\", value='tab-descripcion', children=[\n",
    "        dcc.Tab(label='Descripción del caso', value='tab-descripcion'),\n",
    "        dcc.Tab(label='Tabla de Datos', value='tab-tabla-datos'),\n",
    "        dcc.Tab(label='Indicadores', value='tab-indicadores'),\n",
    "        dcc.Tab(label='Prueba', value='tab-prueba'),\n",
    "        dcc.Tab(label='Columnas', value='tab-columnas'),\n",
    "        dcc.Tab(label='Noticias r', value='tab-noticias')\n",
    "    ]),\n",
    "    html.Div(id='content')\n",
    "])\n",
    "\n",
    "# Función para mostrar el contenido correspondiente a cada pestaña\n",
    "@app.callback(\n",
    "    dash.dependencies.Output('content', 'children'),\n",
    "    [dash.dependencies.Input('tabs', 'value')]\n",
    ")\n",
    "def render_content(tab):\n",
    "    if tab == 'tab-descripcion':\n",
    "        return html.Div([\n",
    "            html.H2('Descripción del caso')\n",
    "        ])\n",
    "    elif tab == 'tab-tabla-datos':\n",
    "        return html.Div([\n",
    "            html.H2('Tabla de Datos')\n",
    "        ])\n",
    "    elif tab == 'tab-indicadores':\n",
    "        return html.Div([\n",
    "            html.H2('Indicadores'),\n",
    "            html.H3('Morosidad'),\n",
    "            html.H3('Solicitantes mujeres'),\n",
    "            html.H3('Gráfica de Morosidad'),\n",
    "            html.H3('Morosidad vs Edad')\n",
    "        ])\n",
    "    elif tab == 'tab-prueba':\n",
    "        return html.Div([\n",
    "            html.H2('Prueba')\n",
    "        ])\n",
    "    elif tab == 'tab-columnas':\n",
    "        return html.Div([\n",
    "            html.H2('Columnas'),\n",
    "            html.H3('Fila 1'),\n",
    "            html.H3('Fila 2'),\n",
    "            html.H3('Fila 1'),\n",
    "            html.H3('Fila 1'),\n",
    "            html.H3('Fila 2'),\n",
    "            html.H3('Fila 3')\n",
    "        ])\n",
    "    elif tab == 'tab-noticias':\n",
    "        return html.Div([\n",
    "            html.H2('Noticias r'),\n",
    "            dcc.Graph(\n",
    "                figure=go.Figure(data=[go.Table(\n",
    "                    header=dict(values=list(bueno.columns),\n",
    "                                fill_color='paleturquoise',\n",
    "                                align='left'),\n",
    "                    cells=dict(values=[bueno['TITULO'], bueno['FECHA'], bueno['URL']],\n",
    "                               fill_color='lavender',\n",
    "                               align='left'))\n",
    "                ])\n",
    "            ),\n",
    "            dcc.Graph(\n",
    "                figure=go.Figure(data=[go.Table(\n",
    "                    header=dict(values=list(malo.columns),\n",
    "                                fill_color='paleturquoise',\n",
    "                                align='left'),\n",
    "                    cells=dict(values=[malo['TITULO'], malo['FECHA'], malo['URL']],\n",
    "                               fill_color='lavender',\n",
    "                               align='left'))\n",
    "                ])\n",
    "            )\n",
    "        ])\n",
    "\n",
    "if __name__ == '__main__':\n",
    "    app.run_server(debug=False, port=8050)\n",
    "    \n",
    "    \n",
    "    \n"
   ]
  },
  {
   "cell_type": "code",
   "execution_count": 20,
   "id": "b81e6987",
   "metadata": {},
   "outputs": [
    {
     "ename": "NameError",
     "evalue": "name 'html_code' is not defined",
     "output_type": "error",
     "traceback": [
      "\u001b[1;31m---------------------------------------------------------------------------\u001b[0m",
      "\u001b[1;31mNameError\u001b[0m                                 Traceback (most recent call last)",
      "Cell \u001b[1;32mIn[20], line 3\u001b[0m\n\u001b[0;32m      1\u001b[0m app_file \u001b[38;5;241m=\u001b[39m \u001b[38;5;124m\"\u001b[39m\u001b[38;5;124mdashboard.html\u001b[39m\u001b[38;5;124m\"\u001b[39m\n\u001b[0;32m      2\u001b[0m \u001b[38;5;28;01mwith\u001b[39;00m \u001b[38;5;28mopen\u001b[39m(app_file, \u001b[38;5;124m\"\u001b[39m\u001b[38;5;124mw\u001b[39m\u001b[38;5;124m\"\u001b[39m) \u001b[38;5;28;01mas\u001b[39;00m file:\n\u001b[1;32m----> 3\u001b[0m     file\u001b[38;5;241m.\u001b[39mwrite(\u001b[43mhtml_code\u001b[49m)\n\u001b[0;32m      5\u001b[0m \u001b[38;5;28mprint\u001b[39m(\u001b[38;5;124mf\u001b[39m\u001b[38;5;124m\"\u001b[39m\u001b[38;5;124mLa aplicación se ha guardado en el archivo \u001b[39m\u001b[38;5;132;01m{\u001b[39;00mapp_file\u001b[38;5;132;01m}\u001b[39;00m\u001b[38;5;124m\"\u001b[39m)\n",
      "\u001b[1;31mNameError\u001b[0m: name 'html_code' is not defined"
     ]
    }
   ],
   "source": [
    "app_file = \"dashboard.html\"\n",
    "with open(app_file, \"w\") as file:\n",
    "    file.write(html_code)\n",
    "\n",
    "print(f\"La aplicación se ha guardado en el archivo {app_file}\")"
   ]
  },
  {
   "cell_type": "code",
   "execution_count": 21,
   "id": "a8f81aed",
   "metadata": {},
   "outputs": [
    {
     "data": {
      "text/html": [
       "\n",
       "        <iframe\n",
       "            width=\"100%\"\n",
       "            height=\"650\"\n",
       "            src=\"http://127.0.0.1:8050/\"\n",
       "            frameborder=\"0\"\n",
       "            allowfullscreen\n",
       "            \n",
       "        ></iframe>\n",
       "        "
      ],
      "text/plain": [
       "<IPython.lib.display.IFrame at 0x20b5ae244f0>"
      ]
     },
     "metadata": {},
     "output_type": "display_data"
    },
    {
     "ename": "TypeError",
     "evalue": "'str' object is not callable",
     "output_type": "error",
     "traceback": [
      "\u001b[1;31m---------------------------------------------------------------------------\u001b[0m",
      "\u001b[1;31mTypeError\u001b[0m                                 Traceback (most recent call last)",
      "Cell \u001b[1;32mIn[21], line 92\u001b[0m\n\u001b[0;32m     89\u001b[0m app\u001b[38;5;241m.\u001b[39mrun_server(debug\u001b[38;5;241m=\u001b[39m\u001b[38;5;28;01mFalse\u001b[39;00m, port\u001b[38;5;241m=\u001b[39m\u001b[38;5;241m8050\u001b[39m)\n\u001b[0;32m     91\u001b[0m \u001b[38;5;66;03m# Obtener el código HTML generado por la aplicación\u001b[39;00m\n\u001b[1;32m---> 92\u001b[0m html_code \u001b[38;5;241m=\u001b[39m \u001b[43mapp\u001b[49m\u001b[38;5;241;43m.\u001b[39;49m\u001b[43mindex_string\u001b[49m\u001b[43m(\u001b[49m\u001b[43m)\u001b[49m\n\u001b[0;32m     94\u001b[0m \u001b[38;5;66;03m# Guardar la aplicación como archivo HTML\u001b[39;00m\n\u001b[0;32m     95\u001b[0m app_file \u001b[38;5;241m=\u001b[39m \u001b[38;5;124m\"\u001b[39m\u001b[38;5;124mdashboard.html\u001b[39m\u001b[38;5;124m\"\u001b[39m\n",
      "\u001b[1;31mTypeError\u001b[0m: 'str' object is not callable"
     ]
    }
   ],
   "source": [
    "import dash\n",
    "import dash_core_components as dcc\n",
    "import dash_html_components as html\n",
    "import pandas as pd\n",
    "\n",
    "# Cargar los datos\n",
    "bueno = pd.read_csv(\"dolar_bueno.csv\")\n",
    "malo = pd.read_csv(\"dolar_malo.csv\")\n",
    "\n",
    "# Crear la aplicación de Dash\n",
    "app = dash.Dash(__name__)\n",
    "\n",
    "# Definir el diseño de la aplicación\n",
    "app.layout = html.Div([\n",
    "    dcc.Tabs(id=\"tabs\", value='tab-descripcion', children=[\n",
    "        dcc.Tab(label='Descripción del caso', value='tab-descripcion'),\n",
    "        dcc.Tab(label='Tabla de Datos', value='tab-tabla-datos'),\n",
    "        dcc.Tab(label='Indicadores', value='tab-indicadores'),\n",
    "        dcc.Tab(label='Prueba', value='tab-prueba'),\n",
    "        dcc.Tab(label='Columnas', value='tab-columnas'),\n",
    "        dcc.Tab(label='Noticias r', value='tab-noticias')\n",
    "    ]),\n",
    "    html.Div(id='content')\n",
    "])\n",
    "\n",
    "# Función para mostrar el contenido correspondiente a cada pestaña\n",
    "@app.callback(\n",
    "    dash.dependencies.Output('content', 'children'),\n",
    "    [dash.dependencies.Input('tabs', 'value')]\n",
    ")\n",
    "def render_content(tab):\n",
    "    if tab == 'tab-descripcion':\n",
    "        return html.Div([\n",
    "            html.H2('Descripción del caso')\n",
    "        ])\n",
    "    elif tab == 'tab-tabla-datos':\n",
    "        return html.Div([\n",
    "            html.H2('Tabla de Datos')\n",
    "        ])\n",
    "    elif tab == 'tab-indicadores':\n",
    "        return html.Div([\n",
    "            html.H2('Indicadores'),\n",
    "            html.H3('Morosidad'),\n",
    "            html.H3('Solicitantes mujeres'),\n",
    "            html.H3('Gráfica de Morosidad'),\n",
    "            html.H3('Morosidad vs Edad')\n",
    "        ])\n",
    "    elif tab == 'tab-prueba':\n",
    "        return html.Div([\n",
    "            html.H2('Prueba')\n",
    "        ])\n",
    "    elif tab == 'tab-columnas':\n",
    "        return html.Div([\n",
    "            html.H2('Columnas'),\n",
    "            html.H3('Fila 1'),\n",
    "            html.H3('Fila 2'),\n",
    "            html.H3('Fila 1'),\n",
    "            html.H3('Fila 1'),\n",
    "            html.H3('Fila 2'),\n",
    "            html.H3('Fila 3')\n",
    "        ])\n",
    "    elif tab == 'tab-noticias':\n",
    "        return html.Div([\n",
    "            html.H2('Noticias r'),\n",
    "            dcc.Graph(\n",
    "                figure=go.Figure(data=[go.Table(\n",
    "                    header=dict(values=list(bueno.columns),\n",
    "                                fill_color='paleturquoise',\n",
    "                                align='left'),\n",
    "                    cells=dict(values=[bueno['TITULO'], bueno['FECHA'], bueno['URL']],\n",
    "                               fill_color='lavender',\n",
    "                               align='left'))\n",
    "                ])\n",
    "            ),\n",
    "            dcc.Graph(\n",
    "                figure=go.Figure(data=[go.Table(\n",
    "                    header=dict(values=list(malo.columns),\n",
    "                                fill_color='paleturquoise',\n",
    "                                align='left'),\n",
    "                    cells=dict(values=[malo['TITULO'], malo['FECHA'], malo['URL']],\n",
    "                               fill_color='lavender',\n",
    "                               align='left'))\n",
    "                ])\n",
    "            )\n",
    "        ])\n",
    "\n",
    "if __name__ == '__main__':\n",
    "    # Ejecutar la aplicación en el servidor local\n",
    "    app.run_server(debug=False, port=8050)\n",
    "    \n",
    "    # Obtener el código HTML generado por la aplicación\n",
    "    html_code = app.index_string()\n",
    "\n",
    "    # Guardar la aplicación como archivo HTML\n",
    "    app_file = \"dashboard.html\"\n",
    "    with open(app_file, \"w\") as file:\n",
    "        file.write(html_code)\n",
    "\n",
    "    print(f\"La aplicación se ha guardado en el archivo {app_file}\")\n"
   ]
  },
  {
   "cell_type": "code",
   "execution_count": 23,
   "id": "8c3b0b2d",
   "metadata": {},
   "outputs": [
    {
     "data": {
      "text/html": [
       "\n",
       "        <iframe\n",
       "            width=\"100%\"\n",
       "            height=\"650\"\n",
       "            src=\"http://127.0.0.1:8050/\"\n",
       "            frameborder=\"0\"\n",
       "            allowfullscreen\n",
       "            \n",
       "        ></iframe>\n",
       "        "
      ],
      "text/plain": [
       "<IPython.lib.display.IFrame at 0x20b5ad80880>"
      ]
     },
     "metadata": {},
     "output_type": "display_data"
    },
    {
     "name": "stdout",
     "output_type": "stream",
     "text": [
      "La aplicación se ha guardado en el archivo hola.html\n"
     ]
    }
   ],
   "source": [
    "import dash\n",
    "import dash_core_components as dcc\n",
    "import dash_html_components as html\n",
    "import pandas as pd\n",
    "\n",
    "# Cargar los datos\n",
    "bueno = pd.read_csv(\"dolar_bueno.csv\")\n",
    "malo = pd.read_csv(\"dolar_malo.csv\")\n",
    "\n",
    "# Crear la aplicación de Dash\n",
    "app = dash.Dash(__name__)\n",
    "\n",
    "# Definir el diseño de la aplicación\n",
    "app.layout = html.Div([\n",
    "    dcc.Tabs(id=\"tabs\", value='tab-descripcion', children=[\n",
    "        dcc.Tab(label='Descripción del caso', value='tab-descripcion'),\n",
    "        dcc.Tab(label='Tabla de Datos', value='tab-tabla-datos'),\n",
    "        dcc.Tab(label='Indicadores', value='tab-indicadores'),\n",
    "        dcc.Tab(label='Prueba', value='tab-prueba'),\n",
    "        dcc.Tab(label='Columnas', value='tab-columnas'),\n",
    "        dcc.Tab(label='Noticias r', value='tab-noticias')\n",
    "    ]),\n",
    "    html.Div(id='content')\n",
    "])\n",
    "\n",
    "# Función para mostrar el contenido correspondiente a cada pestaña\n",
    "@app.callback(\n",
    "    dash.dependencies.Output('content', 'children'),\n",
    "    [dash.dependencies.Input('tabs', 'value')]\n",
    ")\n",
    "def render_content(tab):\n",
    "    if tab == 'tab-descripcion':\n",
    "        return html.Div([\n",
    "            html.H2('Descripción del caso')\n",
    "        ])\n",
    "    elif tab == 'tab-tabla-datos':\n",
    "        return html.Div([\n",
    "            html.H2('Tabla de Datos')\n",
    "        ])\n",
    "    elif tab == 'tab-indicadores':\n",
    "        return html.Div([\n",
    "            html.H2('Indicadores'),\n",
    "            html.H3('Morosidad'),\n",
    "            html.H3('Solicitantes mujeres'),\n",
    "            html.H3('Gráfica de Morosidad'),\n",
    "            html.H3('Morosidad vs Edad')\n",
    "        ])\n",
    "    elif tab == 'tab-prueba':\n",
    "        return html.Div([\n",
    "            html.H2('Prueba')\n",
    "        ])\n",
    "    elif tab == 'tab-columnas':\n",
    "        return html.Div([\n",
    "            html.H2('Columnas'),\n",
    "            html.H3('Fila 1'),\n",
    "            html.H3('Fila 2'),\n",
    "            html.H3('Fila 1'),\n",
    "            html.H3('Fila 1'),\n",
    "            html.H3('Fila 2'),\n",
    "            html.H3('Fila 3')\n",
    "        ])\n",
    "    elif tab == 'tab-noticias':\n",
    "        return html.Div([\n",
    "            html.H2('Noticias r'),\n",
    "            dcc.Graph(\n",
    "                figure=go.Figure(data=[go.Table(\n",
    "                    header=dict(values=list(bueno.columns),\n",
    "                                fill_color='paleturquoise',\n",
    "                                align='left'),\n",
    "                    cells=dict(values=[bueno['TITULO'], bueno['FECHA'], bueno['URL']],\n",
    "                               fill_color='lavender',\n",
    "                               align='left'))\n",
    "                ])\n",
    "            ),\n",
    "            dcc.Graph(\n",
    "                figure=go.Figure(data=[go.Table(\n",
    "                    header=dict(values=list(malo.columns),\n",
    "                                fill_color='paleturquoise',\n",
    "                                align='left'),\n",
    "                    cells=dict(values=[malo['TITULO'], malo['FECHA'], malo['URL']],\n",
    "                               fill_color='lavender',\n",
    "                               align='left'))\n",
    "                ])\n",
    "            )\n",
    "        ])\n",
    "\n",
    "if __name__ == '__main__':\n",
    "    # Ejecutar la aplicación en el servidor local\n",
    "    app.run_server(debug=False, port=8050)\n",
    "\n",
    "    # Obtener el código HTML generado por la aplicación\n",
    "    html_code = app.index_string\n",
    "\n",
    "    # Guardar la aplicación como archivo HTML\n",
    "    app_file = \"hola.html\"\n",
    "    with open(app_file, \"w\") as file:\n",
    "        file.write(html_code)\n",
    "\n",
    "    print(f\"La aplicación se ha guardado en el archivo {app_file}\")\n"
   ]
  },
  {
   "cell_type": "code",
   "execution_count": 24,
   "id": "7d1ba34f",
   "metadata": {},
   "outputs": [
    {
     "data": {
      "text/html": [
       "\n",
       "        <iframe\n",
       "            width=\"100%\"\n",
       "            height=\"650\"\n",
       "            src=\"http://127.0.0.1:8050/\"\n",
       "            frameborder=\"0\"\n",
       "            allowfullscreen\n",
       "            \n",
       "        ></iframe>\n",
       "        "
      ],
      "text/plain": [
       "<IPython.lib.display.IFrame at 0x20b5af8be20>"
      ]
     },
     "metadata": {},
     "output_type": "display_data"
    }
   ],
   "source": [
    "import dash\n",
    "import dash_core_components as dcc\n",
    "import dash_html_components as html\n",
    "import pandas as pd\n",
    "\n",
    "# Cargar los datos\n",
    "bueno = pd.read_csv(\"dolar_bueno.csv\")\n",
    "malo = pd.read_csv(\"dolar_malo.csv\")\n",
    "\n",
    "# Crear la aplicación de Dash\n",
    "app = dash.Dash(__name__)\n",
    "\n",
    "# Definir el diseño de la aplicación\n",
    "app.layout = html.Div([\n",
    "    dcc.Tabs(id=\"tabs\", value='tab-descripcion', children=[\n",
    "        dcc.Tab(label='Descripción del caso', value='tab-descripcion'),\n",
    "        dcc.Tab(label='Tabla de Datos', value='tab-tabla-datos'),\n",
    "        dcc.Tab(label='Indicadores', value='tab-indicadores'),\n",
    "        dcc.Tab(label='Prueba', value='tab-prueba'),\n",
    "        dcc.Tab(label='Columnas', value='tab-columnas'),\n",
    "        dcc.Tab(label='Noticias r', value='tab-noticias')\n",
    "    ]),\n",
    "    html.Div(id='content')\n",
    "])\n",
    "\n",
    "# Función para mostrar el contenido correspondiente a cada pestaña\n",
    "@app.callback(\n",
    "    dash.dependencies.Output('content', 'children'),\n",
    "    [dash.dependencies.Input('tabs', 'value')]\n",
    ")\n",
    "def render_content(tab):\n",
    "    if tab == 'tab-descripcion':\n",
    "        return html.Div([\n",
    "            html.H2('Descripción del caso')\n",
    "        ])\n",
    "    elif tab == 'tab-tabla-datos':\n",
    "        return html.Div([\n",
    "            html.H2('Tabla de Datos')\n",
    "        ])\n",
    "    elif tab == 'tab-indicadores':\n",
    "        return html.Div([\n",
    "            html.H2('Indicadores'),\n",
    "            html.H3('Morosidad'),\n",
    "            html.H3('Solicitantes mujeres'),\n",
    "            html.H3('Gráfica de Morosidad'),\n",
    "            html.H3('Morosidad vs Edad')\n",
    "        ])\n",
    "    elif tab == 'tab-prueba':\n",
    "        return html.Div([\n",
    "            html.H2('Prueba')\n",
    "        ])\n",
    "    elif tab == 'tab-columnas':\n",
    "        return html.Div([\n",
    "            html.H2('Columnas'),\n",
    "            html.H3('Fila 1'),\n",
    "            html.H3('Fila 2'),\n",
    "            html.H3('Fila 1'),\n",
    "            html.H3('Fila 1'),\n",
    "            html.H3('Fila 2'),\n",
    "            html.H3('Fila 3')\n",
    "        ])\n",
    "    elif tab == 'tab-noticias':\n",
    "        return html.Div([\n",
    "            html.H2('Noticias r'),\n",
    "            dcc.Graph(\n",
    "                figure=go.Figure(data=[go.Table(\n",
    "                    header=dict(values=list(bueno.columns),\n",
    "                                fill_color='paleturquoise',\n",
    "                                align='left'),\n",
    "                    cells=dict(values=[bueno['TITULO'], bueno['FECHA'], bueno['URL']],\n",
    "                               fill_color='lavender',\n",
    "                               align='left'))\n",
    "                ])\n",
    "            ),\n",
    "            dcc.Graph(\n",
    "                figure=go.Figure(data=[go.Table(\n",
    "                    header=dict(values=list(malo.columns),\n",
    "                                fill_color='paleturquoise',\n",
    "                                align='left'),\n",
    "                    cells=dict(values=[malo['TITULO'], malo['FECHA'], malo['URL']],\n",
    "                               fill_color='lavender',\n",
    "                               align='left'))\n",
    "                ])\n",
    "            )\n",
    "        ])\n",
    "\n",
    "if __name__ == '__main__':\n",
    "    # Ejecutar la aplicación en el servidor local\n",
    "    app.run_server(debug=False, port=8050)\n",
    "\n"
   ]
  },
  {
   "cell_type": "code",
   "execution_count": 25,
   "id": "dcfd3db6",
   "metadata": {},
   "outputs": [
    {
     "data": {
      "text/html": [
       "\n",
       "        <iframe\n",
       "            width=\"100%\"\n",
       "            height=\"650\"\n",
       "            src=\"http://127.0.0.1:8050/\"\n",
       "            frameborder=\"0\"\n",
       "            allowfullscreen\n",
       "            \n",
       "        ></iframe>\n",
       "        "
      ],
      "text/plain": [
       "<IPython.lib.display.IFrame at 0x20b5ad517b0>"
      ]
     },
     "metadata": {},
     "output_type": "display_data"
    },
    {
     "ename": "AttributeError",
     "evalue": "'Flask' object has no attribute 'to_html'",
     "output_type": "error",
     "traceback": [
      "\u001b[1;31m---------------------------------------------------------------------------\u001b[0m",
      "\u001b[1;31mAttributeError\u001b[0m                            Traceback (most recent call last)",
      "Cell \u001b[1;32mIn[25], line 92\u001b[0m\n\u001b[0;32m     89\u001b[0m app\u001b[38;5;241m.\u001b[39mrun_server(debug\u001b[38;5;241m=\u001b[39m\u001b[38;5;28;01mFalse\u001b[39;00m, port\u001b[38;5;241m=\u001b[39m\u001b[38;5;241m8050\u001b[39m)\n\u001b[0;32m     91\u001b[0m \u001b[38;5;66;03m# Obtener el código HTML generado por la aplicación\u001b[39;00m\n\u001b[1;32m---> 92\u001b[0m html_code \u001b[38;5;241m=\u001b[39m \u001b[43mapp\u001b[49m\u001b[38;5;241;43m.\u001b[39;49m\u001b[43mserver\u001b[49m\u001b[38;5;241;43m.\u001b[39;49m\u001b[43mto_html\u001b[49m()\n\u001b[0;32m     94\u001b[0m \u001b[38;5;66;03m# Guardar la aplicación como archivo HTML\u001b[39;00m\n\u001b[0;32m     95\u001b[0m app_file \u001b[38;5;241m=\u001b[39m \u001b[38;5;124m\"\u001b[39m\u001b[38;5;124mdashboard.html\u001b[39m\u001b[38;5;124m\"\u001b[39m\n",
      "\u001b[1;31mAttributeError\u001b[0m: 'Flask' object has no attribute 'to_html'"
     ]
    }
   ],
   "source": [
    "import dash\n",
    "import dash_core_components as dcc\n",
    "import dash_html_components as html\n",
    "import pandas as pd\n",
    "\n",
    "# Cargar los datos\n",
    "bueno = pd.read_csv(\"dolar_bueno.csv\")\n",
    "malo = pd.read_csv(\"dolar_malo.csv\")\n",
    "\n",
    "# Crear la aplicación de Dash\n",
    "app = dash.Dash(__name__)\n",
    "\n",
    "# Definir el diseño de la aplicación\n",
    "app.layout = html.Div([\n",
    "    dcc.Tabs(id=\"tabs\", value='tab-descripcion', children=[\n",
    "        dcc.Tab(label='Descripción del caso', value='tab-descripcion'),\n",
    "        dcc.Tab(label='Tabla de Datos', value='tab-tabla-datos'),\n",
    "        dcc.Tab(label='Indicadores', value='tab-indicadores'),\n",
    "        dcc.Tab(label='Prueba', value='tab-prueba'),\n",
    "        dcc.Tab(label='Columnas', value='tab-columnas'),\n",
    "        dcc.Tab(label='Noticias r', value='tab-noticias')\n",
    "    ]),\n",
    "    html.Div(id='content')\n",
    "])\n",
    "\n",
    "# Función para mostrar el contenido correspondiente a cada pestaña\n",
    "@app.callback(\n",
    "    dash.dependencies.Output('content', 'children'),\n",
    "    [dash.dependencies.Input('tabs', 'value')]\n",
    ")\n",
    "def render_content(tab):\n",
    "    if tab == 'tab-descripcion':\n",
    "        return html.Div([\n",
    "            html.H2('Descripción del caso')\n",
    "        ])\n",
    "    elif tab == 'tab-tabla-datos':\n",
    "        return html.Div([\n",
    "            html.H2('Tabla de Datos')\n",
    "        ])\n",
    "    elif tab == 'tab-indicadores':\n",
    "        return html.Div([\n",
    "            html.H2('Indicadores'),\n",
    "            html.H3('Morosidad'),\n",
    "            html.H3('Solicitantes mujeres'),\n",
    "            html.H3('Gráfica de Morosidad'),\n",
    "            html.H3('Morosidad vs Edad')\n",
    "        ])\n",
    "    elif tab == 'tab-prueba':\n",
    "        return html.Div([\n",
    "            html.H2('Prueba')\n",
    "        ])\n",
    "    elif tab == 'tab-columnas':\n",
    "        return html.Div([\n",
    "            html.H2('Columnas'),\n",
    "            html.H3('Fila 1'),\n",
    "            html.H3('Fila 2'),\n",
    "            html.H3('Fila 1'),\n",
    "            html.H3('Fila 1'),\n",
    "            html.H3('Fila 2'),\n",
    "            html.H3('Fila 3')\n",
    "        ])\n",
    "    elif tab == 'tab-noticias':\n",
    "        return html.Div([\n",
    "            html.H2('Noticias r'),\n",
    "            dcc.Graph(\n",
    "                figure=go.Figure(data=[go.Table(\n",
    "                    header=dict(values=list(bueno.columns),\n",
    "                                fill_color='paleturquoise',\n",
    "                                align='left'),\n",
    "                    cells=dict(values=[bueno['TITULO'], bueno['FECHA'], bueno['URL']],\n",
    "                               fill_color='lavender',\n",
    "                               align='left'))\n",
    "                ])\n",
    "            ),\n",
    "            dcc.Graph(\n",
    "                figure=go.Figure(data=[go.Table(\n",
    "                    header=dict(values=list(malo.columns),\n",
    "                                fill_color='paleturquoise',\n",
    "                                align='left'),\n",
    "                    cells=dict(values=[malo['TITULO'], malo['FECHA'], malo['URL']],\n",
    "                               fill_color='lavender',\n",
    "                               align='left'))\n",
    "                ])\n",
    "            )\n",
    "        ])\n",
    "\n",
    "if __name__ == '__main__':\n",
    "    # Ejecutar la aplicación en el servidor local\n",
    "    app.run_server(debug=False, port=8050)\n",
    "\n",
    "    # Obtener el código HTML generado por la aplicación\n",
    "    html_code = app.server.to_html()\n",
    "\n",
    "    # Guardar la aplicación como archivo HTML\n",
    "    app_file = \"dashboard.html\"\n",
    "    with open(app_file, \"w\") as file:\n",
    "        file.write(html_code)\n",
    "\n",
    "    print(f\"La aplicación se ha guardado en el archivo {app_file}\")\n"
   ]
  },
  {
   "cell_type": "code",
   "execution_count": 27,
   "id": "a0b0a64d",
   "metadata": {},
   "outputs": [
    {
     "data": {
      "text/html": [
       "\n",
       "        <iframe\n",
       "            width=\"100%\"\n",
       "            height=\"650\"\n",
       "            src=\"http://127.0.0.1:8050/\"\n",
       "            frameborder=\"0\"\n",
       "            allowfullscreen\n",
       "            \n",
       "        ></iframe>\n",
       "        "
      ],
      "text/plain": [
       "<IPython.lib.display.IFrame at 0x20b5b06edd0>"
      ]
     },
     "metadata": {},
     "output_type": "display_data"
    },
    {
     "ename": "TypeError",
     "evalue": "'str' object is not callable",
     "output_type": "error",
     "traceback": [
      "\u001b[1;31m---------------------------------------------------------------------------\u001b[0m",
      "\u001b[1;31mTypeError\u001b[0m                                 Traceback (most recent call last)",
      "Cell \u001b[1;32mIn[27], line 91\u001b[0m\n\u001b[0;32m     88\u001b[0m app\u001b[38;5;241m.\u001b[39mrun_server(debug\u001b[38;5;241m=\u001b[39m\u001b[38;5;28;01mFalse\u001b[39;00m, port\u001b[38;5;241m=\u001b[39m\u001b[38;5;241m8050\u001b[39m)\n\u001b[0;32m     90\u001b[0m \u001b[38;5;66;03m# Obtener el código HTML generado por la aplicación\u001b[39;00m\n\u001b[1;32m---> 91\u001b[0m html_code \u001b[38;5;241m=\u001b[39m \u001b[43mapp\u001b[49m\u001b[38;5;241;43m.\u001b[39;49m\u001b[43mindex_string\u001b[49m\u001b[43m(\u001b[49m\u001b[43m)\u001b[49m\n\u001b[0;32m     93\u001b[0m \u001b[38;5;66;03m# Guardar la aplicación como archivo HTML\u001b[39;00m\n\u001b[0;32m     94\u001b[0m app_file \u001b[38;5;241m=\u001b[39m \u001b[38;5;124m\"\u001b[39m\u001b[38;5;124mdashboard.html\u001b[39m\u001b[38;5;124m\"\u001b[39m\n",
      "\u001b[1;31mTypeError\u001b[0m: 'str' object is not callable"
     ]
    }
   ],
   "source": [
    "import dash\n",
    "import dash_core_components as dcc\n",
    "import dash_html_components as html\n",
    "import pandas as pd\n",
    "\n",
    "# Cargar los datos\n",
    "bueno = pd.read_csv(\"dolar_bueno.csv\")\n",
    "malo = pd.read_csv(\"dolar_malo.csv\")\n",
    "\n",
    "# Crear la aplicación de Dash\n",
    "app = dash.Dash(__name__)\n",
    "\n",
    "# Definir el diseño de la aplicación\n",
    "app.layout = html.Div([\n",
    "    dcc.Tabs(id=\"tabs\", value='tab-descripcion', children=[\n",
    "        dcc.Tab(label='Descripción del caso', value='tab-descripcion'),\n",
    "        dcc.Tab(label='Tabla de Datos', value='tab-tabla-datos'),\n",
    "        dcc.Tab(label='Indicadores', value='tab-indicadores'),\n",
    "        dcc.Tab(label='Prueba', value='tab-prueba'),\n",
    "        dcc.Tab(label='Columnas', value='tab-columnas'),\n",
    "        dcc.Tab(label='Noticias r', value='tab-noticias')\n",
    "    ]),\n",
    "    html.Div(id='content')\n",
    "])\n",
    "\n",
    "# Función para mostrar el contenido correspondiente a cada pestaña\n",
    "@app.callback(\n",
    "    dash.dependencies.Output('content', 'children'),\n",
    "    [dash.dependencies.Input('tabs', 'value')]\n",
    ")\n",
    "def render_content(tab):\n",
    "    if tab == 'tab-descripcion':\n",
    "        return html.Div([\n",
    "            html.H2('Descripción del caso')\n",
    "        ])\n",
    "    elif tab == 'tab-tabla-datos':\n",
    "        return html.Div([\n",
    "            html.H2('Tabla de Datos')\n",
    "        ])\n",
    "    elif tab == 'tab-indicadores':\n",
    "        return html.Div([\n",
    "            html.H2('Indicadores'),\n",
    "            html.H3('Morosidad'),\n",
    "            html.H3('Solicitantes mujeres'),\n",
    "            html.H3('Gráfica de Morosidad'),\n",
    "            html.H3('Morosidad vs Edad')\n",
    "        ])\n",
    "    elif tab == 'tab-prueba':\n",
    "        return html.Div([\n",
    "            html.H2('Prueba')\n",
    "        ])\n",
    "    elif tab == 'tab-columnas':\n",
    "        return html.Div([\n",
    "            html.H2('Columnas'),\n",
    "            html.H3('Fila 1'),\n",
    "            html.H3('Fila 2'),\n",
    "            html.H3('Fila 1'),\n",
    "            html.H3('Fila 1'),\n",
    "            html.H3('Fila 2'),\n",
    "            html.H3('Fila 3')\n",
    "        ])\n",
    "    elif tab == 'tab-noticias':\n",
    "        return html.Div([\n",
    "            html.H2('Noticias r'),\n",
    "            dcc.Graph(\n",
    "                figure=go.Figure(data=[go.Table(\n",
    "                    header=dict(values=list(bueno.columns),\n",
    "                                fill_color='paleturquoise',\n",
    "                                align='left'),\n",
    "                    cells=dict(values=[bueno['TITULO'], bueno['FECHA'], bueno['URL']],\n",
    "                               fill_color='lavender',\n",
    "                               align='left'))\n",
    "                ])\n",
    "            ),\n",
    "            dcc.Graph(\n",
    "                figure=go.Figure(data=[go.Table(\n",
    "                    header=dict(values=list(malo.columns),\n",
    "                                fill_color='paleturquoise',\n",
    "                                align='left'),\n",
    "                    cells=dict(values=[malo['TITULO'], malo['FECHA'], malo['URL']],\n",
    "                               fill_color='lavender',\n",
    "                               align='left'))\n",
    "                ])\n",
    "            )\n",
    "        ])\n",
    "\n",
    "if __name__ == '__main__':\n",
    "    app.run_server(debug=False, port=8050)\n",
    "\n",
    "    # Obtener el código HTML generado por la aplicación\n",
    "    html_code = app.index_string()\n",
    "\n",
    "    # Guardar la aplicación como archivo HTML\n",
    "    app_file = \"dashboard.html\"\n",
    "    with open(app_file, \"w\") as file:\n",
    "        file.write(html_code)\n",
    "\n",
    "    print(f\"La aplicación se ha guardado en el archivo {app_file}\")\n"
   ]
  },
  {
   "cell_type": "code",
   "execution_count": 28,
   "id": "c6eb04b2",
   "metadata": {},
   "outputs": [
    {
     "data": {
      "text/html": [
       "\n",
       "        <iframe\n",
       "            width=\"100%\"\n",
       "            height=\"650\"\n",
       "            src=\"http://127.0.0.1:8050/\"\n",
       "            frameborder=\"0\"\n",
       "            allowfullscreen\n",
       "            \n",
       "        ></iframe>\n",
       "        "
      ],
      "text/plain": [
       "<IPython.lib.display.IFrame at 0x20b5ad82ad0>"
      ]
     },
     "metadata": {},
     "output_type": "display_data"
    },
    {
     "ename": "AttributeError",
     "evalue": "'Flask' object has no attribute 'index_string'",
     "output_type": "error",
     "traceback": [
      "\u001b[1;31m---------------------------------------------------------------------------\u001b[0m",
      "\u001b[1;31mAttributeError\u001b[0m                            Traceback (most recent call last)",
      "Cell \u001b[1;32mIn[28], line 91\u001b[0m\n\u001b[0;32m     88\u001b[0m     app\u001b[38;5;241m.\u001b[39mrun_server(debug\u001b[38;5;241m=\u001b[39m\u001b[38;5;28;01mFalse\u001b[39;00m, port\u001b[38;5;241m=\u001b[39m\u001b[38;5;241m8050\u001b[39m)\n\u001b[0;32m     90\u001b[0m \u001b[38;5;66;03m# Obtener el código HTML generado por la aplicación\u001b[39;00m\n\u001b[1;32m---> 91\u001b[0m html_code \u001b[38;5;241m=\u001b[39m \u001b[43mapp\u001b[49m\u001b[38;5;241;43m.\u001b[39;49m\u001b[43mserver\u001b[49m\u001b[38;5;241;43m.\u001b[39;49m\u001b[43mindex_string\u001b[49m()\n\u001b[0;32m     93\u001b[0m \u001b[38;5;66;03m# Guardar la aplicación como archivo HTML\u001b[39;00m\n\u001b[0;32m     94\u001b[0m app_file \u001b[38;5;241m=\u001b[39m \u001b[38;5;124m\"\u001b[39m\u001b[38;5;124mdashboard.html\u001b[39m\u001b[38;5;124m\"\u001b[39m\n",
      "\u001b[1;31mAttributeError\u001b[0m: 'Flask' object has no attribute 'index_string'"
     ]
    }
   ],
   "source": [
    "import dash\n",
    "import dash_core_components as dcc\n",
    "import dash_html_components as html\n",
    "import pandas as pd\n",
    "\n",
    "# Cargar los datos\n",
    "bueno = pd.read_csv(\"dolar_bueno.csv\")\n",
    "malo = pd.read_csv(\"dolar_malo.csv\")\n",
    "\n",
    "# Crear la aplicación de Dash\n",
    "app = dash.Dash(__name__)\n",
    "\n",
    "# Definir el diseño de la aplicación\n",
    "app.layout = html.Div([\n",
    "    dcc.Tabs(id=\"tabs\", value='tab-descripcion', children=[\n",
    "        dcc.Tab(label='Descripción del caso', value='tab-descripcion'),\n",
    "        dcc.Tab(label='Tabla de Datos', value='tab-tabla-datos'),\n",
    "        dcc.Tab(label='Indicadores', value='tab-indicadores'),\n",
    "        dcc.Tab(label='Prueba', value='tab-prueba'),\n",
    "        dcc.Tab(label='Columnas', value='tab-columnas'),\n",
    "        dcc.Tab(label='Noticias r', value='tab-noticias')\n",
    "    ]),\n",
    "    html.Div(id='content')\n",
    "])\n",
    "\n",
    "# Función para mostrar el contenido correspondiente a cada pestaña\n",
    "@app.callback(\n",
    "    dash.dependencies.Output('content', 'children'),\n",
    "    [dash.dependencies.Input('tabs', 'value')]\n",
    ")\n",
    "def render_content(tab):\n",
    "    if tab == 'tab-descripcion':\n",
    "        return html.Div([\n",
    "            html.H2('Descripción del caso')\n",
    "        ])\n",
    "    elif tab == 'tab-tabla-datos':\n",
    "        return html.Div([\n",
    "            html.H2('Tabla de Datos')\n",
    "        ])\n",
    "    elif tab == 'tab-indicadores':\n",
    "        return html.Div([\n",
    "            html.H2('Indicadores'),\n",
    "            html.H3('Morosidad'),\n",
    "            html.H3('Solicitantes mujeres'),\n",
    "            html.H3('Gráfica de Morosidad'),\n",
    "            html.H3('Morosidad vs Edad')\n",
    "        ])\n",
    "    elif tab == 'tab-prueba':\n",
    "        return html.Div([\n",
    "            html.H2('Prueba')\n",
    "        ])\n",
    "    elif tab == 'tab-columnas':\n",
    "        return html.Div([\n",
    "            html.H2('Columnas'),\n",
    "            html.H3('Fila 1'),\n",
    "            html.H3('Fila 2'),\n",
    "            html.H3('Fila 1'),\n",
    "            html.H3('Fila 1'),\n",
    "            html.H3('Fila 2'),\n",
    "            html.H3('Fila 3')\n",
    "        ])\n",
    "    elif tab == 'tab-noticias':\n",
    "        return html.Div([\n",
    "            html.H2('Noticias r'),\n",
    "            dcc.Graph(\n",
    "                figure=go.Figure(data=[go.Table(\n",
    "                    header=dict(values=list(bueno.columns),\n",
    "                                fill_color='paleturquoise',\n",
    "                                align='left'),\n",
    "                    cells=dict(values=[bueno['TITULO'], bueno['FECHA'], bueno['URL']],\n",
    "                               fill_color='lavender',\n",
    "                               align='left'))\n",
    "                ])\n",
    "            ),\n",
    "            dcc.Graph(\n",
    "                figure=go.Figure(data=[go.Table(\n",
    "                    header=dict(values=list(malo.columns),\n",
    "                                fill_color='paleturquoise',\n",
    "                                align='left'),\n",
    "                    cells=dict(values=[malo['TITULO'], malo['FECHA'], malo['URL']],\n",
    "                               fill_color='lavender',\n",
    "                               align='left'))\n",
    "                ])\n",
    "            )\n",
    "        ])\n",
    "\n",
    "if __name__ == '__main__':\n",
    "    app.run_server(debug=False, port=8050)\n",
    "\n",
    "# Obtener el código HTML generado por la aplicación\n",
    "html_code = app.server.index_string()\n",
    "\n",
    "# Guardar la aplicación como archivo HTML\n",
    "app_file = \"dashboard.html\"\n",
    "with open(app_file, \"w\") as file:\n",
    "    file.write(html_code)\n",
    "\n",
    "print(f\"La aplicación se ha guardado en el archivo {app_file}\")\n"
   ]
  },
  {
   "cell_type": "code",
   "execution_count": 32,
   "id": "25b5e0f5",
   "metadata": {},
   "outputs": [
    {
     "data": {
      "text/html": [
       "\n",
       "        <iframe\n",
       "            width=\"100%\"\n",
       "            height=\"650\"\n",
       "            src=\"http://127.0.0.1:8050/\"\n",
       "            frameborder=\"0\"\n",
       "            allowfullscreen\n",
       "            \n",
       "        ></iframe>\n",
       "        "
      ],
      "text/plain": [
       "<IPython.lib.display.IFrame at 0x20b5ae24460>"
      ]
     },
     "metadata": {},
     "output_type": "display_data"
    },
    {
     "ename": "AttributeError",
     "evalue": "'Div' object has no attribute 'to_html'",
     "output_type": "error",
     "traceback": [
      "\u001b[1;31m---------------------------------------------------------------------------\u001b[0m",
      "\u001b[1;31mAttributeError\u001b[0m                            Traceback (most recent call last)",
      "Cell \u001b[1;32mIn[32], line 92\u001b[0m\n\u001b[0;32m     88\u001b[0m     app\u001b[38;5;241m.\u001b[39mrun_server(debug\u001b[38;5;241m=\u001b[39m\u001b[38;5;28;01mFalse\u001b[39;00m, port\u001b[38;5;241m=\u001b[39m\u001b[38;5;241m8050\u001b[39m)\n\u001b[0;32m     90\u001b[0m \u001b[38;5;66;03m# Obtener el código HTML generado por la aplicación\u001b[39;00m\n\u001b[0;32m     91\u001b[0m \u001b[38;5;66;03m# Obtén el código HTML generado\u001b[39;00m\n\u001b[1;32m---> 92\u001b[0m html_code \u001b[38;5;241m=\u001b[39m \u001b[43mapp\u001b[49m\u001b[38;5;241;43m.\u001b[39;49m\u001b[43mlayout\u001b[49m\u001b[38;5;241;43m.\u001b[39;49m\u001b[43mto_html\u001b[49m()\n\u001b[0;32m     94\u001b[0m \u001b[38;5;66;03m# Imprime el código HTML\u001b[39;00m\n\u001b[0;32m     95\u001b[0m \u001b[38;5;28mprint\u001b[39m(html_code)\n",
      "\u001b[1;31mAttributeError\u001b[0m: 'Div' object has no attribute 'to_html'"
     ]
    }
   ],
   "source": [
    "import dash\n",
    "import dash_core_components as dcc\n",
    "import dash_html_components as html\n",
    "import pandas as pd\n",
    "\n",
    "# Cargar los datos\n",
    "bueno = pd.read_csv(\"dolar_bueno.csv\")\n",
    "malo = pd.read_csv(\"dolar_malo.csv\")\n",
    "\n",
    "# Crear la aplicación de Dash\n",
    "app = dash.Dash(__name__)\n",
    "\n",
    "# Definir el diseño de la aplicación\n",
    "app.layout = html.Div([\n",
    "    dcc.Tabs(id=\"tabs\", value='tab-descripcion', children=[\n",
    "        dcc.Tab(label='Descripción del caso', value='tab-descripcion'),\n",
    "        dcc.Tab(label='Tabla de Datos', value='tab-tabla-datos'),\n",
    "        dcc.Tab(label='Indicadores', value='tab-indicadores'),\n",
    "        dcc.Tab(label='Prueba', value='tab-prueba'),\n",
    "        dcc.Tab(label='Columnas', value='tab-columnas'),\n",
    "        dcc.Tab(label='Noticias r', value='tab-noticias')\n",
    "    ]),\n",
    "    html.Div(id='content')\n",
    "])\n",
    "\n",
    "# Función para mostrar el contenido correspondiente a cada pestaña\n",
    "@app.callback(\n",
    "    dash.dependencies.Output('content', 'children'),\n",
    "    [dash.dependencies.Input('tabs', 'value')]\n",
    ")\n",
    "def render_content(tab):\n",
    "    if tab == 'tab-descripcion':\n",
    "        return html.Div([\n",
    "            html.H2('Descripción del caso')\n",
    "        ])\n",
    "    elif tab == 'tab-tabla-datos':\n",
    "        return html.Div([\n",
    "            html.H2('Tabla de Datos')\n",
    "        ])\n",
    "    elif tab == 'tab-indicadores':\n",
    "        return html.Div([\n",
    "            html.H2('Indicadores'),\n",
    "            html.H3('Morosidad'),\n",
    "            html.H3('Solicitantes mujeres'),\n",
    "            html.H3('Gráfica de Morosidad'),\n",
    "            html.H3('Morosidad vs Edad')\n",
    "        ])\n",
    "    elif tab == 'tab-prueba':\n",
    "        return html.Div([\n",
    "            html.H2('Prueba')\n",
    "        ])\n",
    "    elif tab == 'tab-columnas':\n",
    "        return html.Div([\n",
    "            html.H2('Columnas'),\n",
    "            html.H3('Fila 1'),\n",
    "            html.H3('Fila 2'),\n",
    "            html.H3('Fila 1'),\n",
    "            html.H3('Fila 1'),\n",
    "            html.H3('Fila 2'),\n",
    "            html.H3('Fila 3')\n",
    "        ])\n",
    "    elif tab == 'tab-noticias':\n",
    "        return html.Div([\n",
    "            html.H2('Noticias r'),\n",
    "            dcc.Graph(\n",
    "                figure=go.Figure(data=[go.Table(\n",
    "                    header=dict(values=list(bueno.columns),\n",
    "                                fill_color='paleturquoise',\n",
    "                                align='left'),\n",
    "                    cells=dict(values=[bueno['TITULO'], bueno['FECHA'], bueno['URL']],\n",
    "                               fill_color='lavender',\n",
    "                               align='left'))\n",
    "                ])\n",
    "            ),\n",
    "            dcc.Graph(\n",
    "                figure=go.Figure(data=[go.Table(\n",
    "                    header=dict(values=list(malo.columns),\n",
    "                                fill_color='paleturquoise',\n",
    "                                align='left'),\n",
    "                    cells=dict(values=[malo['TITULO'], malo['FECHA'], malo['URL']],\n",
    "                               fill_color='lavender',\n",
    "                               align='left'))\n",
    "                ])\n",
    "            )\n",
    "        ])\n",
    "\n",
    "if __name__ == '__main__':\n",
    "    app.run_server(debug=False, port=8050)\n",
    "\n",
    "# Obtener el código HTML generado por la aplicación\n",
    "# Obtén el código HTML generado\n",
    "html_code = app.layout.to_html()\n",
    "\n",
    "# Imprime el código HTML\n",
    "print(html_code)\n",
    "\n",
    "\n"
   ]
  },
  {
   "cell_type": "code",
   "execution_count": null,
   "id": "fd490363",
   "metadata": {},
   "outputs": [],
   "source": []
  },
  {
   "cell_type": "code",
   "execution_count": 31,
   "id": "3f8bcba0",
   "metadata": {},
   "outputs": [],
   "source": [
    "import dash\n",
    "import dash_html_components as html"
   ]
  },
  {
   "cell_type": "code",
   "execution_count": 33,
   "id": "422f37f4",
   "metadata": {},
   "outputs": [
    {
     "ename": "AttributeError",
     "evalue": "'Dash' object has no attribute 'server_layout'",
     "output_type": "error",
     "traceback": [
      "\u001b[1;31m---------------------------------------------------------------------------\u001b[0m",
      "\u001b[1;31mAttributeError\u001b[0m                            Traceback (most recent call last)",
      "Cell \u001b[1;32mIn[33], line 90\u001b[0m\n\u001b[0;32m     88\u001b[0m \u001b[38;5;66;03m# Obtener el código HTML generado por la aplicación\u001b[39;00m\n\u001b[0;32m     89\u001b[0m server \u001b[38;5;241m=\u001b[39m Flask(\u001b[38;5;18m__name__\u001b[39m)\n\u001b[1;32m---> 90\u001b[0m server\u001b[38;5;241m.\u001b[39mlayout \u001b[38;5;241m=\u001b[39m \u001b[43mapp\u001b[49m\u001b[38;5;241;43m.\u001b[39;49m\u001b[43mserver_layout\u001b[49m\n\u001b[0;32m     91\u001b[0m \u001b[38;5;28;01mwith\u001b[39;00m server\u001b[38;5;241m.\u001b[39mtest_client() \u001b[38;5;28;01mas\u001b[39;00m client:\n\u001b[0;32m     92\u001b[0m     response \u001b[38;5;241m=\u001b[39m client\u001b[38;5;241m.\u001b[39mget(\u001b[38;5;124m'\u001b[39m\u001b[38;5;124m/\u001b[39m\u001b[38;5;124m'\u001b[39m)\n",
      "\u001b[1;31mAttributeError\u001b[0m: 'Dash' object has no attribute 'server_layout'"
     ]
    }
   ],
   "source": [
    "import dash\n",
    "import dash_core_components as dcc\n",
    "import dash_html_components as html\n",
    "import pandas as pd\n",
    "from flask import Flask\n",
    "\n",
    "# Cargar los datos\n",
    "bueno = pd.read_csv(\"dolar_bueno.csv\")\n",
    "malo = pd.read_csv(\"dolar_malo.csv\")\n",
    "\n",
    "# Crear la aplicación de Dash\n",
    "app = dash.Dash(__name__)\n",
    "\n",
    "# Definir el diseño de la aplicación\n",
    "app.layout = html.Div([\n",
    "    dcc.Tabs(id=\"tabs\", value='tab-descripcion', children=[\n",
    "        dcc.Tab(label='Descripción del caso', value='tab-descripcion'),\n",
    "        dcc.Tab(label='Tabla de Datos', value='tab-tabla-datos'),\n",
    "        dcc.Tab(label='Indicadores', value='tab-indicadores'),\n",
    "        dcc.Tab(label='Prueba', value='tab-prueba'),\n",
    "        dcc.Tab(label='Columnas', value='tab-columnas'),\n",
    "        dcc.Tab(label='Noticias r', value='tab-noticias')\n",
    "    ]),\n",
    "    html.Div(id='content')\n",
    "])\n",
    "\n",
    "# Función para mostrar el contenido correspondiente a cada pestaña\n",
    "@app.callback(\n",
    "    dash.dependencies.Output('content', 'children'),\n",
    "    [dash.dependencies.Input('tabs', 'value')]\n",
    ")\n",
    "def render_content(tab):\n",
    "    if tab == 'tab-descripcion':\n",
    "        return html.Div([\n",
    "            html.H2('Descripción del caso')\n",
    "        ])\n",
    "    elif tab == 'tab-tabla-datos':\n",
    "        return html.Div([\n",
    "            html.H2('Tabla de Datos')\n",
    "        ])\n",
    "    elif tab == 'tab-indicadores':\n",
    "        return html.Div([\n",
    "            html.H2('Indicadores'),\n",
    "            html.H3('Morosidad'),\n",
    "            html.H3('Solicitantes mujeres'),\n",
    "            html.H3('Gráfica de Morosidad'),\n",
    "            html.H3('Morosidad vs Edad')\n",
    "        ])\n",
    "    elif tab == 'tab-prueba':\n",
    "        return html.Div([\n",
    "            html.H2('Prueba')\n",
    "        ])\n",
    "    elif tab == 'tab-columnas':\n",
    "        return html.Div([\n",
    "            html.H2('Columnas'),\n",
    "            html.H3('Fila 1'),\n",
    "            html.H3('Fila 2'),\n",
    "            html.H3('Fila 1'),\n",
    "            html.H3('Fila 1'),\n",
    "            html.H3('Fila 2'),\n",
    "            html.H3('Fila 3')\n",
    "        ])\n",
    "    elif tab == 'tab-noticias':\n",
    "        return html.Div([\n",
    "            html.H2('Noticias r'),\n",
    "            dcc.Graph(\n",
    "                figure=go.Figure(data=[go.Table(\n",
    "                    header=dict(values=list(bueno.columns),\n",
    "                                fill_color='paleturquoise',\n",
    "                                align='left'),\n",
    "                    cells=dict(values=[bueno['TITULO'], bueno['FECHA'], bueno['URL']],\n",
    "                               fill_color='lavender',\n",
    "                               align='left'))\n",
    "                ])\n",
    "            ),\n",
    "            dcc.Graph(\n",
    "                figure=go.Figure(data=[go.Table(\n",
    "                    header=dict(values=list(malo.columns),\n",
    "                                fill_color='paleturquoise',\n",
    "                                align='left'),\n",
    "                    cells=dict(values=[malo['TITULO'], malo['FECHA'], malo['URL']],\n",
    "                               fill_color='lavender',\n",
    "                               align='left'))\n",
    "                ])\n",
    "            )\n",
    "        ])\n",
    "\n",
    "# Obtener el código HTML generado por la aplicación\n",
    "server = Flask(__name__)\n",
    "server.layout = app.server_layout\n",
    "with server.test_client() as client:\n",
    "    response = client.get('/')\n",
    "    html_code = response.data.decode('utf-8')\n",
    "\n",
    "# Imprimir el código HTML\n",
    "print(html_code)\n"
   ]
  },
  {
   "cell_type": "code",
   "execution_count": 38,
   "id": "4978891a",
   "metadata": {},
   "outputs": [
    {
     "data": {
      "text/html": [
       "\n",
       "        <iframe\n",
       "            width=\"100%\"\n",
       "            height=\"650\"\n",
       "            src=\"http://127.0.0.1:8050/\"\n",
       "            frameborder=\"0\"\n",
       "            allowfullscreen\n",
       "            \n",
       "        ></iframe>\n",
       "        "
      ],
      "text/plain": [
       "<IPython.lib.display.IFrame at 0x20b5c2fb310>"
      ]
     },
     "metadata": {},
     "output_type": "display_data"
    }
   ],
   "source": [
    "import dash\n",
    "import dash_core_components as dcc\n",
    "import dash_html_components as html\n",
    "import pandas as pd\n",
    "from flask import Flask\n",
    "\n",
    "# Cargar los datos\n",
    "bueno = pd.read_csv(\"dolar_bueno.csv\")\n",
    "malo = pd.read_csv(\"dolar_malo.csv\")\n",
    "\n",
    "# Crear la aplicación de Dash\n",
    "app = dash.Dash(__name__)\n",
    "\n",
    "# Definir el diseño de la aplicación\n",
    "app.layout = html.Div([\n",
    "    dcc.Tabs(id=\"tabs\", value='tab-descripcion', children=[\n",
    "        dcc.Tab(label='Descripción del proyecto', value='tab-descripcion'),\n",
    "        dcc.Tab(label='Clasificacion de noticias sobre el dolar', value='tab-noticias'),\n",
    "        dcc.Tab(label='Indicadores economicos', value='tab-indicadores'),\n",
    "        dcc.Tab(label='Distritos-Precios', value='tab-prueba') ]),\n",
    "    html.Div(id='content')])\n",
    "\n",
    "# Función para mostrar el contenido correspondiente a cada pestaña\n",
    "@app.callback(\n",
    "    dash.dependencies.Output('content', 'children'),\n",
    "    [dash.dependencies.Input('tabs', 'value')]\n",
    ")\n",
    "def render_content(tab):\n",
    "    if tab == 'tab-descripcion':\n",
    "        return html.Div([\n",
    "            html.H2('Descripción del proyecto')\n",
    "        ])\n",
    "    \n",
    "    elif tab == 'tab-noticias':\n",
    "        return html.Div([\n",
    "            html.H2('Noticias'),\n",
    "            dcc.Graph(\n",
    "                figure=go.Figure(data=[go.Table(\n",
    "                    header=dict(values=list(bueno.columns),\n",
    "                                fill_color='paleturquoise',\n",
    "                                align='left'),\n",
    "                    cells=dict(values=[bueno['TITULO'], bueno['FECHA'], bueno['URL']],\n",
    "                               fill_color='lavender',\n",
    "                               align='left'))\n",
    "                ])\n",
    "            ),\n",
    "            dcc.Graph(\n",
    "                figure=go.Figure(data=[go.Table(\n",
    "                    header=dict(values=list(malo.columns),\n",
    "                                fill_color='paleturquoise',\n",
    "                                align='left'),\n",
    "                    cells=dict(values=[malo['TITULO'], malo['FECHA'], malo['URL']],\n",
    "                               fill_color='lavender',\n",
    "                               align='left'))\n",
    "                ])\n",
    "            )\n",
    "        ])\n",
    "    elif tab == 'tab-indicadores':\n",
    "        return html.Div([\n",
    "            html.H2('Indicadores'),\n",
    "            html.H3('Inflacion'),\n",
    "            html.H3('Soles VS Dolares'),\n",
    "        ])\n",
    "    elif tab == 'tab-prueba':\n",
    "        return html.Div([\n",
    "            html.H2('Distritos'),\n",
    "            html.H3('Promedios'),\n",
    "            html.H3('Maximo'),\n",
    "            html.H3('Minimo'),\n",
    "        ])\n",
    "    \n",
    "    \n",
    "if __name__ == '__main__':\n",
    "    app.run_server(debug=False, port=8050)\n",
    "    \n",
    "\n",
    "\n"
   ]
  },
  {
   "cell_type": "code",
   "execution_count": 36,
   "id": "39c22456",
   "metadata": {},
   "outputs": [],
   "source": [
    "# Esperar 3 segundos antes de realizar la solicitud\n",
    "time.sleep(3)\n",
    "\n",
    "# Obtener el código HTML generado por la aplicación\n",
    "server = app.server\n",
    "with server.test_client() as client:\n",
    "    response = client.get('/')\n",
    "    html_code = response.data.decode('utf-8')\n",
    "\n",
    "# Guardar el código HTML en un archivo\n",
    "with open('codigo.html', 'w') as file:\n",
    "    file.write(html_code)\n",
    "\n",
    "print(\"El código HTML se ha guardado en el archivo 'codigo.html'.\")"
   ]
  }
 ],
 "metadata": {
  "kernelspec": {
   "display_name": "Python 3 (ipykernel)",
   "language": "python",
   "name": "python3"
  },
  "language_info": {
   "codemirror_mode": {
    "name": "ipython",
    "version": 3
   },
   "file_extension": ".py",
   "mimetype": "text/x-python",
   "name": "python",
   "nbconvert_exporter": "python",
   "pygments_lexer": "ipython3",
   "version": "3.10.9"
  }
 },
 "nbformat": 4,
 "nbformat_minor": 5
}
